{
 "cells": [
  {
   "cell_type": "code",
   "execution_count": 1,
   "id": "9e7c1de3-6013-43d0-b67f-b77317e26726",
   "metadata": {},
   "outputs": [],
   "source": [
    "import numpy as np"
   ]
  },
  {
   "cell_type": "markdown",
   "id": "7b991817-a590-4960-a523-bdb787aa243d",
   "metadata": {},
   "source": [
    "### Concatenate"
   ]
  },
  {
   "cell_type": "code",
   "execution_count": 2,
   "id": "e709e391-c80d-418f-9b99-a27d09c90444",
   "metadata": {},
   "outputs": [
    {
     "data": {
      "text/plain": [
       "array([[61, 18, 50],\n",
       "       [65, 44,  7],\n",
       "       [10, 13, 41]], dtype=int32)"
      ]
     },
     "execution_count": 2,
     "metadata": {},
     "output_type": "execute_result"
    }
   ],
   "source": [
    "arr1=np.random.randint(1,100,size=(3,3))\n",
    "arr1"
   ]
  },
  {
   "cell_type": "code",
   "execution_count": 3,
   "id": "25630e85-b669-492b-bd27-13a6d084da2b",
   "metadata": {},
   "outputs": [
    {
     "data": {
      "text/plain": [
       "array([[ 9, 74, 57],\n",
       "       [76, 15, 60],\n",
       "       [70, 88, 95]], dtype=int32)"
      ]
     },
     "execution_count": 3,
     "metadata": {},
     "output_type": "execute_result"
    }
   ],
   "source": [
    "arr2=np.random.randint(1,100,size=(3,3))\n",
    "arr2"
   ]
  },
  {
   "cell_type": "code",
   "execution_count": 4,
   "id": "6603ca70-7bba-44bb-b47f-ed043898ccd3",
   "metadata": {},
   "outputs": [
    {
     "data": {
      "text/plain": [
       "array([[61, 18, 50],\n",
       "       [65, 44,  7],\n",
       "       [10, 13, 41],\n",
       "       [ 9, 74, 57],\n",
       "       [76, 15, 60],\n",
       "       [70, 88, 95]], dtype=int32)"
      ]
     },
     "execution_count": 4,
     "metadata": {},
     "output_type": "execute_result"
    }
   ],
   "source": [
    "merged_array = np.concatenate((arr1, arr2))\n",
    "merged_array"
   ]
  },
  {
   "cell_type": "markdown",
   "id": "ee50a7ae-2ad2-4118-b6d8-f7c87284f257",
   "metadata": {},
   "source": [
    "### Transpose"
   ]
  },
  {
   "cell_type": "code",
   "execution_count": 5,
   "id": "c3da88bd-d326-4167-92dd-dc984259b086",
   "metadata": {},
   "outputs": [
    {
     "data": {
      "text/plain": [
       "array([[89, 26, 11],\n",
       "       [80, 33, 79],\n",
       "       [49, 58, 57],\n",
       "       [75, 66, 81]], dtype=int32)"
      ]
     },
     "execution_count": 5,
     "metadata": {},
     "output_type": "execute_result"
    }
   ],
   "source": [
    "arr2d=np.random.randint(1,100,size=(4,3))\n",
    "arr2d"
   ]
  },
  {
   "cell_type": "code",
   "execution_count": 6,
   "id": "3a574d55-3c5a-4bcc-b406-bbdbd5b0808a",
   "metadata": {},
   "outputs": [
    {
     "data": {
      "text/plain": [
       "array([[89, 80, 49, 75],\n",
       "       [26, 33, 58, 66],\n",
       "       [11, 79, 57, 81]], dtype=int32)"
      ]
     },
     "execution_count": 6,
     "metadata": {},
     "output_type": "execute_result"
    }
   ],
   "source": [
    "np.transpose(arr2d)"
   ]
  },
  {
   "cell_type": "markdown",
   "id": "86919ec2-eebb-468d-a9b1-d0fe4b996061",
   "metadata": {},
   "source": [
    "## matrix multiplication"
   ]
  },
  {
   "cell_type": "code",
   "execution_count": 7,
   "id": "58d9ef9f-1451-41cb-ab46-104a301217ed",
   "metadata": {},
   "outputs": [
    {
     "data": {
      "text/plain": [
       "array([[9, 2],\n",
       "       [3, 1]], dtype=int32)"
      ]
     },
     "execution_count": 7,
     "metadata": {},
     "output_type": "execute_result"
    }
   ],
   "source": [
    "arr1=np.random.randint(1,10,size=(2,2))\n",
    "arr2=np.random.randint(1,10,size=(2,2))\n",
    "arr1"
   ]
  },
  {
   "cell_type": "code",
   "execution_count": 8,
   "id": "aa6b636f-31af-4d6c-bbfc-6432e05ba9f3",
   "metadata": {},
   "outputs": [
    {
     "data": {
      "text/plain": [
       "array([[2, 5],\n",
       "       [3, 4]], dtype=int32)"
      ]
     },
     "execution_count": 8,
     "metadata": {},
     "output_type": "execute_result"
    }
   ],
   "source": [
    "arr2"
   ]
  },
  {
   "cell_type": "code",
   "execution_count": 9,
   "id": "04ff00a7-c4fd-4b02-8d51-365a6a2056d6",
   "metadata": {},
   "outputs": [
    {
     "data": {
      "text/plain": [
       "array([[18, 10],\n",
       "       [ 9,  4]], dtype=int32)"
      ]
     },
     "execution_count": 9,
     "metadata": {},
     "output_type": "execute_result"
    }
   ],
   "source": [
    "arr1*arr2"
   ]
  },
  {
   "cell_type": "code",
   "execution_count": 12,
   "id": "dfdb060a-fe07-451e-ba6b-73b15b9258cf",
   "metadata": {},
   "outputs": [
    {
     "data": {
      "text/plain": [
       "array([[24, 53],\n",
       "       [ 9, 19]], dtype=int32)"
      ]
     },
     "execution_count": 12,
     "metadata": {},
     "output_type": "execute_result"
    }
   ],
   "source": [
    "np.dot(arr1,arr2) #matrix multiply"
   ]
  },
  {
   "cell_type": "code",
   "execution_count": 17,
   "id": "e404d923-6070-48a2-9973-43d5ec1fbb26",
   "metadata": {},
   "outputs": [
    {
     "data": {
      "text/plain": [
       "array([[84, 19, 95, 40, 93],\n",
       "       [30, 26, 65,  9, 35],\n",
       "       [73, 45, 72, 96, 67],\n",
       "       [91, 52, 75, 66, 49]], dtype=int32)"
      ]
     },
     "execution_count": 17,
     "metadata": {},
     "output_type": "execute_result"
    }
   ],
   "source": [
    "arr1=np.random.randint(1,100,size=(4,5))\n",
    "arr1"
   ]
  },
  {
   "cell_type": "code",
   "execution_count": 14,
   "id": "ec1869b3-ac7a-4d19-9d78-a66cee37af9c",
   "metadata": {},
   "outputs": [
    {
     "data": {
      "text/plain": [
       "array([[39, 49, 92],\n",
       "       [73, 16, 12],\n",
       "       [73, 90, 80],\n",
       "       [95, 25, 14],\n",
       "       [51, 59, 78]], dtype=int32)"
      ]
     },
     "execution_count": 14,
     "metadata": {},
     "output_type": "execute_result"
    }
   ],
   "source": [
    "arr2=np.random.randint(1,100,size=(5,3))\n",
    "arr2"
   ]
  },
  {
   "cell_type": "code",
   "execution_count": 18,
   "id": "d7275231-8cfc-4fb5-97b2-f56da0bf5382",
   "metadata": {},
   "outputs": [
    {
     "data": {
      "text/plain": [
       "array([[20141, 19457, 23370],\n",
       "       [10453, 10026, 11128],\n",
       "       [23925, 17130, 19586],\n",
       "       [21589, 16582, 19742]], dtype=int32)"
      ]
     },
     "execution_count": 18,
     "metadata": {},
     "output_type": "execute_result"
    }
   ],
   "source": [
    "np.dot(arr1,arr2)"
   ]
  },
  {
   "cell_type": "markdown",
   "id": "65454aaf-cd31-4ddb-9d55-aa50f0af4093",
   "metadata": {},
   "source": [
    "### Different Functions in Numpy"
   ]
  },
  {
   "cell_type": "markdown",
   "id": "0b8498dd-94b9-4343-b0ac-374be8a24bbe",
   "metadata": {},
   "source": [
    "### np.where(), if condition True,else condition(false)"
   ]
  },
  {
   "cell_type": "code",
   "execution_count": 19,
   "id": "083cbe41-038d-44ed-bca8-3fd51d96d218",
   "metadata": {},
   "outputs": [
    {
     "data": {
      "text/plain": [
       "array([ 1, 20, 33,  4,  5,  6])"
      ]
     },
     "execution_count": 19,
     "metadata": {},
     "output_type": "execute_result"
    }
   ],
   "source": [
    "arr1=np.array([1,20,33,4,5,6])\n",
    "arr1"
   ]
  },
  {
   "cell_type": "code",
   "execution_count": 21,
   "id": "d56587b1-0c72-46f6-b89d-1c153741b3ab",
   "metadata": {},
   "outputs": [
    {
     "data": {
      "text/plain": [
       "(array([1, 3, 5]),)"
      ]
     },
     "execution_count": 21,
     "metadata": {},
     "output_type": "execute_result"
    }
   ],
   "source": [
    "np.where(arr1%2==0) #shows index position"
   ]
  },
  {
   "cell_type": "code",
   "execution_count": 23,
   "id": "6713b507-d22b-4884-8ada-178aaea700b2",
   "metadata": {},
   "outputs": [
    {
     "data": {
      "text/plain": [
       "array([1, 3, 5])"
      ]
     },
     "execution_count": 23,
     "metadata": {},
     "output_type": "execute_result"
    }
   ],
   "source": [
    "arr1=np.where(arr1%2==0)[0]\n",
    "arr1"
   ]
  },
  {
   "cell_type": "code",
   "execution_count": 27,
   "id": "efa1ed06-d06d-49db-b2e8-867ea256df87",
   "metadata": {},
   "outputs": [
    {
     "data": {
      "text/plain": [
       "array(['odd', 'odd', 'odd'], dtype='<U4')"
      ]
     },
     "execution_count": 27,
     "metadata": {},
     "output_type": "execute_result"
    }
   ],
   "source": [
    "np.where(arr1%2==0,'even','odd')"
   ]
  },
  {
   "cell_type": "markdown",
   "id": "226ade35-fa3d-488b-b791-1ade23fc966a",
   "metadata": {},
   "source": [
    "### Generate a random array and add the 10 for the even no.of array."
   ]
  },
  {
   "cell_type": "code",
   "execution_count": 30,
   "id": "bf78d281-1e38-4361-bf6f-1356c3704388",
   "metadata": {},
   "outputs": [
    {
     "data": {
      "text/plain": [
       "array([2, 4, 6, 7, 8, 9])"
      ]
     },
     "execution_count": 30,
     "metadata": {},
     "output_type": "execute_result"
    }
   ],
   "source": [
    "arr3=np.array([2,4,6,7,8,9])\n",
    "arr3"
   ]
  },
  {
   "cell_type": "code",
   "execution_count": 33,
   "id": "d360309e-7a03-44ad-8e46-78ba4cdf2775",
   "metadata": {},
   "outputs": [
    {
     "data": {
      "text/plain": [
       "array([12, 14, 16,  7, 18,  9])"
      ]
     },
     "execution_count": 33,
     "metadata": {},
     "output_type": "execute_result"
    }
   ],
   "source": [
    "np.where(arr3%2==0, arr3+10, arr3)"
   ]
  },
  {
   "cell_type": "markdown",
   "id": "39cc1b0a-7d85-4a3a-9f3b-4216243f5204",
   "metadata": {},
   "source": [
    "### np.sort()"
   ]
  },
  {
   "cell_type": "code",
   "execution_count": 35,
   "id": "e4611594-8b1a-4243-95f2-50c981eb0a8f",
   "metadata": {},
   "outputs": [
    {
     "data": {
      "text/plain": [
       "array([61,  4, 80, 55, 85, 43, 74, 43,  6, 25, 17, 88, 82, 13, 63],\n",
       "      dtype=int32)"
      ]
     },
     "execution_count": 35,
     "metadata": {},
     "output_type": "execute_result"
    }
   ],
   "source": [
    "arr1=np.random.randint(1,100,15)\n",
    "arr1"
   ]
  },
  {
   "cell_type": "code",
   "execution_count": 36,
   "id": "ed46278c-ee8b-419f-85d8-ee1549e9e184",
   "metadata": {},
   "outputs": [
    {
     "data": {
      "text/plain": [
       "array([ 4,  6, 13, 17, 25, 43, 43, 55, 61, 63, 74, 80, 82, 85, 88],\n",
       "      dtype=int32)"
      ]
     },
     "execution_count": 36,
     "metadata": {},
     "output_type": "execute_result"
    }
   ],
   "source": [
    "np.sort(arr1)"
   ]
  },
  {
   "cell_type": "code",
   "execution_count": 37,
   "id": "cc75e860-7677-467e-a38f-b2df32cb7b56",
   "metadata": {},
   "outputs": [
    {
     "data": {
      "text/plain": [
       "array([61,  4, 80, 55, 85, 43, 74, 43,  6, 25, 17, 88, 82, 13, 63],\n",
       "      dtype=int32)"
      ]
     },
     "execution_count": 37,
     "metadata": {},
     "output_type": "execute_result"
    }
   ],
   "source": [
    "arr1"
   ]
  },
  {
   "cell_type": "code",
   "execution_count": 41,
   "id": "27e9da68-a3a9-4813-a2bf-b1147f3d4865",
   "metadata": {},
   "outputs": [
    {
     "data": {
      "text/plain": [
       "array([88, 85, 82, 80, 74, 63, 61, 55, 43, 43, 25, 17, 13,  6,  4],\n",
       "      dtype=int32)"
      ]
     },
     "execution_count": 41,
     "metadata": {},
     "output_type": "execute_result"
    }
   ],
   "source": [
    "np.sort(arr1)[::-1]"
   ]
  },
  {
   "cell_type": "code",
   "execution_count": 43,
   "id": "76be2f52-0aed-48ca-87e6-1e5e6d478d60",
   "metadata": {},
   "outputs": [
    {
     "data": {
      "text/plain": [
       "array([88, 85, 82, 80, 74, 63, 61, 55, 43, 43, 25, 17, 13,  6,  4],\n",
       "      dtype=int32)"
      ]
     },
     "execution_count": 43,
     "metadata": {},
     "output_type": "execute_result"
    }
   ],
   "source": [
    "arr1=np.sort(arr1)[::-1]\n",
    "arr1"
   ]
  },
  {
   "cell_type": "code",
   "execution_count": 44,
   "id": "44f1e79d-f1a6-406b-ad47-b6ec64bd5ac9",
   "metadata": {},
   "outputs": [
    {
     "data": {
      "text/plain": [
       "array([88, 85, 82, 80, 74, 63, 61, 55, 43, 43, 25, 17, 13,  6,  4],\n",
       "      dtype=int32)"
      ]
     },
     "execution_count": 44,
     "metadata": {},
     "output_type": "execute_result"
    }
   ],
   "source": [
    "arr1 #now as i reassign the data in arr1 now this decending order data has permanent data."
   ]
  },
  {
   "cell_type": "markdown",
   "id": "30e44559-48b2-4351-aaff-22e0e264bbfe",
   "metadata": {},
   "source": [
    "### np.delete()"
   ]
  },
  {
   "cell_type": "code",
   "execution_count": 45,
   "id": "8dbe6975-d381-4f63-88dd-44c66c963100",
   "metadata": {},
   "outputs": [
    {
     "data": {
      "text/plain": [
       "array([85, 82, 80, 74, 63, 61, 55, 43, 43, 25, 17, 13,  6,  4],\n",
       "      dtype=int32)"
      ]
     },
     "execution_count": 45,
     "metadata": {},
     "output_type": "execute_result"
    }
   ],
   "source": [
    "np.delete(arr1,0) #0 index gets deleted."
   ]
  },
  {
   "cell_type": "code",
   "execution_count": 49,
   "id": "55100c26-06fb-449d-801f-484a7d28b404",
   "metadata": {},
   "outputs": [
    {
     "data": {
      "text/plain": [
       "array([100, 200,  82,  80,  74,  63,  61,  55,  43,  43,  25,  17,  13,\n",
       "         6,   4], dtype=int32)"
      ]
     },
     "execution_count": 49,
     "metadata": {},
     "output_type": "execute_result"
    }
   ],
   "source": [
    "np.put(arr1,[0,1],[100,200]) #replacing\n",
    "arr1"
   ]
  },
  {
   "cell_type": "markdown",
   "id": "8ba3939c-ade0-4881-b347-1b8e4aeeaa49",
   "metadata": {},
   "source": [
    "### np.insert()"
   ]
  },
  {
   "cell_type": "code",
   "execution_count": 50,
   "id": "027fd683-5b41-4647-9751-ee04319e60ab",
   "metadata": {},
   "outputs": [
    {
     "data": {
      "text/plain": [
       "array([ 100, 1000,  200,   82,   80,   74,   63,   61,   55,   43,   43,\n",
       "         25,   17,   13,    6,    4], dtype=int32)"
      ]
     },
     "execution_count": 50,
     "metadata": {},
     "output_type": "execute_result"
    }
   ],
   "source": [
    "np.insert(arr1,1,1000)"
   ]
  },
  {
   "cell_type": "code",
   "execution_count": null,
   "id": "a1e38b74-b3bc-435c-bf8e-c13abcf07e67",
   "metadata": {},
   "outputs": [],
   "source": [
    "#note:result dekhayena vane=temporary change if shows then permanent change ho."
   ]
  }
 ],
 "metadata": {
  "kernelspec": {
   "display_name": "Python 3 (ipykernel)",
   "language": "python",
   "name": "python3"
  },
  "language_info": {
   "codemirror_mode": {
    "name": "ipython",
    "version": 3
   },
   "file_extension": ".py",
   "mimetype": "text/x-python",
   "name": "python",
   "nbconvert_exporter": "python",
   "pygments_lexer": "ipython3",
   "version": "3.12.10"
  }
 },
 "nbformat": 4,
 "nbformat_minor": 5
}
