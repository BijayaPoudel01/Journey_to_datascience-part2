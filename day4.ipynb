{
 "cells": [
  {
   "cell_type": "code",
   "execution_count": 1,
   "id": "009ef6af-f4fb-4709-b623-31073bfb8134",
   "metadata": {},
   "outputs": [],
   "source": [
    "import numpy as np"
   ]
  },
  {
   "cell_type": "code",
   "execution_count": 2,
   "id": "985b59c5-b4b3-499d-afcb-ddfadf7b8a1b",
   "metadata": {},
   "outputs": [
    {
     "data": {
      "text/plain": [
       "array([[30, 19, 43, 20],\n",
       "       [74, 33, 20, 39],\n",
       "       [73, 45, 27, 54]], dtype=int32)"
      ]
     },
     "execution_count": 2,
     "metadata": {},
     "output_type": "execute_result"
    }
   ],
   "source": [
    "arr2d=np.random.randint(1,100, size=(3,4))\n",
    "arr2d"
   ]
  },
  {
   "cell_type": "markdown",
   "id": "b32e2eba-f42a-416e-9710-22cf20a2caae",
   "metadata": {},
   "source": [
    "## Different aggregate functions=min,max,mean,median,std var,cumsum,sun,argmin,argmax)"
   ]
  },
  {
   "cell_type": "markdown",
   "id": "66859c8b-91d2-4009-a8c9-44a678ea8979",
   "metadata": {},
   "source": [
    "### min"
   ]
  },
  {
   "cell_type": "code",
   "execution_count": 3,
   "id": "15278c87-2b03-4cd8-b944-f45508dfb2a0",
   "metadata": {},
   "outputs": [
    {
     "data": {
      "text/plain": [
       "np.int32(19)"
      ]
     },
     "execution_count": 3,
     "metadata": {},
     "output_type": "execute_result"
    }
   ],
   "source": [
    "np.min(arr2d)"
   ]
  },
  {
   "cell_type": "code",
   "execution_count": 4,
   "id": "ddc1aabe-a41b-450a-b025-c39fbdde5b32",
   "metadata": {},
   "outputs": [
    {
     "data": {
      "text/plain": [
       "array([30, 19, 20, 20], dtype=int32)"
      ]
     },
     "execution_count": 4,
     "metadata": {},
     "output_type": "execute_result"
    }
   ],
   "source": [
    "np.min(arr2d,axis=0) #fetch minimum value from the column using axis=0"
   ]
  },
  {
   "cell_type": "code",
   "execution_count": 5,
   "id": "5483aed4-adf6-43fb-a6c9-318e98eeb34a",
   "metadata": {},
   "outputs": [
    {
     "data": {
      "text/plain": [
       "array([[30, 19, 43, 20],\n",
       "       [74, 33, 20, 39],\n",
       "       [73, 45, 27, 54]], dtype=int32)"
      ]
     },
     "execution_count": 5,
     "metadata": {},
     "output_type": "execute_result"
    }
   ],
   "source": [
    "arr2d"
   ]
  },
  {
   "cell_type": "code",
   "execution_count": 6,
   "id": "b53d64ba-2a02-4139-b067-114e8d07c74e",
   "metadata": {},
   "outputs": [
    {
     "data": {
      "text/plain": [
       "array([19, 20, 27], dtype=int32)"
      ]
     },
     "execution_count": 6,
     "metadata": {},
     "output_type": "execute_result"
    }
   ],
   "source": [
    "np.min(arr2d,axis=1) #fetch minimum value row wise."
   ]
  },
  {
   "cell_type": "markdown",
   "id": "5d793511-a629-422a-9dd4-07282679a139",
   "metadata": {},
   "source": [
    "### max"
   ]
  },
  {
   "cell_type": "code",
   "execution_count": 7,
   "id": "4b5ce004-3693-4ad2-8682-a3eacc2f9996",
   "metadata": {},
   "outputs": [
    {
     "data": {
      "text/plain": [
       "array([[30, 19, 43, 20],\n",
       "       [74, 33, 20, 39],\n",
       "       [73, 45, 27, 54]], dtype=int32)"
      ]
     },
     "execution_count": 7,
     "metadata": {},
     "output_type": "execute_result"
    }
   ],
   "source": [
    "arr2d"
   ]
  },
  {
   "cell_type": "code",
   "execution_count": 8,
   "id": "93d77b2b-9462-4b86-8171-f6c7f50f79e2",
   "metadata": {},
   "outputs": [
    {
     "data": {
      "text/plain": [
       "np.int32(74)"
      ]
     },
     "execution_count": 8,
     "metadata": {},
     "output_type": "execute_result"
    }
   ],
   "source": [
    "np.max(arr2d)"
   ]
  },
  {
   "cell_type": "code",
   "execution_count": 9,
   "id": "ef1110e7-2415-4594-b30f-6ef34c41220d",
   "metadata": {},
   "outputs": [
    {
     "data": {
      "text/plain": [
       "array([74, 45, 43, 54], dtype=int32)"
      ]
     },
     "execution_count": 9,
     "metadata": {},
     "output_type": "execute_result"
    }
   ],
   "source": [
    "np.max(arr2d, axis=0)"
   ]
  },
  {
   "cell_type": "code",
   "execution_count": 10,
   "id": "1696ed9d-46de-450a-a4c4-7f7114b01b38",
   "metadata": {},
   "outputs": [
    {
     "data": {
      "text/plain": [
       "array([43, 74, 73], dtype=int32)"
      ]
     },
     "execution_count": 10,
     "metadata": {},
     "output_type": "execute_result"
    }
   ],
   "source": [
    "np.max(arr2d,axis=1)"
   ]
  },
  {
   "cell_type": "markdown",
   "id": "66995afa-a5a6-46e5-914b-178905eb0c5b",
   "metadata": {},
   "source": [
    "### mean(average)"
   ]
  },
  {
   "cell_type": "code",
   "execution_count": 11,
   "id": "e232ee05-057f-4afa-a6f5-3643acdd0712",
   "metadata": {},
   "outputs": [
    {
     "data": {
      "text/plain": [
       "4.833333333333333"
      ]
     },
     "execution_count": 11,
     "metadata": {},
     "output_type": "execute_result"
    }
   ],
   "source": [
    "hi=[1,2,3,5,8,10]\n",
    "mean=sum(hi)/len(hi)\n",
    "mean"
   ]
  },
  {
   "cell_type": "code",
   "execution_count": 12,
   "id": "f52c0347-0dd9-4a55-a506-4b88cab15ee1",
   "metadata": {},
   "outputs": [
    {
     "data": {
      "text/plain": [
       "np.float64(4.833333333333333)"
      ]
     },
     "execution_count": 12,
     "metadata": {},
     "output_type": "execute_result"
    }
   ],
   "source": [
    "np.mean(hi) #we can directly get the mean(average) in this way."
   ]
  },
  {
   "cell_type": "code",
   "execution_count": 13,
   "id": "4b9e7fa0-9d2e-4d69-a889-54131cabcefd",
   "metadata": {},
   "outputs": [
    {
     "data": {
      "text/plain": [
       "np.float64(41.5)"
      ]
     },
     "execution_count": 13,
     "metadata": {},
     "output_type": "execute_result"
    }
   ],
   "source": [
    "np.mean(arr2d[1])\n",
    "#mean from rows."
   ]
  },
  {
   "cell_type": "code",
   "execution_count": 14,
   "id": "8e667b87-de34-45c7-bdc7-181fbd408d94",
   "metadata": {},
   "outputs": [
    {
     "data": {
      "text/plain": [
       "array([74, 33, 20, 39], dtype=int32)"
      ]
     },
     "execution_count": 14,
     "metadata": {},
     "output_type": "execute_result"
    }
   ],
   "source": [
    "arr2d[1] #gives the mean of first row"
   ]
  },
  {
   "cell_type": "code",
   "execution_count": 15,
   "id": "30d8acab-4dcf-4e28-8441-5a84eb5fa2b4",
   "metadata": {},
   "outputs": [
    {
     "data": {
      "text/plain": [
       "np.float64(28.0)"
      ]
     },
     "execution_count": 15,
     "metadata": {},
     "output_type": "execute_result"
    }
   ],
   "source": [
    "np.mean(arr2d[0])"
   ]
  },
  {
   "cell_type": "code",
   "execution_count": 16,
   "id": "5a977b82-6365-4b85-88c3-4725e6e4711f",
   "metadata": {},
   "outputs": [
    {
     "data": {
      "text/plain": [
       "array([73, 45, 27, 54], dtype=int32)"
      ]
     },
     "execution_count": 16,
     "metadata": {},
     "output_type": "execute_result"
    }
   ],
   "source": [
    "arr2d[2]"
   ]
  },
  {
   "cell_type": "code",
   "execution_count": 17,
   "id": "bb55c433-5118-48b4-b299-7602fe0b33d0",
   "metadata": {},
   "outputs": [
    {
     "data": {
      "text/plain": [
       "array([28.  , 41.5 , 49.75])"
      ]
     },
     "execution_count": 17,
     "metadata": {},
     "output_type": "execute_result"
    }
   ],
   "source": [
    "np.mean(arr2d, axis=1) #every row neab calculates."
   ]
  },
  {
   "cell_type": "code",
   "execution_count": 18,
   "id": "8d738a0b-1af5-4a23-83d2-abfee8fc7008",
   "metadata": {},
   "outputs": [
    {
     "data": {
      "text/plain": [
       "np.float64(19.0)"
      ]
     },
     "execution_count": 18,
     "metadata": {},
     "output_type": "execute_result"
    }
   ],
   "source": [
    "np.mean(arr2d[0][1])"
   ]
  },
  {
   "cell_type": "markdown",
   "id": "927186fb-5b4e-4547-93b7-22bbe3d4334f",
   "metadata": {},
   "source": [
    "### custom average"
   ]
  },
  {
   "cell_type": "code",
   "execution_count": 19,
   "id": "0d0a3db3-8b21-43c4-bcf0-84595f321bdf",
   "metadata": {},
   "outputs": [
    {
     "data": {
      "text/plain": [
       "array([177,  97,  90, 113], dtype=int32)"
      ]
     },
     "execution_count": 19,
     "metadata": {},
     "output_type": "execute_result"
    }
   ],
   "source": [
    "sum(arr2d)"
   ]
  },
  {
   "cell_type": "code",
   "execution_count": 20,
   "id": "c9c10664-a626-4807-af88-a04bcd33efe8",
   "metadata": {},
   "outputs": [
    {
     "data": {
      "text/plain": [
       "12"
      ]
     },
     "execution_count": 20,
     "metadata": {},
     "output_type": "execute_result"
    }
   ],
   "source": [
    "arr2d.size"
   ]
  },
  {
   "cell_type": "code",
   "execution_count": 21,
   "id": "46efd688-d9a9-4347-a980-96d86777f174",
   "metadata": {},
   "outputs": [
    {
     "data": {
      "text/plain": [
       "array([59.        , 32.33333333, 30.        , 37.66666667])"
      ]
     },
     "execution_count": 21,
     "metadata": {},
     "output_type": "execute_result"
    }
   ],
   "source": [
    "np.mean(arr2d,axis=0)"
   ]
  },
  {
   "cell_type": "code",
   "execution_count": 22,
   "id": "05ffbbd4-1e28-44a4-8aa7-1af3022d856d",
   "metadata": {},
   "outputs": [
    {
     "data": {
      "text/plain": [
       "array([28.  , 41.5 , 49.75])"
      ]
     },
     "execution_count": 22,
     "metadata": {},
     "output_type": "execute_result"
    }
   ],
   "source": [
    "np.mean(arr2d,axis=1)"
   ]
  },
  {
   "cell_type": "markdown",
   "id": "d356d615-d72d-4801-a19d-5b0c73256a12",
   "metadata": {},
   "source": [
    "### cumulative sum"
   ]
  },
  {
   "cell_type": "code",
   "execution_count": 23,
   "id": "fded761d-5b64-4400-a566-7d213dbc5c25",
   "metadata": {},
   "outputs": [
    {
     "data": {
      "text/plain": [
       "array([10, 20, 30, 40, 50])"
      ]
     },
     "execution_count": 23,
     "metadata": {},
     "output_type": "execute_result"
    }
   ],
   "source": [
    "arr=np.array([10,20,30,40,50])\n",
    "arr"
   ]
  },
  {
   "cell_type": "code",
   "execution_count": 24,
   "id": "45fc6e28-bbef-4940-97e1-fbcbdea4d514",
   "metadata": {},
   "outputs": [
    {
     "data": {
      "text/plain": [
       "array([ 10,  30,  60, 100, 150])"
      ]
     },
     "execution_count": 24,
     "metadata": {},
     "output_type": "execute_result"
    }
   ],
   "source": [
    "### Find the day the subscriber cross the 200.\n",
    "np.cumsum(arr) # sum gardai janxa."
   ]
  },
  {
   "cell_type": "code",
   "execution_count": 25,
   "id": "c1d184fd-5237-4848-a095-84761dc346c1",
   "metadata": {},
   "outputs": [
    {
     "data": {
      "text/plain": [
       "array([[ 30,  19,  43,  20],\n",
       "       [104,  52,  63,  59],\n",
       "       [177,  97,  90, 113]])"
      ]
     },
     "execution_count": 25,
     "metadata": {},
     "output_type": "execute_result"
    }
   ],
   "source": [
    "np.cumsum(arr2d,axis=0)"
   ]
  },
  {
   "cell_type": "markdown",
   "id": "4b691763-6094-4154-8737-5f43e66ef109",
   "metadata": {},
   "source": [
    "### argmax and argmin"
   ]
  },
  {
   "cell_type": "code",
   "execution_count": 26,
   "id": "b26eb898-a6bb-41e1-afac-810e10ae7365",
   "metadata": {},
   "outputs": [
    {
     "data": {
      "text/plain": [
       "np.int64(1)"
      ]
     },
     "execution_count": 26,
     "metadata": {},
     "output_type": "execute_result"
    }
   ],
   "source": [
    "np.argmin(arr2d) #represent index position"
   ]
  },
  {
   "cell_type": "code",
   "execution_count": 27,
   "id": "17f7b8f3-c340-4d2f-af78-e1975c27be95",
   "metadata": {},
   "outputs": [
    {
     "data": {
      "text/plain": [
       "array([[30, 19, 43, 20],\n",
       "       [74, 33, 20, 39],\n",
       "       [73, 45, 27, 54]], dtype=int32)"
      ]
     },
     "execution_count": 27,
     "metadata": {},
     "output_type": "execute_result"
    }
   ],
   "source": [
    "arr2d"
   ]
  },
  {
   "cell_type": "code",
   "execution_count": 28,
   "id": "aa7216ea-0eee-469b-a109-0ed543105e48",
   "metadata": {},
   "outputs": [
    {
     "data": {
      "text/plain": [
       "array([2, 0, 0])"
      ]
     },
     "execution_count": 28,
     "metadata": {},
     "output_type": "execute_result"
    }
   ],
   "source": [
    "np.argmax(arr2d,axis=1)"
   ]
  },
  {
   "cell_type": "markdown",
   "id": "d57d9632-2115-4630-8cbb-1a9f233aff8e",
   "metadata": {},
   "source": [
    "### median (n+1)\\2"
   ]
  },
  {
   "cell_type": "code",
   "execution_count": 29,
   "id": "1504641a-dee0-4c3c-a23f-addaf4946fbc",
   "metadata": {},
   "outputs": [
    {
     "data": {
      "text/plain": [
       "np.float64(30.0)"
      ]
     },
     "execution_count": 29,
     "metadata": {},
     "output_type": "execute_result"
    }
   ],
   "source": [
    "np.median(arr)"
   ]
  },
  {
   "cell_type": "code",
   "execution_count": 30,
   "id": "c003e644-99d7-44c9-a376-f90a83790d87",
   "metadata": {},
   "outputs": [
    {
     "data": {
      "text/plain": [
       "array([10, 20, 30, 40, 50])"
      ]
     },
     "execution_count": 30,
     "metadata": {},
     "output_type": "execute_result"
    }
   ],
   "source": [
    "arr"
   ]
  },
  {
   "cell_type": "markdown",
   "id": "3a3230a5-ace1-40c8-bb90-6a1fbd0ac4c9",
   "metadata": {},
   "source": [
    "## relational operator >,<,==,<=,>=,!="
   ]
  },
  {
   "cell_type": "code",
   "execution_count": 31,
   "id": "28c45cec-d21f-48fa-92e8-83fe0f10a8b4",
   "metadata": {},
   "outputs": [
    {
     "data": {
      "text/plain": [
       "array([10, 61, 37, 52, 36, 25, 71, 67, 51, 30], dtype=int32)"
      ]
     },
     "execution_count": 31,
     "metadata": {},
     "output_type": "execute_result"
    }
   ],
   "source": [
    "#used in data filtering\n",
    "hi=np.random.randint(1,100,10)\n",
    "hi"
   ]
  },
  {
   "cell_type": "code",
   "execution_count": 32,
   "id": "79a8444b-521e-4059-8190-75ac5454f124",
   "metadata": {},
   "outputs": [
    {
     "data": {
      "text/plain": [
       "array([False,  True, False,  True, False, False,  True,  True,  True,\n",
       "       False])"
      ]
     },
     "execution_count": 32,
     "metadata": {},
     "output_type": "execute_result"
    }
   ],
   "source": [
    "### find the element greater than 50\n",
    "hi>50"
   ]
  },
  {
   "cell_type": "code",
   "execution_count": 36,
   "id": "ac2b5440-b2f5-42c3-86bc-45b64b2338bc",
   "metadata": {},
   "outputs": [
    {
     "data": {
      "text/plain": [
       "array([61, 52, 71, 67, 51], dtype=int32)"
      ]
     },
     "execution_count": 36,
     "metadata": {},
     "output_type": "execute_result"
    }
   ],
   "source": [
    "hi[hi>50]"
   ]
  },
  {
   "cell_type": "code",
   "execution_count": 37,
   "id": "554134dd-dfa1-4c63-9154-f6bf199f0e2f",
   "metadata": {},
   "outputs": [
    {
     "data": {
      "text/plain": [
       "array([ True, False,  True, False,  True,  True, False, False, False,\n",
       "        True])"
      ]
     },
     "execution_count": 37,
     "metadata": {},
     "output_type": "execute_result"
    }
   ],
   "source": [
    "hi<=50"
   ]
  },
  {
   "cell_type": "code",
   "execution_count": 38,
   "id": "14331313-8e0e-48fd-9bfa-d51aabbffdb3",
   "metadata": {},
   "outputs": [
    {
     "data": {
      "text/plain": [
       "array([10, 37, 36, 25, 30], dtype=int32)"
      ]
     },
     "execution_count": 38,
     "metadata": {},
     "output_type": "execute_result"
    }
   ],
   "source": [
    "hi[hi<=50]"
   ]
  },
  {
   "cell_type": "markdown",
   "id": "63f1f1f1-f9f8-4112-99f4-02e43a064627",
   "metadata": {},
   "source": [
    "### find element except 44"
   ]
  },
  {
   "cell_type": "raw",
   "id": "bdd8bb4a-a909-45b6-9ec1-93c1a8e6b1b4",
   "metadata": {},
   "source": [
    "hi!=52"
   ]
  },
  {
   "cell_type": "code",
   "execution_count": 42,
   "id": "07f318a0-4a81-4378-acab-fc25646db2e1",
   "metadata": {},
   "outputs": [
    {
     "data": {
      "text/plain": [
       "array([10, 61, 37, 36, 25, 71, 67, 51, 30], dtype=int32)"
      ]
     },
     "execution_count": 42,
     "metadata": {},
     "output_type": "execute_result"
    }
   ],
   "source": [
    "hi[hi!=52]"
   ]
  },
  {
   "cell_type": "markdown",
   "id": "bd0a310b-7a54-40a5-b330-2a82b1f30edc",
   "metadata": {},
   "source": [
    "### logical operator"
   ]
  },
  {
   "cell_type": "code",
   "execution_count": 44,
   "id": "b37782fc-70e9-460b-984a-7c6ba1aff8be",
   "metadata": {},
   "outputs": [
    {
     "data": {
      "text/plain": [
       "True"
      ]
     },
     "execution_count": 44,
     "metadata": {},
     "output_type": "execute_result"
    }
   ],
   "source": [
    "not((50>60)and(20<30))"
   ]
  },
  {
   "cell_type": "code",
   "execution_count": 48,
   "id": "b3581597-97f3-45fc-928b-db115eef1c7e",
   "metadata": {},
   "outputs": [
    {
     "data": {
      "text/plain": [
       "array([False,  True,  True,  True,  True])"
      ]
     },
     "execution_count": 48,
     "metadata": {},
     "output_type": "execute_result"
    }
   ],
   "source": [
    "arr=np.array([3,5,10,15,20])\n",
    "arr%5==0"
   ]
  },
  {
   "cell_type": "markdown",
   "id": "e21960cb-adca-4544-b111-c48a309c1d92",
   "metadata": {},
   "source": [
    "### find the no that are divisible by 5 and 3"
   ]
  },
  {
   "cell_type": "code",
   "execution_count": 49,
   "id": "50f4d4d4-bf58-4e97-b949-e3a4e8eff4e9",
   "metadata": {},
   "outputs": [
    {
     "data": {
      "text/plain": [
       "array([False, False, False,  True, False])"
      ]
     },
     "execution_count": 49,
     "metadata": {},
     "output_type": "execute_result"
    }
   ],
   "source": [
    "(arr%3==0)&(arr%5==0)"
   ]
  },
  {
   "cell_type": "code",
   "execution_count": null,
   "id": "78fe0dc4-8d71-4843-9d57-d8784fac8782",
   "metadata": {},
   "outputs": [],
   "source": []
  }
 ],
 "metadata": {
  "kernelspec": {
   "display_name": "Python 3 (ipykernel)",
   "language": "python",
   "name": "python3"
  },
  "language_info": {
   "codemirror_mode": {
    "name": "ipython",
    "version": 3
   },
   "file_extension": ".py",
   "mimetype": "text/x-python",
   "name": "python",
   "nbconvert_exporter": "python",
   "pygments_lexer": "ipython3",
   "version": "3.12.10"
  }
 },
 "nbformat": 4,
 "nbformat_minor": 5
}
