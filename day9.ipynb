{
 "cells": [
  {
   "cell_type": "code",
   "execution_count": 1,
   "id": "47af7496-fcaa-4de4-ac4c-111b6565f007",
   "metadata": {},
   "outputs": [],
   "source": [
    "import pandas as pd"
   ]
  },
  {
   "cell_type": "code",
   "execution_count": 2,
   "id": "d1e594cf-44e2-486c-a9e9-373c2cae4275",
   "metadata": {},
   "outputs": [],
   "source": [
    "import numpy as np"
   ]
  },
  {
   "cell_type": "markdown",
   "id": "3f1dcf88-3536-4284-953d-a2e2f767d62b",
   "metadata": {},
   "source": [
    "## String Methods"
   ]
  },
  {
   "cell_type": "code",
   "execution_count": 3,
   "id": "6d6442b9-89a0-49f3-9842-b6acbedc188c",
   "metadata": {},
   "outputs": [
    {
     "name": "stdout",
     "output_type": "stream",
     "text": [
      "HELLO WORLD\n"
     ]
    }
   ],
   "source": [
    "s='hello WORLD'\n",
    "print(s.upper())"
   ]
  },
  {
   "cell_type": "code",
   "execution_count": 4,
   "id": "bb469f82-7031-442e-a5b5-6da30de0f517",
   "metadata": {},
   "outputs": [
    {
     "name": "stdout",
     "output_type": "stream",
     "text": [
      "hello world\n"
     ]
    }
   ],
   "source": [
    "print(s.lower())"
   ]
  },
  {
   "cell_type": "code",
   "execution_count": 5,
   "id": "da6e4132-ecbf-48ed-9c28-7035f1be4261",
   "metadata": {},
   "outputs": [
    {
     "name": "stdout",
     "output_type": "stream",
     "text": [
      "HELLO world\n"
     ]
    }
   ],
   "source": [
    "print(s.swapcase())"
   ]
  },
  {
   "cell_type": "code",
   "execution_count": 6,
   "id": "03a6cadd-aa00-425e-aa4f-dd7ff119412a",
   "metadata": {},
   "outputs": [
    {
     "name": "stdout",
     "output_type": "stream",
     "text": [
      "hello world\n"
     ]
    }
   ],
   "source": [
    "p='         hello world'\n",
    "print(p.strip())"
   ]
  },
  {
   "cell_type": "code",
   "execution_count": 7,
   "id": "73da508f-1002-4ac7-92f5-d33934d514bd",
   "metadata": {},
   "outputs": [
    {
     "name": "stdout",
     "output_type": "stream",
     "text": [
      "i love python\n"
     ]
    }
   ],
   "source": [
    "s='i love java'\n",
    "print(s.replace('java','python'))\n"
   ]
  },
  {
   "cell_type": "code",
   "execution_count": 8,
   "id": "bcd90ad2-49d9-48c9-8d90-73a69f8a2ba0",
   "metadata": {},
   "outputs": [
    {
     "name": "stdout",
     "output_type": "stream",
     "text": [
      "ram  ghimire\n"
     ]
    }
   ],
   "source": [
    "first_name='ram'\n",
    "last_name='ghimire'\n",
    "print(first_name ,' ' + last_name) # join or concatenate"
   ]
  },
  {
   "cell_type": "code",
   "execution_count": 9,
   "id": "982db119-122c-42eb-ac9e-d6df2efef689",
   "metadata": {},
   "outputs": [
    {
     "data": {
      "text/plain": [
       "['2022', '01', '05']"
      ]
     },
     "execution_count": 9,
     "metadata": {},
     "output_type": "execute_result"
    }
   ],
   "source": [
    "dates='2022-01-05'\n",
    "dates_split=dates.split('-')\n",
    "dates_split #gives output in list form"
   ]
  },
  {
   "cell_type": "markdown",
   "id": "46d1ecec-fbb7-4c21-bbb6-72f5fda5c016",
   "metadata": {},
   "source": [
    "## Creating a new data frame"
   ]
  },
  {
   "cell_type": "code",
   "execution_count": 10,
   "id": "2b85fae6-27ce-477e-ab5c-3517de9cab31",
   "metadata": {},
   "outputs": [
    {
     "data": {
      "text/plain": [
       "{'transition_id': [1, 2, 3, 4, 5],\n",
       " 'date': ['2022-01-05',\n",
       "  '2021-04-15',\n",
       "  '2020-12-05',\n",
       "  '2016-10-08',\n",
       "  '2018-07-29'],\n",
       " 'unitprice': [10, 20, 100, 100, 10000],\n",
       " 'quantity': [12, 10, 100, 34, 20],\n",
       " 'full_name': ['ram ghimire',\n",
       "  'gopal poudel',\n",
       "  'hari pandey',\n",
       "  'suraj karki',\n",
       "  'anil giri']}"
      ]
     },
     "execution_count": 10,
     "metadata": {},
     "output_type": "execute_result"
    }
   ],
   "source": [
    "tid=[1,2,3,4,5]\n",
    "dates=['2022-01-05','2021-04-15','2020-12-05','2016-10-08','2018-07-29']\n",
    "unit_price=[10,20,100,100,10000]\n",
    "quantity=[12,10,100,34,20]\n",
    "full_name=['ram ghimire','gopal poudel', 'hari pandey','suraj karki', 'anil giri']\n",
    "dicts={'transition_id':tid,'date':dates,'unitprice':unit_price,'quantity':quantity,'full_name':full_name}\n",
    "dicts"
   ]
  },
  {
   "cell_type": "code",
   "execution_count": 11,
   "id": "806a725c-4bcf-4bf1-81aa-400139dea65d",
   "metadata": {},
   "outputs": [
    {
     "data": {
      "text/html": [
       "<div>\n",
       "<style scoped>\n",
       "    .dataframe tbody tr th:only-of-type {\n",
       "        vertical-align: middle;\n",
       "    }\n",
       "\n",
       "    .dataframe tbody tr th {\n",
       "        vertical-align: top;\n",
       "    }\n",
       "\n",
       "    .dataframe thead th {\n",
       "        text-align: right;\n",
       "    }\n",
       "</style>\n",
       "<table border=\"1\" class=\"dataframe\">\n",
       "  <thead>\n",
       "    <tr style=\"text-align: right;\">\n",
       "      <th></th>\n",
       "      <th>transition_id</th>\n",
       "      <th>date</th>\n",
       "      <th>unitprice</th>\n",
       "      <th>quantity</th>\n",
       "      <th>full_name</th>\n",
       "    </tr>\n",
       "  </thead>\n",
       "  <tbody>\n",
       "    <tr>\n",
       "      <th>0</th>\n",
       "      <td>1</td>\n",
       "      <td>2022-01-05</td>\n",
       "      <td>10</td>\n",
       "      <td>12</td>\n",
       "      <td>ram ghimire</td>\n",
       "    </tr>\n",
       "    <tr>\n",
       "      <th>1</th>\n",
       "      <td>2</td>\n",
       "      <td>2021-04-15</td>\n",
       "      <td>20</td>\n",
       "      <td>10</td>\n",
       "      <td>gopal poudel</td>\n",
       "    </tr>\n",
       "    <tr>\n",
       "      <th>2</th>\n",
       "      <td>3</td>\n",
       "      <td>2020-12-05</td>\n",
       "      <td>100</td>\n",
       "      <td>100</td>\n",
       "      <td>hari pandey</td>\n",
       "    </tr>\n",
       "    <tr>\n",
       "      <th>3</th>\n",
       "      <td>4</td>\n",
       "      <td>2016-10-08</td>\n",
       "      <td>100</td>\n",
       "      <td>34</td>\n",
       "      <td>suraj karki</td>\n",
       "    </tr>\n",
       "    <tr>\n",
       "      <th>4</th>\n",
       "      <td>5</td>\n",
       "      <td>2018-07-29</td>\n",
       "      <td>10000</td>\n",
       "      <td>20</td>\n",
       "      <td>anil giri</td>\n",
       "    </tr>\n",
       "  </tbody>\n",
       "</table>\n",
       "</div>"
      ],
      "text/plain": [
       "   transition_id        date  unitprice  quantity     full_name\n",
       "0              1  2022-01-05         10        12   ram ghimire\n",
       "1              2  2021-04-15         20        10  gopal poudel\n",
       "2              3  2020-12-05        100       100   hari pandey\n",
       "3              4  2016-10-08        100        34   suraj karki\n",
       "4              5  2018-07-29      10000        20     anil giri"
      ]
     },
     "execution_count": 11,
     "metadata": {},
     "output_type": "execute_result"
    }
   ],
   "source": [
    "df=pd.DataFrame(dicts)\n",
    "df"
   ]
  },
  {
   "cell_type": "markdown",
   "id": "9c75b8f4-56ac-44db-9d9c-758b6bcb351e",
   "metadata": {},
   "source": [
    "## Now lets split full name into two columns i.e, first_name and last_name"
   ]
  },
  {
   "cell_type": "code",
   "execution_count": 12,
   "id": "bce02b04-e9cb-416a-922f-49f2621049b8",
   "metadata": {},
   "outputs": [
    {
     "data": {
      "text/plain": [
       "<pandas.core.strings.accessor.StringMethods at 0x261d326f380>"
      ]
     },
     "execution_count": 12,
     "metadata": {},
     "output_type": "execute_result"
    }
   ],
   "source": [
    "df['full_name'].str"
   ]
  },
  {
   "cell_type": "code",
   "execution_count": 13,
   "id": "93533aaa-d751-4395-ac10-0b0a6c732680",
   "metadata": {},
   "outputs": [
    {
     "data": {
      "text/plain": [
       "0     ram ghimire\n",
       "1    gopal poudel\n",
       "2     hari pandey\n",
       "3     suraj karki\n",
       "4       anil giri\n",
       "Name: full_name, dtype: object"
      ]
     },
     "execution_count": 13,
     "metadata": {},
     "output_type": "execute_result"
    }
   ],
   "source": [
    "df['full_name']"
   ]
  },
  {
   "cell_type": "code",
   "execution_count": 14,
   "id": "a25ea687-5004-45d5-b21f-0875948a29f5",
   "metadata": {},
   "outputs": [
    {
     "data": {
      "text/plain": [
       "0     [ram, ghimire]\n",
       "1    [gopal, poudel]\n",
       "2     [hari, pandey]\n",
       "3     [suraj, karki]\n",
       "4       [anil, giri]\n",
       "Name: full_name, dtype: object"
      ]
     },
     "execution_count": 14,
     "metadata": {},
     "output_type": "execute_result"
    }
   ],
   "source": [
    "df['full_name'].str.split(' ')"
   ]
  },
  {
   "cell_type": "code",
   "execution_count": 15,
   "id": "d2e61ea8-ff1d-4e54-b6ce-e73c934b05ce",
   "metadata": {},
   "outputs": [
    {
     "data": {
      "text/plain": [
       "0      ram\n",
       "1    gopal\n",
       "2     hari\n",
       "3    suraj\n",
       "4     anil\n",
       "Name: full_name, dtype: object"
      ]
     },
     "execution_count": 15,
     "metadata": {},
     "output_type": "execute_result"
    }
   ],
   "source": [
    "df['full_name'].str.split(' ').str.get(0) #gives only first name"
   ]
  },
  {
   "cell_type": "markdown",
   "id": "ce20483b-1fe0-4a41-a17d-a55dd8322414",
   "metadata": {},
   "source": [
    "## Creating a new column now named as first_name"
   ]
  },
  {
   "cell_type": "code",
   "execution_count": 16,
   "id": "82f3a9c2-5ae8-4ad5-a7a1-dc5290b9bd6d",
   "metadata": {},
   "outputs": [
    {
     "data": {
      "text/html": [
       "<div>\n",
       "<style scoped>\n",
       "    .dataframe tbody tr th:only-of-type {\n",
       "        vertical-align: middle;\n",
       "    }\n",
       "\n",
       "    .dataframe tbody tr th {\n",
       "        vertical-align: top;\n",
       "    }\n",
       "\n",
       "    .dataframe thead th {\n",
       "        text-align: right;\n",
       "    }\n",
       "</style>\n",
       "<table border=\"1\" class=\"dataframe\">\n",
       "  <thead>\n",
       "    <tr style=\"text-align: right;\">\n",
       "      <th></th>\n",
       "      <th>transition_id</th>\n",
       "      <th>date</th>\n",
       "      <th>unitprice</th>\n",
       "      <th>quantity</th>\n",
       "      <th>full_name</th>\n",
       "      <th>first_name</th>\n",
       "    </tr>\n",
       "  </thead>\n",
       "  <tbody>\n",
       "    <tr>\n",
       "      <th>0</th>\n",
       "      <td>1</td>\n",
       "      <td>2022-01-05</td>\n",
       "      <td>10</td>\n",
       "      <td>12</td>\n",
       "      <td>ram ghimire</td>\n",
       "      <td>ram</td>\n",
       "    </tr>\n",
       "    <tr>\n",
       "      <th>1</th>\n",
       "      <td>2</td>\n",
       "      <td>2021-04-15</td>\n",
       "      <td>20</td>\n",
       "      <td>10</td>\n",
       "      <td>gopal poudel</td>\n",
       "      <td>gopal</td>\n",
       "    </tr>\n",
       "    <tr>\n",
       "      <th>2</th>\n",
       "      <td>3</td>\n",
       "      <td>2020-12-05</td>\n",
       "      <td>100</td>\n",
       "      <td>100</td>\n",
       "      <td>hari pandey</td>\n",
       "      <td>hari</td>\n",
       "    </tr>\n",
       "    <tr>\n",
       "      <th>3</th>\n",
       "      <td>4</td>\n",
       "      <td>2016-10-08</td>\n",
       "      <td>100</td>\n",
       "      <td>34</td>\n",
       "      <td>suraj karki</td>\n",
       "      <td>suraj</td>\n",
       "    </tr>\n",
       "    <tr>\n",
       "      <th>4</th>\n",
       "      <td>5</td>\n",
       "      <td>2018-07-29</td>\n",
       "      <td>10000</td>\n",
       "      <td>20</td>\n",
       "      <td>anil giri</td>\n",
       "      <td>anil</td>\n",
       "    </tr>\n",
       "  </tbody>\n",
       "</table>\n",
       "</div>"
      ],
      "text/plain": [
       "   transition_id        date  unitprice  quantity     full_name first_name\n",
       "0              1  2022-01-05         10        12   ram ghimire        ram\n",
       "1              2  2021-04-15         20        10  gopal poudel      gopal\n",
       "2              3  2020-12-05        100       100   hari pandey       hari\n",
       "3              4  2016-10-08        100        34   suraj karki      suraj\n",
       "4              5  2018-07-29      10000        20     anil giri       anil"
      ]
     },
     "execution_count": 16,
     "metadata": {},
     "output_type": "execute_result"
    }
   ],
   "source": [
    "df['first_name']=df['full_name'].str.split(' ').str.get(0)\n",
    "df"
   ]
  },
  {
   "cell_type": "code",
   "execution_count": 17,
   "id": "2d3b5cb2-31f9-4684-a6a9-cfadc1a6bb70",
   "metadata": {},
   "outputs": [
    {
     "data": {
      "text/html": [
       "<div>\n",
       "<style scoped>\n",
       "    .dataframe tbody tr th:only-of-type {\n",
       "        vertical-align: middle;\n",
       "    }\n",
       "\n",
       "    .dataframe tbody tr th {\n",
       "        vertical-align: top;\n",
       "    }\n",
       "\n",
       "    .dataframe thead th {\n",
       "        text-align: right;\n",
       "    }\n",
       "</style>\n",
       "<table border=\"1\" class=\"dataframe\">\n",
       "  <thead>\n",
       "    <tr style=\"text-align: right;\">\n",
       "      <th></th>\n",
       "      <th>transition_id</th>\n",
       "      <th>date</th>\n",
       "      <th>unitprice</th>\n",
       "      <th>quantity</th>\n",
       "      <th>full_name</th>\n",
       "      <th>first_name</th>\n",
       "      <th>last_name</th>\n",
       "    </tr>\n",
       "  </thead>\n",
       "  <tbody>\n",
       "    <tr>\n",
       "      <th>0</th>\n",
       "      <td>1</td>\n",
       "      <td>2022-01-05</td>\n",
       "      <td>10</td>\n",
       "      <td>12</td>\n",
       "      <td>ram ghimire</td>\n",
       "      <td>ram</td>\n",
       "      <td>ghimire</td>\n",
       "    </tr>\n",
       "    <tr>\n",
       "      <th>1</th>\n",
       "      <td>2</td>\n",
       "      <td>2021-04-15</td>\n",
       "      <td>20</td>\n",
       "      <td>10</td>\n",
       "      <td>gopal poudel</td>\n",
       "      <td>gopal</td>\n",
       "      <td>poudel</td>\n",
       "    </tr>\n",
       "    <tr>\n",
       "      <th>2</th>\n",
       "      <td>3</td>\n",
       "      <td>2020-12-05</td>\n",
       "      <td>100</td>\n",
       "      <td>100</td>\n",
       "      <td>hari pandey</td>\n",
       "      <td>hari</td>\n",
       "      <td>pandey</td>\n",
       "    </tr>\n",
       "    <tr>\n",
       "      <th>3</th>\n",
       "      <td>4</td>\n",
       "      <td>2016-10-08</td>\n",
       "      <td>100</td>\n",
       "      <td>34</td>\n",
       "      <td>suraj karki</td>\n",
       "      <td>suraj</td>\n",
       "      <td>karki</td>\n",
       "    </tr>\n",
       "    <tr>\n",
       "      <th>4</th>\n",
       "      <td>5</td>\n",
       "      <td>2018-07-29</td>\n",
       "      <td>10000</td>\n",
       "      <td>20</td>\n",
       "      <td>anil giri</td>\n",
       "      <td>anil</td>\n",
       "      <td>giri</td>\n",
       "    </tr>\n",
       "  </tbody>\n",
       "</table>\n",
       "</div>"
      ],
      "text/plain": [
       "   transition_id        date  unitprice  quantity     full_name first_name  \\\n",
       "0              1  2022-01-05         10        12   ram ghimire        ram   \n",
       "1              2  2021-04-15         20        10  gopal poudel      gopal   \n",
       "2              3  2020-12-05        100       100   hari pandey       hari   \n",
       "3              4  2016-10-08        100        34   suraj karki      suraj   \n",
       "4              5  2018-07-29      10000        20     anil giri       anil   \n",
       "\n",
       "  last_name  \n",
       "0   ghimire  \n",
       "1    poudel  \n",
       "2    pandey  \n",
       "3     karki  \n",
       "4      giri  "
      ]
     },
     "execution_count": 17,
     "metadata": {},
     "output_type": "execute_result"
    }
   ],
   "source": [
    "df['last_name']=df['full_name'].str.split(' ').str.get(1)\n",
    "df"
   ]
  },
  {
   "cell_type": "markdown",
   "id": "e2e42e77-b257-4e39-aa36-3562223f77de",
   "metadata": {},
   "source": [
    "* ### Add the new columns and calculate the price "
   ]
  },
  {
   "cell_type": "code",
   "execution_count": 18,
   "id": "e0b5e201-d4fc-4da5-849d-07ff0a5ec39a",
   "metadata": {},
   "outputs": [
    {
     "data": {
      "text/html": [
       "<div>\n",
       "<style scoped>\n",
       "    .dataframe tbody tr th:only-of-type {\n",
       "        vertical-align: middle;\n",
       "    }\n",
       "\n",
       "    .dataframe tbody tr th {\n",
       "        vertical-align: top;\n",
       "    }\n",
       "\n",
       "    .dataframe thead th {\n",
       "        text-align: right;\n",
       "    }\n",
       "</style>\n",
       "<table border=\"1\" class=\"dataframe\">\n",
       "  <thead>\n",
       "    <tr style=\"text-align: right;\">\n",
       "      <th></th>\n",
       "      <th>transition_id</th>\n",
       "      <th>date</th>\n",
       "      <th>unitprice</th>\n",
       "      <th>quantity</th>\n",
       "      <th>full_name</th>\n",
       "      <th>first_name</th>\n",
       "      <th>last_name</th>\n",
       "    </tr>\n",
       "  </thead>\n",
       "  <tbody>\n",
       "    <tr>\n",
       "      <th>0</th>\n",
       "      <td>1</td>\n",
       "      <td>2022-01-05</td>\n",
       "      <td>10</td>\n",
       "      <td>12</td>\n",
       "      <td>ram ghimire</td>\n",
       "      <td>ram</td>\n",
       "      <td>ghimire</td>\n",
       "    </tr>\n",
       "    <tr>\n",
       "      <th>1</th>\n",
       "      <td>2</td>\n",
       "      <td>2021-04-15</td>\n",
       "      <td>20</td>\n",
       "      <td>10</td>\n",
       "      <td>gopal poudel</td>\n",
       "      <td>gopal</td>\n",
       "      <td>poudel</td>\n",
       "    </tr>\n",
       "    <tr>\n",
       "      <th>2</th>\n",
       "      <td>3</td>\n",
       "      <td>2020-12-05</td>\n",
       "      <td>100</td>\n",
       "      <td>100</td>\n",
       "      <td>hari pandey</td>\n",
       "      <td>hari</td>\n",
       "      <td>pandey</td>\n",
       "    </tr>\n",
       "    <tr>\n",
       "      <th>3</th>\n",
       "      <td>4</td>\n",
       "      <td>2016-10-08</td>\n",
       "      <td>100</td>\n",
       "      <td>34</td>\n",
       "      <td>suraj karki</td>\n",
       "      <td>suraj</td>\n",
       "      <td>karki</td>\n",
       "    </tr>\n",
       "    <tr>\n",
       "      <th>4</th>\n",
       "      <td>5</td>\n",
       "      <td>2018-07-29</td>\n",
       "      <td>10000</td>\n",
       "      <td>20</td>\n",
       "      <td>anil giri</td>\n",
       "      <td>anil</td>\n",
       "      <td>giri</td>\n",
       "    </tr>\n",
       "  </tbody>\n",
       "</table>\n",
       "</div>"
      ],
      "text/plain": [
       "   transition_id        date  unitprice  quantity     full_name first_name  \\\n",
       "0              1  2022-01-05         10        12   ram ghimire        ram   \n",
       "1              2  2021-04-15         20        10  gopal poudel      gopal   \n",
       "2              3  2020-12-05        100       100   hari pandey       hari   \n",
       "3              4  2016-10-08        100        34   suraj karki      suraj   \n",
       "4              5  2018-07-29      10000        20     anil giri       anil   \n",
       "\n",
       "  last_name  \n",
       "0   ghimire  \n",
       "1    poudel  \n",
       "2    pandey  \n",
       "3     karki  \n",
       "4      giri  "
      ]
     },
     "execution_count": 18,
     "metadata": {},
     "output_type": "execute_result"
    }
   ],
   "source": [
    "df"
   ]
  },
  {
   "cell_type": "code",
   "execution_count": 19,
   "id": "aaa84b8b-22e5-4903-8178-2a9d4f94b9bd",
   "metadata": {},
   "outputs": [
    {
     "data": {
      "text/plain": [
       "0       10\n",
       "1       20\n",
       "2      100\n",
       "3      100\n",
       "4    10000\n",
       "Name: unitprice, dtype: int64"
      ]
     },
     "execution_count": 19,
     "metadata": {},
     "output_type": "execute_result"
    }
   ],
   "source": [
    "df['unitprice'] # note:total price= unitprice * quantity"
   ]
  },
  {
   "cell_type": "code",
   "execution_count": 20,
   "id": "bf1026a8-9cc9-43ed-9c29-7b85f637a62c",
   "metadata": {},
   "outputs": [
    {
     "data": {
      "text/html": [
       "<div>\n",
       "<style scoped>\n",
       "    .dataframe tbody tr th:only-of-type {\n",
       "        vertical-align: middle;\n",
       "    }\n",
       "\n",
       "    .dataframe tbody tr th {\n",
       "        vertical-align: top;\n",
       "    }\n",
       "\n",
       "    .dataframe thead th {\n",
       "        text-align: right;\n",
       "    }\n",
       "</style>\n",
       "<table border=\"1\" class=\"dataframe\">\n",
       "  <thead>\n",
       "    <tr style=\"text-align: right;\">\n",
       "      <th></th>\n",
       "      <th>transition_id</th>\n",
       "      <th>date</th>\n",
       "      <th>unitprice</th>\n",
       "      <th>quantity</th>\n",
       "      <th>full_name</th>\n",
       "      <th>first_name</th>\n",
       "      <th>last_name</th>\n",
       "      <th>total_price</th>\n",
       "    </tr>\n",
       "  </thead>\n",
       "  <tbody>\n",
       "    <tr>\n",
       "      <th>0</th>\n",
       "      <td>1</td>\n",
       "      <td>2022-01-05</td>\n",
       "      <td>10</td>\n",
       "      <td>12</td>\n",
       "      <td>ram ghimire</td>\n",
       "      <td>ram</td>\n",
       "      <td>ghimire</td>\n",
       "      <td>120</td>\n",
       "    </tr>\n",
       "    <tr>\n",
       "      <th>1</th>\n",
       "      <td>2</td>\n",
       "      <td>2021-04-15</td>\n",
       "      <td>20</td>\n",
       "      <td>10</td>\n",
       "      <td>gopal poudel</td>\n",
       "      <td>gopal</td>\n",
       "      <td>poudel</td>\n",
       "      <td>200</td>\n",
       "    </tr>\n",
       "    <tr>\n",
       "      <th>2</th>\n",
       "      <td>3</td>\n",
       "      <td>2020-12-05</td>\n",
       "      <td>100</td>\n",
       "      <td>100</td>\n",
       "      <td>hari pandey</td>\n",
       "      <td>hari</td>\n",
       "      <td>pandey</td>\n",
       "      <td>10000</td>\n",
       "    </tr>\n",
       "    <tr>\n",
       "      <th>3</th>\n",
       "      <td>4</td>\n",
       "      <td>2016-10-08</td>\n",
       "      <td>100</td>\n",
       "      <td>34</td>\n",
       "      <td>suraj karki</td>\n",
       "      <td>suraj</td>\n",
       "      <td>karki</td>\n",
       "      <td>3400</td>\n",
       "    </tr>\n",
       "    <tr>\n",
       "      <th>4</th>\n",
       "      <td>5</td>\n",
       "      <td>2018-07-29</td>\n",
       "      <td>10000</td>\n",
       "      <td>20</td>\n",
       "      <td>anil giri</td>\n",
       "      <td>anil</td>\n",
       "      <td>giri</td>\n",
       "      <td>200000</td>\n",
       "    </tr>\n",
       "  </tbody>\n",
       "</table>\n",
       "</div>"
      ],
      "text/plain": [
       "   transition_id        date  unitprice  quantity     full_name first_name  \\\n",
       "0              1  2022-01-05         10        12   ram ghimire        ram   \n",
       "1              2  2021-04-15         20        10  gopal poudel      gopal   \n",
       "2              3  2020-12-05        100       100   hari pandey       hari   \n",
       "3              4  2016-10-08        100        34   suraj karki      suraj   \n",
       "4              5  2018-07-29      10000        20     anil giri       anil   \n",
       "\n",
       "  last_name  total_price  \n",
       "0   ghimire          120  \n",
       "1    poudel          200  \n",
       "2    pandey        10000  \n",
       "3     karki         3400  \n",
       "4      giri       200000  "
      ]
     },
     "execution_count": 20,
     "metadata": {},
     "output_type": "execute_result"
    }
   ],
   "source": [
    "df['total_price']=df['unitprice']*df['quantity']\n",
    "df"
   ]
  },
  {
   "cell_type": "markdown",
   "id": "1fcf77ba-4026-4e59-b3d4-f8756ba658f1",
   "metadata": {},
   "source": [
    "## Arrange the columns."
   ]
  },
  {
   "cell_type": "code",
   "execution_count": 21,
   "id": "3d92eedd-942f-4547-bae6-2a0bbb7f579e",
   "metadata": {},
   "outputs": [
    {
     "data": {
      "text/html": [
       "<div>\n",
       "<style scoped>\n",
       "    .dataframe tbody tr th:only-of-type {\n",
       "        vertical-align: middle;\n",
       "    }\n",
       "\n",
       "    .dataframe tbody tr th {\n",
       "        vertical-align: top;\n",
       "    }\n",
       "\n",
       "    .dataframe thead th {\n",
       "        text-align: right;\n",
       "    }\n",
       "</style>\n",
       "<table border=\"1\" class=\"dataframe\">\n",
       "  <thead>\n",
       "    <tr style=\"text-align: right;\">\n",
       "      <th></th>\n",
       "      <th>transition_id</th>\n",
       "      <th>full_name</th>\n",
       "      <th>first_name</th>\n",
       "      <th>last_name</th>\n",
       "      <th>date</th>\n",
       "      <th>unitprice</th>\n",
       "      <th>quantity</th>\n",
       "      <th>total_price</th>\n",
       "    </tr>\n",
       "  </thead>\n",
       "  <tbody>\n",
       "    <tr>\n",
       "      <th>0</th>\n",
       "      <td>1</td>\n",
       "      <td>ram ghimire</td>\n",
       "      <td>ram</td>\n",
       "      <td>ghimire</td>\n",
       "      <td>2022-01-05</td>\n",
       "      <td>10</td>\n",
       "      <td>12</td>\n",
       "      <td>120</td>\n",
       "    </tr>\n",
       "    <tr>\n",
       "      <th>1</th>\n",
       "      <td>2</td>\n",
       "      <td>gopal poudel</td>\n",
       "      <td>gopal</td>\n",
       "      <td>poudel</td>\n",
       "      <td>2021-04-15</td>\n",
       "      <td>20</td>\n",
       "      <td>10</td>\n",
       "      <td>200</td>\n",
       "    </tr>\n",
       "    <tr>\n",
       "      <th>2</th>\n",
       "      <td>3</td>\n",
       "      <td>hari pandey</td>\n",
       "      <td>hari</td>\n",
       "      <td>pandey</td>\n",
       "      <td>2020-12-05</td>\n",
       "      <td>100</td>\n",
       "      <td>100</td>\n",
       "      <td>10000</td>\n",
       "    </tr>\n",
       "    <tr>\n",
       "      <th>3</th>\n",
       "      <td>4</td>\n",
       "      <td>suraj karki</td>\n",
       "      <td>suraj</td>\n",
       "      <td>karki</td>\n",
       "      <td>2016-10-08</td>\n",
       "      <td>100</td>\n",
       "      <td>34</td>\n",
       "      <td>3400</td>\n",
       "    </tr>\n",
       "    <tr>\n",
       "      <th>4</th>\n",
       "      <td>5</td>\n",
       "      <td>anil giri</td>\n",
       "      <td>anil</td>\n",
       "      <td>giri</td>\n",
       "      <td>2018-07-29</td>\n",
       "      <td>10000</td>\n",
       "      <td>20</td>\n",
       "      <td>200000</td>\n",
       "    </tr>\n",
       "  </tbody>\n",
       "</table>\n",
       "</div>"
      ],
      "text/plain": [
       "   transition_id     full_name first_name last_name        date  unitprice  \\\n",
       "0              1   ram ghimire        ram   ghimire  2022-01-05         10   \n",
       "1              2  gopal poudel      gopal    poudel  2021-04-15         20   \n",
       "2              3   hari pandey       hari    pandey  2020-12-05        100   \n",
       "3              4   suraj karki      suraj     karki  2016-10-08        100   \n",
       "4              5     anil giri       anil      giri  2018-07-29      10000   \n",
       "\n",
       "   quantity  total_price  \n",
       "0        12          120  \n",
       "1        10          200  \n",
       "2       100        10000  \n",
       "3        34         3400  \n",
       "4        20       200000  "
      ]
     },
     "execution_count": 21,
     "metadata": {},
     "output_type": "execute_result"
    }
   ],
   "source": [
    "df=df[['transition_id','full_name','first_name','last_name','date','unitprice','quantity','total_price']]\n",
    "df"
   ]
  },
  {
   "cell_type": "markdown",
   "id": "fc2bda20-a499-4cab-ac9a-cb7b5fa74e18",
   "metadata": {},
   "source": [
    "## Task:now sepetare date in string into year,month and date."
   ]
  },
  {
   "cell_type": "code",
   "execution_count": 22,
   "id": "14c68513-849d-4a85-ba29-fedccfd9b7b9",
   "metadata": {},
   "outputs": [
    {
     "data": {
      "text/plain": [
       "0    2022-01-05\n",
       "1    2021-04-15\n",
       "2    2020-12-05\n",
       "3    2016-10-08\n",
       "4    2018-07-29\n",
       "Name: date, dtype: object"
      ]
     },
     "execution_count": 22,
     "metadata": {},
     "output_type": "execute_result"
    }
   ],
   "source": [
    "df['date']\n"
   ]
  },
  {
   "cell_type": "code",
   "execution_count": 23,
   "id": "396559fb-4bd7-438e-8196-b77cc5bcc3e3",
   "metadata": {},
   "outputs": [
    {
     "data": {
      "text/plain": [
       "0    2022\n",
       "1    2021\n",
       "2    2020\n",
       "3    2016\n",
       "4    2018\n",
       "Name: date, dtype: object"
      ]
     },
     "execution_count": 23,
     "metadata": {},
     "output_type": "execute_result"
    }
   ],
   "source": [
    "df['date'].str.split('-').str.get(0)"
   ]
  },
  {
   "cell_type": "code",
   "execution_count": 24,
   "id": "275b72d5-3e74-40ae-a963-09d14f1cd355",
   "metadata": {},
   "outputs": [
    {
     "name": "stderr",
     "output_type": "stream",
     "text": [
      "C:\\Users\\HP\\AppData\\Local\\Temp\\ipykernel_14028\\1003883276.py:1: SettingWithCopyWarning: \n",
      "A value is trying to be set on a copy of a slice from a DataFrame.\n",
      "Try using .loc[row_indexer,col_indexer] = value instead\n",
      "\n",
      "See the caveats in the documentation: https://pandas.pydata.org/pandas-docs/stable/user_guide/indexing.html#returning-a-view-versus-a-copy\n",
      "  df['year']=df['date'].str.split('-').str.get(0)\n"
     ]
    },
    {
     "data": {
      "text/html": [
       "<div>\n",
       "<style scoped>\n",
       "    .dataframe tbody tr th:only-of-type {\n",
       "        vertical-align: middle;\n",
       "    }\n",
       "\n",
       "    .dataframe tbody tr th {\n",
       "        vertical-align: top;\n",
       "    }\n",
       "\n",
       "    .dataframe thead th {\n",
       "        text-align: right;\n",
       "    }\n",
       "</style>\n",
       "<table border=\"1\" class=\"dataframe\">\n",
       "  <thead>\n",
       "    <tr style=\"text-align: right;\">\n",
       "      <th></th>\n",
       "      <th>transition_id</th>\n",
       "      <th>full_name</th>\n",
       "      <th>first_name</th>\n",
       "      <th>last_name</th>\n",
       "      <th>date</th>\n",
       "      <th>unitprice</th>\n",
       "      <th>quantity</th>\n",
       "      <th>total_price</th>\n",
       "      <th>year</th>\n",
       "    </tr>\n",
       "  </thead>\n",
       "  <tbody>\n",
       "    <tr>\n",
       "      <th>0</th>\n",
       "      <td>1</td>\n",
       "      <td>ram ghimire</td>\n",
       "      <td>ram</td>\n",
       "      <td>ghimire</td>\n",
       "      <td>2022-01-05</td>\n",
       "      <td>10</td>\n",
       "      <td>12</td>\n",
       "      <td>120</td>\n",
       "      <td>2022</td>\n",
       "    </tr>\n",
       "    <tr>\n",
       "      <th>1</th>\n",
       "      <td>2</td>\n",
       "      <td>gopal poudel</td>\n",
       "      <td>gopal</td>\n",
       "      <td>poudel</td>\n",
       "      <td>2021-04-15</td>\n",
       "      <td>20</td>\n",
       "      <td>10</td>\n",
       "      <td>200</td>\n",
       "      <td>2021</td>\n",
       "    </tr>\n",
       "    <tr>\n",
       "      <th>2</th>\n",
       "      <td>3</td>\n",
       "      <td>hari pandey</td>\n",
       "      <td>hari</td>\n",
       "      <td>pandey</td>\n",
       "      <td>2020-12-05</td>\n",
       "      <td>100</td>\n",
       "      <td>100</td>\n",
       "      <td>10000</td>\n",
       "      <td>2020</td>\n",
       "    </tr>\n",
       "    <tr>\n",
       "      <th>3</th>\n",
       "      <td>4</td>\n",
       "      <td>suraj karki</td>\n",
       "      <td>suraj</td>\n",
       "      <td>karki</td>\n",
       "      <td>2016-10-08</td>\n",
       "      <td>100</td>\n",
       "      <td>34</td>\n",
       "      <td>3400</td>\n",
       "      <td>2016</td>\n",
       "    </tr>\n",
       "    <tr>\n",
       "      <th>4</th>\n",
       "      <td>5</td>\n",
       "      <td>anil giri</td>\n",
       "      <td>anil</td>\n",
       "      <td>giri</td>\n",
       "      <td>2018-07-29</td>\n",
       "      <td>10000</td>\n",
       "      <td>20</td>\n",
       "      <td>200000</td>\n",
       "      <td>2018</td>\n",
       "    </tr>\n",
       "  </tbody>\n",
       "</table>\n",
       "</div>"
      ],
      "text/plain": [
       "   transition_id     full_name first_name last_name        date  unitprice  \\\n",
       "0              1   ram ghimire        ram   ghimire  2022-01-05         10   \n",
       "1              2  gopal poudel      gopal    poudel  2021-04-15         20   \n",
       "2              3   hari pandey       hari    pandey  2020-12-05        100   \n",
       "3              4   suraj karki      suraj     karki  2016-10-08        100   \n",
       "4              5     anil giri       anil      giri  2018-07-29      10000   \n",
       "\n",
       "   quantity  total_price  year  \n",
       "0        12          120  2022  \n",
       "1        10          200  2021  \n",
       "2       100        10000  2020  \n",
       "3        34         3400  2016  \n",
       "4        20       200000  2018  "
      ]
     },
     "execution_count": 24,
     "metadata": {},
     "output_type": "execute_result"
    }
   ],
   "source": [
    "df['year']=df['date'].str.split('-').str.get(0)\n",
    "df"
   ]
  },
  {
   "cell_type": "code",
   "execution_count": 25,
   "id": "50d515e8-af84-4965-8783-b5fa104fec2a",
   "metadata": {},
   "outputs": [
    {
     "name": "stderr",
     "output_type": "stream",
     "text": [
      "C:\\Users\\HP\\AppData\\Local\\Temp\\ipykernel_14028\\4263006958.py:1: SettingWithCopyWarning: \n",
      "A value is trying to be set on a copy of a slice from a DataFrame.\n",
      "Try using .loc[row_indexer,col_indexer] = value instead\n",
      "\n",
      "See the caveats in the documentation: https://pandas.pydata.org/pandas-docs/stable/user_guide/indexing.html#returning-a-view-versus-a-copy\n",
      "  df['month']=df['date'].str.split('-').str.get(1)\n"
     ]
    },
    {
     "data": {
      "text/html": [
       "<div>\n",
       "<style scoped>\n",
       "    .dataframe tbody tr th:only-of-type {\n",
       "        vertical-align: middle;\n",
       "    }\n",
       "\n",
       "    .dataframe tbody tr th {\n",
       "        vertical-align: top;\n",
       "    }\n",
       "\n",
       "    .dataframe thead th {\n",
       "        text-align: right;\n",
       "    }\n",
       "</style>\n",
       "<table border=\"1\" class=\"dataframe\">\n",
       "  <thead>\n",
       "    <tr style=\"text-align: right;\">\n",
       "      <th></th>\n",
       "      <th>transition_id</th>\n",
       "      <th>full_name</th>\n",
       "      <th>first_name</th>\n",
       "      <th>last_name</th>\n",
       "      <th>date</th>\n",
       "      <th>unitprice</th>\n",
       "      <th>quantity</th>\n",
       "      <th>total_price</th>\n",
       "      <th>year</th>\n",
       "      <th>month</th>\n",
       "    </tr>\n",
       "  </thead>\n",
       "  <tbody>\n",
       "    <tr>\n",
       "      <th>0</th>\n",
       "      <td>1</td>\n",
       "      <td>ram ghimire</td>\n",
       "      <td>ram</td>\n",
       "      <td>ghimire</td>\n",
       "      <td>2022-01-05</td>\n",
       "      <td>10</td>\n",
       "      <td>12</td>\n",
       "      <td>120</td>\n",
       "      <td>2022</td>\n",
       "      <td>01</td>\n",
       "    </tr>\n",
       "    <tr>\n",
       "      <th>1</th>\n",
       "      <td>2</td>\n",
       "      <td>gopal poudel</td>\n",
       "      <td>gopal</td>\n",
       "      <td>poudel</td>\n",
       "      <td>2021-04-15</td>\n",
       "      <td>20</td>\n",
       "      <td>10</td>\n",
       "      <td>200</td>\n",
       "      <td>2021</td>\n",
       "      <td>04</td>\n",
       "    </tr>\n",
       "    <tr>\n",
       "      <th>2</th>\n",
       "      <td>3</td>\n",
       "      <td>hari pandey</td>\n",
       "      <td>hari</td>\n",
       "      <td>pandey</td>\n",
       "      <td>2020-12-05</td>\n",
       "      <td>100</td>\n",
       "      <td>100</td>\n",
       "      <td>10000</td>\n",
       "      <td>2020</td>\n",
       "      <td>12</td>\n",
       "    </tr>\n",
       "    <tr>\n",
       "      <th>3</th>\n",
       "      <td>4</td>\n",
       "      <td>suraj karki</td>\n",
       "      <td>suraj</td>\n",
       "      <td>karki</td>\n",
       "      <td>2016-10-08</td>\n",
       "      <td>100</td>\n",
       "      <td>34</td>\n",
       "      <td>3400</td>\n",
       "      <td>2016</td>\n",
       "      <td>10</td>\n",
       "    </tr>\n",
       "    <tr>\n",
       "      <th>4</th>\n",
       "      <td>5</td>\n",
       "      <td>anil giri</td>\n",
       "      <td>anil</td>\n",
       "      <td>giri</td>\n",
       "      <td>2018-07-29</td>\n",
       "      <td>10000</td>\n",
       "      <td>20</td>\n",
       "      <td>200000</td>\n",
       "      <td>2018</td>\n",
       "      <td>07</td>\n",
       "    </tr>\n",
       "  </tbody>\n",
       "</table>\n",
       "</div>"
      ],
      "text/plain": [
       "   transition_id     full_name first_name last_name        date  unitprice  \\\n",
       "0              1   ram ghimire        ram   ghimire  2022-01-05         10   \n",
       "1              2  gopal poudel      gopal    poudel  2021-04-15         20   \n",
       "2              3   hari pandey       hari    pandey  2020-12-05        100   \n",
       "3              4   suraj karki      suraj     karki  2016-10-08        100   \n",
       "4              5     anil giri       anil      giri  2018-07-29      10000   \n",
       "\n",
       "   quantity  total_price  year month  \n",
       "0        12          120  2022    01  \n",
       "1        10          200  2021    04  \n",
       "2       100        10000  2020    12  \n",
       "3        34         3400  2016    10  \n",
       "4        20       200000  2018    07  "
      ]
     },
     "execution_count": 25,
     "metadata": {},
     "output_type": "execute_result"
    }
   ],
   "source": [
    "df['month']=df['date'].str.split('-').str.get(1)\n",
    "df"
   ]
  },
  {
   "cell_type": "code",
   "execution_count": 26,
   "id": "ef905265-35dc-4104-a704-73d4737e669c",
   "metadata": {},
   "outputs": [
    {
     "name": "stderr",
     "output_type": "stream",
     "text": [
      "C:\\Users\\HP\\AppData\\Local\\Temp\\ipykernel_14028\\3163622425.py:1: SettingWithCopyWarning: \n",
      "A value is trying to be set on a copy of a slice from a DataFrame.\n",
      "Try using .loc[row_indexer,col_indexer] = value instead\n",
      "\n",
      "See the caveats in the documentation: https://pandas.pydata.org/pandas-docs/stable/user_guide/indexing.html#returning-a-view-versus-a-copy\n",
      "  df['day']=df['date'].str.split('-').str.get(2)\n"
     ]
    },
    {
     "data": {
      "text/html": [
       "<div>\n",
       "<style scoped>\n",
       "    .dataframe tbody tr th:only-of-type {\n",
       "        vertical-align: middle;\n",
       "    }\n",
       "\n",
       "    .dataframe tbody tr th {\n",
       "        vertical-align: top;\n",
       "    }\n",
       "\n",
       "    .dataframe thead th {\n",
       "        text-align: right;\n",
       "    }\n",
       "</style>\n",
       "<table border=\"1\" class=\"dataframe\">\n",
       "  <thead>\n",
       "    <tr style=\"text-align: right;\">\n",
       "      <th></th>\n",
       "      <th>transition_id</th>\n",
       "      <th>full_name</th>\n",
       "      <th>first_name</th>\n",
       "      <th>last_name</th>\n",
       "      <th>date</th>\n",
       "      <th>unitprice</th>\n",
       "      <th>quantity</th>\n",
       "      <th>total_price</th>\n",
       "      <th>year</th>\n",
       "      <th>month</th>\n",
       "      <th>day</th>\n",
       "    </tr>\n",
       "  </thead>\n",
       "  <tbody>\n",
       "    <tr>\n",
       "      <th>0</th>\n",
       "      <td>1</td>\n",
       "      <td>ram ghimire</td>\n",
       "      <td>ram</td>\n",
       "      <td>ghimire</td>\n",
       "      <td>2022-01-05</td>\n",
       "      <td>10</td>\n",
       "      <td>12</td>\n",
       "      <td>120</td>\n",
       "      <td>2022</td>\n",
       "      <td>01</td>\n",
       "      <td>05</td>\n",
       "    </tr>\n",
       "    <tr>\n",
       "      <th>1</th>\n",
       "      <td>2</td>\n",
       "      <td>gopal poudel</td>\n",
       "      <td>gopal</td>\n",
       "      <td>poudel</td>\n",
       "      <td>2021-04-15</td>\n",
       "      <td>20</td>\n",
       "      <td>10</td>\n",
       "      <td>200</td>\n",
       "      <td>2021</td>\n",
       "      <td>04</td>\n",
       "      <td>15</td>\n",
       "    </tr>\n",
       "    <tr>\n",
       "      <th>2</th>\n",
       "      <td>3</td>\n",
       "      <td>hari pandey</td>\n",
       "      <td>hari</td>\n",
       "      <td>pandey</td>\n",
       "      <td>2020-12-05</td>\n",
       "      <td>100</td>\n",
       "      <td>100</td>\n",
       "      <td>10000</td>\n",
       "      <td>2020</td>\n",
       "      <td>12</td>\n",
       "      <td>05</td>\n",
       "    </tr>\n",
       "    <tr>\n",
       "      <th>3</th>\n",
       "      <td>4</td>\n",
       "      <td>suraj karki</td>\n",
       "      <td>suraj</td>\n",
       "      <td>karki</td>\n",
       "      <td>2016-10-08</td>\n",
       "      <td>100</td>\n",
       "      <td>34</td>\n",
       "      <td>3400</td>\n",
       "      <td>2016</td>\n",
       "      <td>10</td>\n",
       "      <td>08</td>\n",
       "    </tr>\n",
       "    <tr>\n",
       "      <th>4</th>\n",
       "      <td>5</td>\n",
       "      <td>anil giri</td>\n",
       "      <td>anil</td>\n",
       "      <td>giri</td>\n",
       "      <td>2018-07-29</td>\n",
       "      <td>10000</td>\n",
       "      <td>20</td>\n",
       "      <td>200000</td>\n",
       "      <td>2018</td>\n",
       "      <td>07</td>\n",
       "      <td>29</td>\n",
       "    </tr>\n",
       "  </tbody>\n",
       "</table>\n",
       "</div>"
      ],
      "text/plain": [
       "   transition_id     full_name first_name last_name        date  unitprice  \\\n",
       "0              1   ram ghimire        ram   ghimire  2022-01-05         10   \n",
       "1              2  gopal poudel      gopal    poudel  2021-04-15         20   \n",
       "2              3   hari pandey       hari    pandey  2020-12-05        100   \n",
       "3              4   suraj karki      suraj     karki  2016-10-08        100   \n",
       "4              5     anil giri       anil      giri  2018-07-29      10000   \n",
       "\n",
       "   quantity  total_price  year month day  \n",
       "0        12          120  2022    01  05  \n",
       "1        10          200  2021    04  15  \n",
       "2       100        10000  2020    12  05  \n",
       "3        34         3400  2016    10  08  \n",
       "4        20       200000  2018    07  29  "
      ]
     },
     "execution_count": 26,
     "metadata": {},
     "output_type": "execute_result"
    }
   ],
   "source": [
    "df['day']=df['date'].str.split('-').str.get(2)\n",
    "df"
   ]
  },
  {
   "cell_type": "code",
   "execution_count": 27,
   "id": "5a8c3ca6-5e1f-4d39-a705-bd26875c61d4",
   "metadata": {},
   "outputs": [],
   "source": [
    "df.to_csv('processed_data.csv', index=False)"
   ]
  },
  {
   "cell_type": "markdown",
   "id": "33173f4b-3acc-4ce1-880c-9516939eca8b",
   "metadata": {},
   "source": [
    "## The above date is given in string(object)datatype so Converting into datetime datatype  columns. "
   ]
  },
  {
   "cell_type": "code",
   "execution_count": 28,
   "id": "54fa8ef2-eb4e-4f14-82c9-22ed855f1245",
   "metadata": {},
   "outputs": [
    {
     "data": {
      "text/html": [
       "<div>\n",
       "<style scoped>\n",
       "    .dataframe tbody tr th:only-of-type {\n",
       "        vertical-align: middle;\n",
       "    }\n",
       "\n",
       "    .dataframe tbody tr th {\n",
       "        vertical-align: top;\n",
       "    }\n",
       "\n",
       "    .dataframe thead th {\n",
       "        text-align: right;\n",
       "    }\n",
       "</style>\n",
       "<table border=\"1\" class=\"dataframe\">\n",
       "  <thead>\n",
       "    <tr style=\"text-align: right;\">\n",
       "      <th></th>\n",
       "      <th>transition_id</th>\n",
       "      <th>full_name</th>\n",
       "      <th>first_name</th>\n",
       "      <th>last_name</th>\n",
       "      <th>date</th>\n",
       "      <th>unitprice</th>\n",
       "      <th>quantity</th>\n",
       "      <th>total_price</th>\n",
       "    </tr>\n",
       "  </thead>\n",
       "  <tbody>\n",
       "    <tr>\n",
       "      <th>0</th>\n",
       "      <td>1</td>\n",
       "      <td>ram ghimire</td>\n",
       "      <td>ram</td>\n",
       "      <td>ghimire</td>\n",
       "      <td>2022-01-05</td>\n",
       "      <td>10</td>\n",
       "      <td>12</td>\n",
       "      <td>120</td>\n",
       "    </tr>\n",
       "    <tr>\n",
       "      <th>1</th>\n",
       "      <td>2</td>\n",
       "      <td>gopal poudel</td>\n",
       "      <td>gopal</td>\n",
       "      <td>poudel</td>\n",
       "      <td>2021-04-15</td>\n",
       "      <td>20</td>\n",
       "      <td>10</td>\n",
       "      <td>200</td>\n",
       "    </tr>\n",
       "    <tr>\n",
       "      <th>2</th>\n",
       "      <td>3</td>\n",
       "      <td>hari pandey</td>\n",
       "      <td>hari</td>\n",
       "      <td>pandey</td>\n",
       "      <td>2020-12-05</td>\n",
       "      <td>100</td>\n",
       "      <td>100</td>\n",
       "      <td>10000</td>\n",
       "    </tr>\n",
       "    <tr>\n",
       "      <th>3</th>\n",
       "      <td>4</td>\n",
       "      <td>suraj karki</td>\n",
       "      <td>suraj</td>\n",
       "      <td>karki</td>\n",
       "      <td>2016-10-08</td>\n",
       "      <td>100</td>\n",
       "      <td>34</td>\n",
       "      <td>3400</td>\n",
       "    </tr>\n",
       "    <tr>\n",
       "      <th>4</th>\n",
       "      <td>5</td>\n",
       "      <td>anil giri</td>\n",
       "      <td>anil</td>\n",
       "      <td>giri</td>\n",
       "      <td>2018-07-29</td>\n",
       "      <td>10000</td>\n",
       "      <td>20</td>\n",
       "      <td>200000</td>\n",
       "    </tr>\n",
       "  </tbody>\n",
       "</table>\n",
       "</div>"
      ],
      "text/plain": [
       "   transition_id     full_name first_name last_name        date  unitprice  \\\n",
       "0              1   ram ghimire        ram   ghimire  2022-01-05         10   \n",
       "1              2  gopal poudel      gopal    poudel  2021-04-15         20   \n",
       "2              3   hari pandey       hari    pandey  2020-12-05        100   \n",
       "3              4   suraj karki      suraj     karki  2016-10-08        100   \n",
       "4              5     anil giri       anil      giri  2018-07-29      10000   \n",
       "\n",
       "   quantity  total_price  \n",
       "0        12          120  \n",
       "1        10          200  \n",
       "2       100        10000  \n",
       "3        34         3400  \n",
       "4        20       200000  "
      ]
     },
     "execution_count": 28,
     "metadata": {},
     "output_type": "execute_result"
    }
   ],
   "source": [
    "df1 = df[['transition_id','full_name','first_name','last_name','date','unitprice','quantity','total_price']]\n",
    "df1 \n"
   ]
  },
  {
   "cell_type": "code",
   "execution_count": 29,
   "id": "8f411886-35b6-4540-8177-e00ea4ed1ca4",
   "metadata": {},
   "outputs": [
    {
     "data": {
      "text/plain": [
       "0    True\n",
       "1    True\n",
       "2    True\n",
       "3    True\n",
       "4    True\n",
       "Name: date, dtype: bool"
      ]
     },
     "execution_count": 29,
     "metadata": {},
     "output_type": "execute_result"
    }
   ],
   "source": [
    "df['date']\n",
    "pd.to_datetime(df['date'])\n",
    "df['date']==pd.to_datetime(df['date'])"
   ]
  },
  {
   "cell_type": "markdown",
   "id": "23717305-7d9a-48a1-bada-9921bbfc652e",
   "metadata": {},
   "source": [
    "### Different attributes in datetime"
   ]
  },
  {
   "cell_type": "code",
   "execution_count": 30,
   "id": "a4fd9037-d6ce-4597-9ea1-7b3557d7c6c3",
   "metadata": {},
   "outputs": [
    {
     "ename": "AttributeError",
     "evalue": "Can only use .dt accessor with datetimelike values",
     "output_type": "error",
     "traceback": [
      "\u001b[31m---------------------------------------------------------------------------\u001b[39m",
      "\u001b[31mAttributeError\u001b[39m                            Traceback (most recent call last)",
      "\u001b[36mCell\u001b[39m\u001b[36m \u001b[39m\u001b[32mIn[30]\u001b[39m\u001b[32m, line 1\u001b[39m\n\u001b[32m----> \u001b[39m\u001b[32m1\u001b[39m \u001b[43mdf\u001b[49m\u001b[43m[\u001b[49m\u001b[33;43m'\u001b[39;49m\u001b[33;43mdate\u001b[39;49m\u001b[33;43m'\u001b[39;49m\u001b[43m]\u001b[49m\u001b[43m.\u001b[49m\u001b[43mdt\u001b[49m.year\n",
      "\u001b[36mFile \u001b[39m\u001b[32m~\\AppData\\Local\\Programs\\Python\\Python312\\Lib\\site-packages\\pandas\\core\\generic.py:6299\u001b[39m, in \u001b[36mNDFrame.__getattr__\u001b[39m\u001b[34m(self, name)\u001b[39m\n\u001b[32m   6292\u001b[39m \u001b[38;5;28;01mif\u001b[39;00m (\n\u001b[32m   6293\u001b[39m     name \u001b[38;5;129;01mnot\u001b[39;00m \u001b[38;5;129;01min\u001b[39;00m \u001b[38;5;28mself\u001b[39m._internal_names_set\n\u001b[32m   6294\u001b[39m     \u001b[38;5;129;01mand\u001b[39;00m name \u001b[38;5;129;01mnot\u001b[39;00m \u001b[38;5;129;01min\u001b[39;00m \u001b[38;5;28mself\u001b[39m._metadata\n\u001b[32m   6295\u001b[39m     \u001b[38;5;129;01mand\u001b[39;00m name \u001b[38;5;129;01mnot\u001b[39;00m \u001b[38;5;129;01min\u001b[39;00m \u001b[38;5;28mself\u001b[39m._accessors\n\u001b[32m   6296\u001b[39m     \u001b[38;5;129;01mand\u001b[39;00m \u001b[38;5;28mself\u001b[39m._info_axis._can_hold_identifiers_and_holds_name(name)\n\u001b[32m   6297\u001b[39m ):\n\u001b[32m   6298\u001b[39m     \u001b[38;5;28;01mreturn\u001b[39;00m \u001b[38;5;28mself\u001b[39m[name]\n\u001b[32m-> \u001b[39m\u001b[32m6299\u001b[39m \u001b[38;5;28;01mreturn\u001b[39;00m \u001b[38;5;28;43mobject\u001b[39;49m\u001b[43m.\u001b[49m\u001b[34;43m__getattribute__\u001b[39;49m\u001b[43m(\u001b[49m\u001b[38;5;28;43mself\u001b[39;49m\u001b[43m,\u001b[49m\u001b[43m \u001b[49m\u001b[43mname\u001b[49m\u001b[43m)\u001b[49m\n",
      "\u001b[36mFile \u001b[39m\u001b[32m~\\AppData\\Local\\Programs\\Python\\Python312\\Lib\\site-packages\\pandas\\core\\accessor.py:224\u001b[39m, in \u001b[36mCachedAccessor.__get__\u001b[39m\u001b[34m(self, obj, cls)\u001b[39m\n\u001b[32m    221\u001b[39m \u001b[38;5;28;01mif\u001b[39;00m obj \u001b[38;5;129;01mis\u001b[39;00m \u001b[38;5;28;01mNone\u001b[39;00m:\n\u001b[32m    222\u001b[39m     \u001b[38;5;66;03m# we're accessing the attribute of the class, i.e., Dataset.geo\u001b[39;00m\n\u001b[32m    223\u001b[39m     \u001b[38;5;28;01mreturn\u001b[39;00m \u001b[38;5;28mself\u001b[39m._accessor\n\u001b[32m--> \u001b[39m\u001b[32m224\u001b[39m accessor_obj = \u001b[38;5;28;43mself\u001b[39;49m\u001b[43m.\u001b[49m\u001b[43m_accessor\u001b[49m\u001b[43m(\u001b[49m\u001b[43mobj\u001b[49m\u001b[43m)\u001b[49m\n\u001b[32m    225\u001b[39m \u001b[38;5;66;03m# Replace the property with the accessor object. Inspired by:\u001b[39;00m\n\u001b[32m    226\u001b[39m \u001b[38;5;66;03m# https://www.pydanny.com/cached-property.html\u001b[39;00m\n\u001b[32m    227\u001b[39m \u001b[38;5;66;03m# We need to use object.__setattr__ because we overwrite __setattr__ on\u001b[39;00m\n\u001b[32m    228\u001b[39m \u001b[38;5;66;03m# NDFrame\u001b[39;00m\n\u001b[32m    229\u001b[39m \u001b[38;5;28mobject\u001b[39m.\u001b[34m__setattr__\u001b[39m(obj, \u001b[38;5;28mself\u001b[39m._name, accessor_obj)\n",
      "\u001b[36mFile \u001b[39m\u001b[32m~\\AppData\\Local\\Programs\\Python\\Python312\\Lib\\site-packages\\pandas\\core\\indexes\\accessors.py:643\u001b[39m, in \u001b[36mCombinedDatetimelikeProperties.__new__\u001b[39m\u001b[34m(cls, data)\u001b[39m\n\u001b[32m    640\u001b[39m \u001b[38;5;28;01melif\u001b[39;00m \u001b[38;5;28misinstance\u001b[39m(data.dtype, PeriodDtype):\n\u001b[32m    641\u001b[39m     \u001b[38;5;28;01mreturn\u001b[39;00m PeriodProperties(data, orig)\n\u001b[32m--> \u001b[39m\u001b[32m643\u001b[39m \u001b[38;5;28;01mraise\u001b[39;00m \u001b[38;5;167;01mAttributeError\u001b[39;00m(\u001b[33m\"\u001b[39m\u001b[33mCan only use .dt accessor with datetimelike values\u001b[39m\u001b[33m\"\u001b[39m)\n",
      "\u001b[31mAttributeError\u001b[39m: Can only use .dt accessor with datetimelike values"
     ]
    }
   ],
   "source": [
    "df['date'].dt.year"
   ]
  },
  {
   "cell_type": "code",
   "execution_count": null,
   "id": "dbb0142c-494e-4947-92cc-2638ac5b5a2d",
   "metadata": {},
   "outputs": [],
   "source": [
    "df['year']=df['date'].dt.year\n",
    "df"
   ]
  },
  {
   "cell_type": "code",
   "execution_count": null,
   "id": "98bf0d74-23f9-4da0-95c0-f827f73a6679",
   "metadata": {},
   "outputs": [],
   "source": [
    "df"
   ]
  },
  {
   "cell_type": "code",
   "execution_count": null,
   "id": "60f5e0f8-6e09-46d2-9dc1-7db9f3a1b0bb",
   "metadata": {},
   "outputs": [],
   "source": [
    "df['date'] = df['date'].astype(str)\n"
   ]
  },
  {
   "cell_type": "code",
   "execution_count": null,
   "id": "ddb54bb2-13ff-43ed-b020-addc77bd3f34",
   "metadata": {},
   "outputs": [],
   "source": [
    "df1['date']"
   ]
  },
  {
   "cell_type": "code",
   "execution_count": null,
   "id": "454f1bb3-d722-4be7-b85a-9aef73f806f1",
   "metadata": {},
   "outputs": [],
   "source": [
    "pd.to_datetime(df1['date'])"
   ]
  },
  {
   "cell_type": "code",
   "execution_count": null,
   "id": "7d6d1842-ab6f-4159-a93b-07319c05f011",
   "metadata": {},
   "outputs": [],
   "source": [
    "df1['date']=pd.to_datetime(df1['date'])"
   ]
  },
  {
   "cell_type": "markdown",
   "id": "7a2ec66f-db30-40e9-ae11-4d0538d8f6ff",
   "metadata": {},
   "source": [
    "### Different attributes in datetime"
   ]
  },
  {
   "cell_type": "code",
   "execution_count": null,
   "id": "d77d5bb9-bebc-42e2-aa88-d823402392b2",
   "metadata": {},
   "outputs": [],
   "source": [
    "df1['date'].dt.year"
   ]
  },
  {
   "cell_type": "code",
   "execution_count": null,
   "id": "3231a0e4-1fa9-456f-901b-df5d75ab5ff8",
   "metadata": {},
   "outputs": [],
   "source": [
    "df1['year']=df1['date'].dt.year"
   ]
  },
  {
   "cell_type": "code",
   "execution_count": null,
   "id": "be461c39-a074-45d5-bd29-bf3f374d5676",
   "metadata": {},
   "outputs": [],
   "source": [
    "df1"
   ]
  },
  {
   "cell_type": "code",
   "execution_count": null,
   "id": "12ee293e-a120-447c-94d8-1c4710110621",
   "metadata": {},
   "outputs": [],
   "source": [
    "df1['date'].dt.month\n",
    "df1['month_numeric']=df1['date'].dt.month"
   ]
  },
  {
   "cell_type": "code",
   "execution_count": null,
   "id": "fe05fa87-d4b7-4ed4-bc61-e37d551f892d",
   "metadata": {},
   "outputs": [],
   "source": [
    "df1"
   ]
  },
  {
   "cell_type": "code",
   "execution_count": null,
   "id": "3a7e92cd-6b3f-44d6-8c18-776f9a39f8b9",
   "metadata": {},
   "outputs": [],
   "source": [
    "df1['date'].dt.month_name()\n",
    "df1['month_name']=df1['date'].dt.month_name()"
   ]
  },
  {
   "cell_type": "code",
   "execution_count": null,
   "id": "4e580746-8c2c-41a4-8d44-fec367356560",
   "metadata": {},
   "outputs": [],
   "source": [
    "df1"
   ]
  },
  {
   "cell_type": "code",
   "execution_count": null,
   "id": "3dee6049-b756-409b-9fc3-cc5e584d5f6f",
   "metadata": {},
   "outputs": [],
   "source": [
    "df1['date'].dt.day"
   ]
  },
  {
   "cell_type": "code",
   "execution_count": null,
   "id": "fd2276b6-c94c-436f-bd4a-c3b22231ba85",
   "metadata": {},
   "outputs": [],
   "source": [
    "df1['day_numeric']=df1['date'].dt.day\n",
    "df1"
   ]
  },
  {
   "cell_type": "code",
   "execution_count": null,
   "id": "ebb30534-8947-4cae-939b-d4c98f72cdf7",
   "metadata": {},
   "outputs": [],
   "source": [
    "df1['day_name']=df1['date'].dt.day_name()\n",
    "df1"
   ]
  },
  {
   "cell_type": "markdown",
   "id": "e4e2afd3-61a4-4dbb-b808-1aa4afd88397",
   "metadata": {},
   "source": [
    "### 12 month=[3 quatar] 1st quatar=jan,feb,march"
   ]
  },
  {
   "cell_type": "code",
   "execution_count": null,
   "id": "df633757-e48f-48e7-9c2b-6e81feada1be",
   "metadata": {},
   "outputs": [],
   "source": [
    "df1['date'].dt.quarter"
   ]
  },
  {
   "cell_type": "markdown",
   "id": "a9f262bc-5fbe-4d52-af9d-9ac4b97c94e4",
   "metadata": {},
   "source": [
    "## string functions"
   ]
  },
  {
   "cell_type": "code",
   "execution_count": null,
   "id": "ab398b9f-061d-4368-a0fc-26e92306804c",
   "metadata": {},
   "outputs": [],
   "source": [
    "df['first_name'].str.upper() #str should aways be written"
   ]
  },
  {
   "cell_type": "code",
   "execution_count": null,
   "id": "510334e8-f9f6-446e-b813-a44934aa868a",
   "metadata": {},
   "outputs": [],
   "source": [
    "df['first_name'].str.replace('ram','shyam').str.upper()"
   ]
  },
  {
   "cell_type": "markdown",
   "id": "7f51d322-a056-4f8a-a198-c2103a2a12cc",
   "metadata": {},
   "source": [
    "## fetch the row which starts with name s."
   ]
  },
  {
   "cell_type": "code",
   "execution_count": null,
   "id": "36d4bcda-6281-4119-958d-1fa2d4f7a263",
   "metadata": {},
   "outputs": [],
   "source": [
    "'hello'.startswith('i')"
   ]
  },
  {
   "cell_type": "code",
   "execution_count": null,
   "id": "a011765c-281d-437c-9a04-f9d24ca3d118",
   "metadata": {},
   "outputs": [],
   "source": [
    "df['first_name'].str.startswith('s')"
   ]
  },
  {
   "cell_type": "code",
   "execution_count": null,
   "id": "258338ed-763b-47aa-8d10-fb72ab99b148",
   "metadata": {},
   "outputs": [],
   "source": [
    "df[df['first_name'].str.startswith('s')]"
   ]
  },
  {
   "cell_type": "code",
   "execution_count": null,
   "id": "9f6ebb4f-302d-48e2-a842-9f38118df368",
   "metadata": {},
   "outputs": [],
   "source": []
  }
 ],
 "metadata": {
  "kernelspec": {
   "display_name": "Python 3 (ipykernel)",
   "language": "python",
   "name": "python3"
  },
  "language_info": {
   "codemirror_mode": {
    "name": "ipython",
    "version": 3
   },
   "file_extension": ".py",
   "mimetype": "text/x-python",
   "name": "python",
   "nbconvert_exporter": "python",
   "pygments_lexer": "ipython3",
   "version": "3.12.10"
  }
 },
 "nbformat": 4,
 "nbformat_minor": 5
}
