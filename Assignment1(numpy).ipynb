{
 "cells": [
  {
   "cell_type": "markdown",
   "id": "5965629d-4204-4beb-9937-71ad7c07520d",
   "metadata": {},
   "source": [
    "### 1.`Create a 1D NumPy array with values from 0 to 9"
   ]
  },
  {
   "cell_type": "code",
   "execution_count": 2,
   "id": "9afd6604-0956-4443-9e02-5f7fc7416262",
   "metadata": {},
   "outputs": [],
   "source": [
    "import numpy as np"
   ]
  },
  {
   "cell_type": "code",
   "execution_count": 3,
   "id": "88e46279-a43c-4115-9b34-28c976f93ba5",
   "metadata": {},
   "outputs": [
    {
     "data": {
      "text/plain": [
       "array([0, 1, 2, 3, 4, 5, 6, 7, 8, 9])"
      ]
     },
     "execution_count": 3,
     "metadata": {},
     "output_type": "execute_result"
    }
   ],
   "source": [
    "np.array([0,1,2,3,4,5,6,7,8,9])"
   ]
  },
  {
   "cell_type": "markdown",
   "id": "359a627a-9910-4868-8cce-50e275714e10",
   "metadata": {},
   "source": [
    "### 2.Create a 3x3 NumPy array of all zeros."
   ]
  },
  {
   "cell_type": "code",
   "execution_count": 5,
   "id": "03820305-72e6-471b-acaa-aa27931ea601",
   "metadata": {},
   "outputs": [
    {
     "data": {
      "text/plain": [
       "array([[0, 0, 0],\n",
       "       [0, 0, 0],\n",
       "       [0, 0, 0]])"
      ]
     },
     "execution_count": 5,
     "metadata": {},
     "output_type": "execute_result"
    }
   ],
   "source": [
    "np.zeros((3,3),dtype=int)"
   ]
  },
  {
   "cell_type": "markdown",
   "id": "c4cda209-1cc4-4e30-bc8b-2462056803e7",
   "metadata": {},
   "source": [
    "### 3.Create a 5x5 identity matrix"
   ]
  },
  {
   "cell_type": "code",
   "execution_count": 8,
   "id": "cd06e3a8-ac25-4674-adb5-f1370aba0f1f",
   "metadata": {},
   "outputs": [
    {
     "data": {
      "text/plain": [
       "array([[1, 0, 0, 0, 0],\n",
       "       [0, 1, 0, 0, 0],\n",
       "       [0, 0, 1, 0, 0],\n",
       "       [0, 0, 0, 1, 0],\n",
       "       [0, 0, 0, 0, 1]])"
      ]
     },
     "execution_count": 8,
     "metadata": {},
     "output_type": "execute_result"
    }
   ],
   "source": [
    "np.identity(5,dtype=int)"
   ]
  },
  {
   "cell_type": "markdown",
   "id": "ad6c86d4-df92-4f20-a85b-a2a91f920423",
   "metadata": {},
   "source": [
    "### 4.Create a NumPy array of 10 random integers between 1 and 100."
   ]
  },
  {
   "cell_type": "code",
   "execution_count": 10,
   "id": "d47d0a51-68b2-425a-a6d9-d2da2785a7a1",
   "metadata": {},
   "outputs": [
    {
     "data": {
      "text/plain": [
       "array([59, 25, 44, 46, 41, 14, 54, 47, 14, 85], dtype=int32)"
      ]
     },
     "execution_count": 10,
     "metadata": {},
     "output_type": "execute_result"
    }
   ],
   "source": [
    "random_array=np.random.randint(1,100,10)\n",
    "random_array"
   ]
  },
  {
   "cell_type": "markdown",
   "id": "558f368c-ec38-481b-ad61-2ec3df3a2325",
   "metadata": {},
   "source": [
    " ### 5.Generate a 2D array (3x3) with random floats between 0 and 1."
   ]
  },
  {
   "cell_type": "code",
   "execution_count": 12,
   "id": "bd3ac7be-3c40-4f63-b635-460cb993f212",
   "metadata": {},
   "outputs": [
    {
     "data": {
      "text/plain": [
       "array([[0.23959199, 0.71055892, 0.65817667],\n",
       "       [0.05237468, 0.83724634, 0.16578378],\n",
       "       [0.58484883, 0.64997213, 0.99472603]])"
      ]
     },
     "execution_count": 12,
     "metadata": {},
     "output_type": "execute_result"
    }
   ],
   "source": [
    "arr=np.random.random((3,3))\n",
    "arr"
   ]
  },
  {
   "cell_type": "markdown",
   "id": "bcc70425-39f3-4aa1-84e9-96d1e1473d71",
   "metadata": {},
   "source": [
    "### 6.Replace all odd numbers in a NumPy array with -1"
   ]
  },
  {
   "cell_type": "code",
   "execution_count": 13,
   "id": "120a38ff-116f-4f49-b191-c1d4145c9095",
   "metadata": {},
   "outputs": [
    {
     "data": {
      "text/plain": [
       "array([ 1,  3,  5,  7,  8,  9, 10])"
      ]
     },
     "execution_count": 13,
     "metadata": {},
     "output_type": "execute_result"
    }
   ],
   "source": [
    "hi=np.array([1,3,5,7,8,9,10])\n",
    "hi"
   ]
  },
  {
   "cell_type": "code",
   "execution_count": 20,
   "id": "8927e79a-bf59-4022-b251-2ed50b24c16c",
   "metadata": {},
   "outputs": [
    {
     "data": {
      "text/plain": [
       "array([-1, -1, -1, -1,  8, -1, 10])"
      ]
     },
     "execution_count": 20,
     "metadata": {},
     "output_type": "execute_result"
    }
   ],
   "source": [
    "hi= np.where(hi%2!=0,-1,hi)\n",
    "hi"
   ]
  },
  {
   "cell_type": "markdown",
   "id": "7c3d500f-ed37-460f-867a-7213af2cfe75",
   "metadata": {},
   "source": [
    "### 7.Reverse a 1D NumPy array (e.g., [1, 2, 3] becomes [3, 2, 1])."
   ]
  },
  {
   "cell_type": "code",
   "execution_count": 21,
   "id": "2db32fe1-83b8-452a-81a6-a13891349361",
   "metadata": {},
   "outputs": [
    {
     "data": {
      "text/plain": [
       "array([9, 8, 7, 6, 5, 4, 3])"
      ]
     },
     "execution_count": 21,
     "metadata": {},
     "output_type": "execute_result"
    }
   ],
   "source": [
    "a=np.array([3,4,5,6,7,8,9])\n",
    "a[::-1]"
   ]
  },
  {
   "cell_type": "markdown",
   "id": "64215aef-bef0-4ea4-bb9c-158c17a29bff",
   "metadata": {},
   "source": [
    "### 8. Stack two 1D arrays vertically and horizontally"
   ]
  },
  {
   "cell_type": "code",
   "execution_count": 27,
   "id": "70deb978-65be-471a-ba45-9229bef7c3eb",
   "metadata": {},
   "outputs": [],
   "source": [
    "a=np.array([1,2,3])\n",
    "b=np.array([4,5,6])"
   ]
  },
  {
   "cell_type": "code",
   "execution_count": 28,
   "id": "8633c5bb-a913-4eaa-945a-c940165db35f",
   "metadata": {},
   "outputs": [
    {
     "data": {
      "text/plain": [
       "array([1, 2, 3])"
      ]
     },
     "execution_count": 28,
     "metadata": {},
     "output_type": "execute_result"
    }
   ],
   "source": [
    "a"
   ]
  },
  {
   "cell_type": "code",
   "execution_count": 29,
   "id": "a5b47d3a-c32e-4b23-b321-dedeee8331a1",
   "metadata": {},
   "outputs": [
    {
     "data": {
      "text/plain": [
       "array([4, 5, 6])"
      ]
     },
     "execution_count": 29,
     "metadata": {},
     "output_type": "execute_result"
    }
   ],
   "source": [
    "b"
   ]
  },
  {
   "cell_type": "code",
   "execution_count": 31,
   "id": "4f9e0b2a-807d-49cd-bd0b-d547145772df",
   "metadata": {},
   "outputs": [
    {
     "data": {
      "text/plain": [
       "array([[1, 2, 3],\n",
       "       [4, 5, 6]])"
      ]
     },
     "execution_count": 31,
     "metadata": {},
     "output_type": "execute_result"
    }
   ],
   "source": [
    "c=np.vstack((a,b))\n",
    "c"
   ]
  },
  {
   "cell_type": "code",
   "execution_count": 34,
   "id": "aebf8c5d-b7af-4b86-8b45-e496158a7d10",
   "metadata": {},
   "outputs": [
    {
     "data": {
      "text/plain": [
       "array([1, 2, 3, 4, 5, 6])"
      ]
     },
     "execution_count": 34,
     "metadata": {},
     "output_type": "execute_result"
    }
   ],
   "source": [
    "d=np.hstack((a,b))\n",
    "d"
   ]
  },
  {
   "cell_type": "markdown",
   "id": "99442d01-3b76-4204-a80e-47d3d7dbc587",
   "metadata": {},
   "source": [
    "### 9.Create a 3x3 matrix and compute its mean, median, and standard deviation"
   ]
  },
  {
   "cell_type": "code",
   "execution_count": 37,
   "id": "123de0dd-8e36-4461-8420-7c4c721f70ae",
   "metadata": {},
   "outputs": [
    {
     "data": {
      "text/plain": [
       "array([[62, 97, 68],\n",
       "       [97, 23, 16],\n",
       "       [38, 77,  4]], dtype=int32)"
      ]
     },
     "execution_count": 37,
     "metadata": {},
     "output_type": "execute_result"
    }
   ],
   "source": [
    "a=np.random.randint(1,100,size=(3,3))\n",
    "a"
   ]
  },
  {
   "cell_type": "code",
   "execution_count": 38,
   "id": "1e93af97-1d52-480e-a619-fc99cc2b0039",
   "metadata": {},
   "outputs": [
    {
     "data": {
      "text/plain": [
       "np.float64(53.55555555555556)"
      ]
     },
     "execution_count": 38,
     "metadata": {},
     "output_type": "execute_result"
    }
   ],
   "source": [
    "np.mean(a)"
   ]
  },
  {
   "cell_type": "code",
   "execution_count": 39,
   "id": "a2c76423-f8ae-4340-83bc-cf18adce1268",
   "metadata": {},
   "outputs": [
    {
     "data": {
      "text/plain": [
       "array([65.66666667, 65.66666667, 29.33333333])"
      ]
     },
     "execution_count": 39,
     "metadata": {},
     "output_type": "execute_result"
    }
   ],
   "source": [
    "np.mean(a,axis=0) #column mean"
   ]
  },
  {
   "cell_type": "code",
   "execution_count": 40,
   "id": "f7990a13-d211-493f-8ee6-a85302817d5c",
   "metadata": {},
   "outputs": [
    {
     "data": {
      "text/plain": [
       "np.float64(62.0)"
      ]
     },
     "execution_count": 40,
     "metadata": {},
     "output_type": "execute_result"
    }
   ],
   "source": [
    "np.median(a) #(n+1)/2  #first sorts in ascending order."
   ]
  },
  {
   "cell_type": "code",
   "execution_count": 41,
   "id": "306657db-9ed2-41c1-895e-81d2c32d29c9",
   "metadata": {},
   "outputs": [
    {
     "data": {
      "text/plain": [
       "array([[62, 97, 68],\n",
       "       [97, 23, 16],\n",
       "       [38, 77,  4]], dtype=int32)"
      ]
     },
     "execution_count": 41,
     "metadata": {},
     "output_type": "execute_result"
    }
   ],
   "source": [
    "a"
   ]
  },
  {
   "cell_type": "code",
   "execution_count": 42,
   "id": "ecc3e1c8-485f-49e5-a1c8-90f8369b180a",
   "metadata": {},
   "outputs": [
    {
     "data": {
      "text/plain": [
       "array([68., 23., 38.])"
      ]
     },
     "execution_count": 42,
     "metadata": {},
     "output_type": "execute_result"
    }
   ],
   "source": [
    "np.median(a,axis=1)"
   ]
  },
  {
   "cell_type": "code",
   "execution_count": 43,
   "id": "83c8ea95-9289-4131-a266-6e709fae2941",
   "metadata": {},
   "outputs": [
    {
     "data": {
      "text/plain": [
       "np.float64(32.73839441902737)"
      ]
     },
     "execution_count": 43,
     "metadata": {},
     "output_type": "execute_result"
    }
   ],
   "source": [
    "np.std(a)"
   ]
  },
  {
   "cell_type": "markdown",
   "id": "6625fae0-58a0-425f-b57a-dcc1a04f38a8",
   "metadata": {},
   "source": [
    "### 10. Extract all elements from an array greater than a given value."
   ]
  },
  {
   "cell_type": "code",
   "execution_count": 45,
   "id": "b2dc7e52-4d1c-4966-8d56-9762d94ea35e",
   "metadata": {},
   "outputs": [
    {
     "data": {
      "text/plain": [
       "array([49, 30, 30, 18, 50, 92, 77, 74,  8,  8], dtype=int32)"
      ]
     },
     "execution_count": 45,
     "metadata": {},
     "output_type": "execute_result"
    }
   ],
   "source": [
    "arr=np.random.randint(1,100,10)\n",
    "arr"
   ]
  },
  {
   "cell_type": "code",
   "execution_count": 46,
   "id": "999da1c9-2438-4368-b593-7bd3d4b9bac1",
   "metadata": {},
   "outputs": [
    {
     "data": {
      "text/plain": [
       "array([92, 77, 74], dtype=int32)"
      ]
     },
     "execution_count": 46,
     "metadata": {},
     "output_type": "execute_result"
    }
   ],
   "source": [
    "arr[arr>50]"
   ]
  },
  {
   "cell_type": "markdown",
   "id": "b33153f7-c031-4940-9e47-a4faf326d540",
   "metadata": {},
   "source": [
    "### 11. Find the indices of non-zero elements in a NumPy array.\n"
   ]
  },
  {
   "cell_type": "code",
   "execution_count": 48,
   "id": "abe97b38-ce9d-48d9-b2f7-7df563acad51",
   "metadata": {},
   "outputs": [
    {
     "data": {
      "text/plain": [
       "array([1, 0, 2, 3, 4, 0, 0, 0])"
      ]
     },
     "execution_count": 48,
     "metadata": {},
     "output_type": "execute_result"
    }
   ],
   "source": [
    "arr=np.array([1,0,2,3,4,0,0,0])\n",
    "arr\n"
   ]
  },
  {
   "cell_type": "code",
   "execution_count": 49,
   "id": "88be0cf3-2fba-4553-8404-20c91666d94d",
   "metadata": {},
   "outputs": [
    {
     "data": {
      "text/plain": [
       "(array([0, 2, 3, 4]),)"
      ]
     },
     "execution_count": 49,
     "metadata": {},
     "output_type": "execute_result"
    }
   ],
   "source": [
    "np.nonzero(arr) #shows index position"
   ]
  },
  {
   "cell_type": "markdown",
   "id": "8891b216-6442-4837-8fb2-c907b3677c50",
   "metadata": {},
   "source": [
    "### 12.Create a 10-element array and sort it"
   ]
  },
  {
   "cell_type": "code",
   "execution_count": 51,
   "id": "c8267bfd-bca5-4191-89e9-f22ff3804542",
   "metadata": {},
   "outputs": [
    {
     "data": {
      "text/plain": [
       "array([152,  80,   8,  73,  49,  30,  41, 176,  91, 110], dtype=int32)"
      ]
     },
     "execution_count": 51,
     "metadata": {},
     "output_type": "execute_result"
    }
   ],
   "source": [
    "arr=np.random.randint(1,200,10)\n",
    "arr"
   ]
  },
  {
   "cell_type": "code",
   "execution_count": 53,
   "id": "2a861a98-9f70-4498-875d-0f1b0632798c",
   "metadata": {},
   "outputs": [
    {
     "data": {
      "text/plain": [
       "array([  8,  30,  41,  49,  73,  80,  91, 110, 152, 176], dtype=int32)"
      ]
     },
     "execution_count": 53,
     "metadata": {},
     "output_type": "execute_result"
    }
   ],
   "source": [
    "np.sort(arr)"
   ]
  },
  {
   "cell_type": "code",
   "execution_count": 55,
   "id": "179829e4-cb2d-4314-b181-4b2b3ca706d5",
   "metadata": {},
   "outputs": [
    {
     "data": {
      "text/plain": [
       "array([  8,  30,  41,  49,  73,  80,  91, 110, 152, 176], dtype=int32)"
      ]
     },
     "execution_count": 55,
     "metadata": {},
     "output_type": "execute_result"
    }
   ],
   "source": [
    "arr=np.sort(arr)\n",
    "arr"
   ]
  },
  {
   "cell_type": "markdown",
   "id": "b5a4f8f8-4f71-4b2e-8890-f62ea2e535b2",
   "metadata": {},
   "source": [
    "### 13.Check if two NumPy arrays are equal"
   ]
  },
  {
   "cell_type": "code",
   "execution_count": 57,
   "id": "a09f73ca-6cc9-44df-8cc7-9fe054111e25",
   "metadata": {},
   "outputs": [
    {
     "data": {
      "text/plain": [
       "True"
      ]
     },
     "execution_count": 57,
     "metadata": {},
     "output_type": "execute_result"
    }
   ],
   "source": [
    "arr1=([1,2,3,4])\n",
    "arr2=([1,2,3,4])\n",
    "hi=np.array_equal(arr1,arr2)\n",
    "hi"
   ]
  },
  {
   "cell_type": "markdown",
   "id": "28ceb591-3b8a-4e7b-99f1-ec350ae70848",
   "metadata": {},
   "source": [
    "### 14.Create a 4x4 matrix and calculate the sum of each column."
   ]
  },
  {
   "cell_type": "code",
   "execution_count": 61,
   "id": "32e7dc67-a6e7-41f5-8b95-57ee41d2af7f",
   "metadata": {},
   "outputs": [
    {
     "data": {
      "text/plain": [
       "array([[23,  5, 11,  7],\n",
       "       [37, 32, 27, 27],\n",
       "       [30, 45,  9, 47],\n",
       "       [12, 36,  4, 19]], dtype=int32)"
      ]
     },
     "execution_count": 61,
     "metadata": {},
     "output_type": "execute_result"
    }
   ],
   "source": [
    "arr1=np.random.randint(1,50,size=(4,4))\n",
    "arr1"
   ]
  },
  {
   "cell_type": "code",
   "execution_count": 63,
   "id": "7616d9c4-7729-4a54-add8-8a77f6c60dc4",
   "metadata": {},
   "outputs": [
    {
     "data": {
      "text/plain": [
       "array([102, 118,  51, 100])"
      ]
     },
     "execution_count": 63,
     "metadata": {},
     "output_type": "execute_result"
    }
   ],
   "source": [
    "np.sum(arr1,axis=0)"
   ]
  },
  {
   "cell_type": "code",
   "execution_count": null,
   "id": "f7c95eaf-984e-475f-b9a2-7ecd0079e944",
   "metadata": {},
   "outputs": [],
   "source": []
  }
 ],
 "metadata": {
  "kernelspec": {
   "display_name": "Python 3 (ipykernel)",
   "language": "python",
   "name": "python3"
  },
  "language_info": {
   "codemirror_mode": {
    "name": "ipython",
    "version": 3
   },
   "file_extension": ".py",
   "mimetype": "text/x-python",
   "name": "python",
   "nbconvert_exporter": "python",
   "pygments_lexer": "ipython3",
   "version": "3.12.10"
  }
 },
 "nbformat": 4,
 "nbformat_minor": 5
}
