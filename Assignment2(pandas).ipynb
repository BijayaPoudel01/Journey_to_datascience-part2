{
 "cells": [
  {
   "cell_type": "code",
   "execution_count": 1,
   "id": "4dcef732-0eff-4a14-8ab9-98e186b47fc2",
   "metadata": {},
   "outputs": [],
   "source": [
    "import pandas as pd"
   ]
  },
  {
   "cell_type": "code",
   "execution_count": 19,
   "id": "51747b09-b291-4f71-bc8b-7fb5fa31ab69",
   "metadata": {},
   "outputs": [
    {
     "data": {
      "text/html": [
       "<div>\n",
       "<style scoped>\n",
       "    .dataframe tbody tr th:only-of-type {\n",
       "        vertical-align: middle;\n",
       "    }\n",
       "\n",
       "    .dataframe tbody tr th {\n",
       "        vertical-align: top;\n",
       "    }\n",
       "\n",
       "    .dataframe thead th {\n",
       "        text-align: right;\n",
       "    }\n",
       "</style>\n",
       "<table border=\"1\" class=\"dataframe\">\n",
       "  <thead>\n",
       "    <tr style=\"text-align: right;\">\n",
       "      <th></th>\n",
       "      <th>CustomerID</th>\n",
       "      <th>CustomerName</th>\n",
       "      <th>Email</th>\n",
       "    </tr>\n",
       "  </thead>\n",
       "  <tbody>\n",
       "    <tr>\n",
       "      <th>0</th>\n",
       "      <td>201</td>\n",
       "      <td>Anna_Bell</td>\n",
       "      <td>ANNA123@MAIL.COM</td>\n",
       "    </tr>\n",
       "    <tr>\n",
       "      <th>1</th>\n",
       "      <td>202</td>\n",
       "      <td>michael smith</td>\n",
       "      <td>m.smith@work.net</td>\n",
       "    </tr>\n",
       "    <tr>\n",
       "      <th>2</th>\n",
       "      <td>203</td>\n",
       "      <td>KAREN.JOHNSON</td>\n",
       "      <td>KARENJ@domain.com</td>\n",
       "    </tr>\n",
       "    <tr>\n",
       "      <th>3</th>\n",
       "      <td>204</td>\n",
       "      <td>james o'neal</td>\n",
       "      <td>jameso@now.com</td>\n",
       "    </tr>\n",
       "    <tr>\n",
       "      <th>4</th>\n",
       "      <td>205</td>\n",
       "      <td>lisa-kim</td>\n",
       "      <td>lisa_kim@mail.com</td>\n",
       "    </tr>\n",
       "  </tbody>\n",
       "</table>\n",
       "</div>"
      ],
      "text/plain": [
       "   CustomerID   CustomerName              Email\n",
       "0         201     Anna_Bell    ANNA123@MAIL.COM\n",
       "1         202  michael smith   m.smith@work.net\n",
       "2         203  KAREN.JOHNSON  KARENJ@domain.com\n",
       "3         204   james o'neal     jameso@now.com\n",
       "4         205      lisa-kim   lisa_kim@mail.com"
      ]
     },
     "execution_count": 19,
     "metadata": {},
     "output_type": "execute_result"
    }
   ],
   "source": [
    "data = { \n",
    "'CustomerID': [201, 202, 203, 204, 205], \n",
    "'CustomerName': [' Anna_Bell ', 'michael smith', 'KAREN.JOHNSON', 'james o\\'neal', '  lisa-kim '], \n",
    "'Email': ['ANNA123@MAIL.COM', 'm.smith@work.net', 'KARENJ@domain.com', 'jameso@now.com', \n",
    "'lisa_kim@mail.com'] \n",
    "} \n",
    "df = pd.DataFrame(data)\n",
    "df"
   ]
  },
  {
   "cell_type": "markdown",
   "id": "0546b2af-0ad7-46b0-b5e4-df3fe08978e9",
   "metadata": {},
   "source": [
    "# 1. Strip leading and trailing spaces in the CustomerName column. "
   ]
  },
  {
   "cell_type": "code",
   "execution_count": 18,
   "id": "2250972f-0659-49e9-a677-6d53ae566630",
   "metadata": {},
   "outputs": [
    {
     "data": {
      "text/plain": [
       "0        Anna_Bell\n",
       "1    michael smith\n",
       "2    KAREN.JOHNSON\n",
       "3     james o'neal\n",
       "4         lisa-kim\n",
       "Name: CustomerName, dtype: object"
      ]
     },
     "execution_count": 18,
     "metadata": {},
     "output_type": "execute_result"
    }
   ],
   "source": [
    "df['CustomerName'].str.strip()\n"
   ]
  },
  {
   "cell_type": "markdown",
   "id": "11c0ec5e-79df-4b0c-aa10-5b4169dd5540",
   "metadata": {},
   "source": [
    "# 2. Convert all names in CustomerName to lowercase, then to title case. "
   ]
  },
  {
   "cell_type": "code",
   "execution_count": 1,
   "id": "96c29dfe-035f-4f16-b848-ba52613b8a56",
   "metadata": {},
   "outputs": [
    {
     "ename": "NameError",
     "evalue": "name 'df' is not defined",
     "output_type": "error",
     "traceback": [
      "\u001b[31m---------------------------------------------------------------------------\u001b[39m",
      "\u001b[31mNameError\u001b[39m                                 Traceback (most recent call last)",
      "\u001b[36mCell\u001b[39m\u001b[36m \u001b[39m\u001b[32mIn[1]\u001b[39m\u001b[32m, line 1\u001b[39m\n\u001b[32m----> \u001b[39m\u001b[32m1\u001b[39m \u001b[43mdf\u001b[49m[\u001b[33m'\u001b[39m\u001b[33mCustomerName\u001b[39m\u001b[33m'\u001b[39m].str.lower()\n",
      "\u001b[31mNameError\u001b[39m: name 'df' is not defined"
     ]
    }
   ],
   "source": [
    "df['CustomerName'].str.lower()"
   ]
  },
  {
   "cell_type": "code",
   "execution_count": 16,
   "id": "e649acb7-76e7-43f7-bbf8-ac08f81f0a96",
   "metadata": {},
   "outputs": [
    {
     "data": {
      "text/plain": [
       "0       Anna_Bell \n",
       "1    Michael Smith\n",
       "2    Karen.Johnson\n",
       "3     James O'Neal\n",
       "4        Lisa-Kim \n",
       "Name: CustomerName, dtype: object"
      ]
     },
     "execution_count": 16,
     "metadata": {},
     "output_type": "execute_result"
    }
   ],
   "source": [
    "df['CustomerName'].str.lower().str.title()"
   ]
  },
  {
   "cell_type": "markdown",
   "id": "2bd9d9ba-48d3-4677-8455-1aa5d92295c2",
   "metadata": {},
   "source": [
    "# 3. Replace underscores (_), hyphens (-), and dots (.) in CustomerName with a space. "
   ]
  },
  {
   "cell_type": "code",
   "execution_count": 34,
   "id": "2942bf10-f4dc-457b-902d-65eb1f982d70",
   "metadata": {},
   "outputs": [
    {
     "data": {
      "text/plain": [
       "0       Anna Bell \n",
       "1    michael smith\n",
       "2    KAREN JOHNSON\n",
       "3     james o'neal\n",
       "4        lisa kim \n",
       "Name: CustomerName, dtype: object"
      ]
     },
     "execution_count": 34,
     "metadata": {},
     "output_type": "execute_result"
    }
   ],
   "source": [
    "df['CustomerName'].str.replace('_',' ').str.replace('-', ' ').str.replace('.',' ')"
   ]
  },
  {
   "cell_type": "code",
   "execution_count": 37,
   "id": "223d51dd-022b-4eef-894e-ad8479d7a7c1",
   "metadata": {},
   "outputs": [
    {
     "data": {
      "text/html": [
       "<div>\n",
       "<style scoped>\n",
       "    .dataframe tbody tr th:only-of-type {\n",
       "        vertical-align: middle;\n",
       "    }\n",
       "\n",
       "    .dataframe tbody tr th {\n",
       "        vertical-align: top;\n",
       "    }\n",
       "\n",
       "    .dataframe thead th {\n",
       "        text-align: right;\n",
       "    }\n",
       "</style>\n",
       "<table border=\"1\" class=\"dataframe\">\n",
       "  <thead>\n",
       "    <tr style=\"text-align: right;\">\n",
       "      <th></th>\n",
       "      <th>CustomerID</th>\n",
       "      <th>CustomerName</th>\n",
       "      <th>Email</th>\n",
       "    </tr>\n",
       "  </thead>\n",
       "  <tbody>\n",
       "    <tr>\n",
       "      <th>0</th>\n",
       "      <td>201</td>\n",
       "      <td>Anna Bell</td>\n",
       "      <td>ANNA123@MAIL.COM</td>\n",
       "    </tr>\n",
       "    <tr>\n",
       "      <th>1</th>\n",
       "      <td>202</td>\n",
       "      <td>michael smith</td>\n",
       "      <td>m.smith@work.net</td>\n",
       "    </tr>\n",
       "    <tr>\n",
       "      <th>2</th>\n",
       "      <td>203</td>\n",
       "      <td>KAREN JOHNSON</td>\n",
       "      <td>KARENJ@domain.com</td>\n",
       "    </tr>\n",
       "    <tr>\n",
       "      <th>3</th>\n",
       "      <td>204</td>\n",
       "      <td>james o'neal</td>\n",
       "      <td>jameso@now.com</td>\n",
       "    </tr>\n",
       "    <tr>\n",
       "      <th>4</th>\n",
       "      <td>205</td>\n",
       "      <td>lisa kim</td>\n",
       "      <td>lisa_kim@mail.com</td>\n",
       "    </tr>\n",
       "  </tbody>\n",
       "</table>\n",
       "</div>"
      ],
      "text/plain": [
       "   CustomerID   CustomerName              Email\n",
       "0         201     Anna Bell    ANNA123@MAIL.COM\n",
       "1         202  michael smith   m.smith@work.net\n",
       "2         203  KAREN JOHNSON  KARENJ@domain.com\n",
       "3         204   james o'neal     jameso@now.com\n",
       "4         205      lisa kim   lisa_kim@mail.com"
      ]
     },
     "execution_count": 37,
     "metadata": {},
     "output_type": "execute_result"
    }
   ],
   "source": [
    "df['CustomerName']=df['CustomerName'].str.replace(r'[_\\-\\.]',' ',regex=True) # next process\n",
    "df"
   ]
  },
  {
   "cell_type": "markdown",
   "id": "d53dbaea-ce9a-4f53-bf4f-6c83274412c3",
   "metadata": {},
   "source": [
    " # 4. Count how many names in CustomerName contain the word \"smith\" (case-insensitive)."
   ]
  },
  {
   "cell_type": "code",
   "execution_count": 39,
   "id": "ac658684-d73e-44fd-bcd7-73a1d68db24b",
   "metadata": {},
   "outputs": [
    {
     "data": {
      "text/plain": [
       "0       Anna Bell \n",
       "1    michael smith\n",
       "2    KAREN JOHNSON\n",
       "3     james o'neal\n",
       "4        lisa kim \n",
       "Name: CustomerName, dtype: object"
      ]
     },
     "execution_count": 39,
     "metadata": {},
     "output_type": "execute_result"
    }
   ],
   "source": [
    "df['CustomerName']"
   ]
  },
  {
   "cell_type": "code",
   "execution_count": 48,
   "id": "93f3d8a2-338b-40e6-92a6-8b94c1ebe9ef",
   "metadata": {},
   "outputs": [
    {
     "data": {
      "text/plain": [
       "0    0\n",
       "1    1\n",
       "2    0\n",
       "3    0\n",
       "4    0\n",
       "Name: CustomerName, dtype: int64"
      ]
     },
     "execution_count": 48,
     "metadata": {},
     "output_type": "execute_result"
    }
   ],
   "source": [
    "df['CustomerName'].str.count(\"smith\")"
   ]
  },
  {
   "cell_type": "markdown",
   "id": "a655b126-054f-4ca8-9e0d-af7f14e8ef60",
   "metadata": {},
   "source": [
    "# 5. Find and return all rows where Email ends with .com."
   ]
  },
  {
   "cell_type": "code",
   "execution_count": 50,
   "id": "ca50862c-7b1a-4e98-99f1-56e4d47b31d3",
   "metadata": {},
   "outputs": [
    {
     "data": {
      "text/html": [
       "<div>\n",
       "<style scoped>\n",
       "    .dataframe tbody tr th:only-of-type {\n",
       "        vertical-align: middle;\n",
       "    }\n",
       "\n",
       "    .dataframe tbody tr th {\n",
       "        vertical-align: top;\n",
       "    }\n",
       "\n",
       "    .dataframe thead th {\n",
       "        text-align: right;\n",
       "    }\n",
       "</style>\n",
       "<table border=\"1\" class=\"dataframe\">\n",
       "  <thead>\n",
       "    <tr style=\"text-align: right;\">\n",
       "      <th></th>\n",
       "      <th>CustomerID</th>\n",
       "      <th>CustomerName</th>\n",
       "      <th>Email</th>\n",
       "    </tr>\n",
       "  </thead>\n",
       "  <tbody>\n",
       "    <tr>\n",
       "      <th>2</th>\n",
       "      <td>203</td>\n",
       "      <td>KAREN JOHNSON</td>\n",
       "      <td>KARENJ@domain.com</td>\n",
       "    </tr>\n",
       "    <tr>\n",
       "      <th>3</th>\n",
       "      <td>204</td>\n",
       "      <td>james o'neal</td>\n",
       "      <td>jameso@now.com</td>\n",
       "    </tr>\n",
       "    <tr>\n",
       "      <th>4</th>\n",
       "      <td>205</td>\n",
       "      <td>lisa kim</td>\n",
       "      <td>lisa_kim@mail.com</td>\n",
       "    </tr>\n",
       "  </tbody>\n",
       "</table>\n",
       "</div>"
      ],
      "text/plain": [
       "   CustomerID   CustomerName              Email\n",
       "2         203  KAREN JOHNSON  KARENJ@domain.com\n",
       "3         204   james o'neal     jameso@now.com\n",
       "4         205      lisa kim   lisa_kim@mail.com"
      ]
     },
     "execution_count": 50,
     "metadata": {},
     "output_type": "execute_result"
    }
   ],
   "source": [
    "df[df['Email'].str.endswith(\".com\")]"
   ]
  },
  {
   "cell_type": "markdown",
   "id": "8ad2d404-1ba6-454f-81a0-680c63711f03",
   "metadata": {},
   "source": [
    "# 6.   Create a new column called FirstName by extracting the first word from CustomerName. "
   ]
  },
  {
   "cell_type": "code",
   "execution_count": 52,
   "id": "a53730ac-e103-44e7-89e0-e19f56523980",
   "metadata": {},
   "outputs": [
    {
     "data": {
      "text/plain": [
       "0       Anna\n",
       "1    michael\n",
       "2      KAREN\n",
       "3      james\n",
       "4       lisa\n",
       "Name: CustomerName, dtype: object"
      ]
     },
     "execution_count": 52,
     "metadata": {},
     "output_type": "execute_result"
    }
   ],
   "source": [
    "df['CustomerName'].str.split().str.get(0)"
   ]
  },
  {
   "cell_type": "code",
   "execution_count": 54,
   "id": "ee0b3af5-6622-4efb-968d-0a8f609b70e0",
   "metadata": {},
   "outputs": [
    {
     "data": {
      "text/html": [
       "<div>\n",
       "<style scoped>\n",
       "    .dataframe tbody tr th:only-of-type {\n",
       "        vertical-align: middle;\n",
       "    }\n",
       "\n",
       "    .dataframe tbody tr th {\n",
       "        vertical-align: top;\n",
       "    }\n",
       "\n",
       "    .dataframe thead th {\n",
       "        text-align: right;\n",
       "    }\n",
       "</style>\n",
       "<table border=\"1\" class=\"dataframe\">\n",
       "  <thead>\n",
       "    <tr style=\"text-align: right;\">\n",
       "      <th></th>\n",
       "      <th>CustomerID</th>\n",
       "      <th>CustomerName</th>\n",
       "      <th>Email</th>\n",
       "      <th>FirstName</th>\n",
       "    </tr>\n",
       "  </thead>\n",
       "  <tbody>\n",
       "    <tr>\n",
       "      <th>0</th>\n",
       "      <td>201</td>\n",
       "      <td>Anna Bell</td>\n",
       "      <td>ANNA123@MAIL.COM</td>\n",
       "      <td>Anna</td>\n",
       "    </tr>\n",
       "    <tr>\n",
       "      <th>1</th>\n",
       "      <td>202</td>\n",
       "      <td>michael smith</td>\n",
       "      <td>m.smith@work.net</td>\n",
       "      <td>michael</td>\n",
       "    </tr>\n",
       "    <tr>\n",
       "      <th>2</th>\n",
       "      <td>203</td>\n",
       "      <td>KAREN JOHNSON</td>\n",
       "      <td>KARENJ@domain.com</td>\n",
       "      <td>KAREN</td>\n",
       "    </tr>\n",
       "    <tr>\n",
       "      <th>3</th>\n",
       "      <td>204</td>\n",
       "      <td>james o'neal</td>\n",
       "      <td>jameso@now.com</td>\n",
       "      <td>james</td>\n",
       "    </tr>\n",
       "    <tr>\n",
       "      <th>4</th>\n",
       "      <td>205</td>\n",
       "      <td>lisa kim</td>\n",
       "      <td>lisa_kim@mail.com</td>\n",
       "      <td>lisa</td>\n",
       "    </tr>\n",
       "  </tbody>\n",
       "</table>\n",
       "</div>"
      ],
      "text/plain": [
       "   CustomerID   CustomerName              Email FirstName\n",
       "0         201     Anna Bell    ANNA123@MAIL.COM      Anna\n",
       "1         202  michael smith   m.smith@work.net   michael\n",
       "2         203  KAREN JOHNSON  KARENJ@domain.com     KAREN\n",
       "3         204   james o'neal     jameso@now.com     james\n",
       "4         205      lisa kim   lisa_kim@mail.com      lisa"
      ]
     },
     "execution_count": 54,
     "metadata": {},
     "output_type": "execute_result"
    }
   ],
   "source": [
    "df['FirstName']=df['CustomerName'].str.split().str.get(0)\n",
    "df"
   ]
  },
  {
   "cell_type": "markdown",
   "id": "a2f532e1-b402-4226-b433-fadba9fe4304",
   "metadata": {},
   "source": [
    "# 7.  Create another column called LastName using the second word (after cleaning)."
   ]
  },
  {
   "cell_type": "code",
   "execution_count": 55,
   "id": "c42e12b6-002a-43fc-866d-5e65426144d0",
   "metadata": {},
   "outputs": [
    {
     "data": {
      "text/html": [
       "<div>\n",
       "<style scoped>\n",
       "    .dataframe tbody tr th:only-of-type {\n",
       "        vertical-align: middle;\n",
       "    }\n",
       "\n",
       "    .dataframe tbody tr th {\n",
       "        vertical-align: top;\n",
       "    }\n",
       "\n",
       "    .dataframe thead th {\n",
       "        text-align: right;\n",
       "    }\n",
       "</style>\n",
       "<table border=\"1\" class=\"dataframe\">\n",
       "  <thead>\n",
       "    <tr style=\"text-align: right;\">\n",
       "      <th></th>\n",
       "      <th>CustomerID</th>\n",
       "      <th>CustomerName</th>\n",
       "      <th>Email</th>\n",
       "      <th>FirstName</th>\n",
       "      <th>LastName</th>\n",
       "    </tr>\n",
       "  </thead>\n",
       "  <tbody>\n",
       "    <tr>\n",
       "      <th>0</th>\n",
       "      <td>201</td>\n",
       "      <td>Anna Bell</td>\n",
       "      <td>ANNA123@MAIL.COM</td>\n",
       "      <td>Anna</td>\n",
       "      <td>Bell</td>\n",
       "    </tr>\n",
       "    <tr>\n",
       "      <th>1</th>\n",
       "      <td>202</td>\n",
       "      <td>michael smith</td>\n",
       "      <td>m.smith@work.net</td>\n",
       "      <td>michael</td>\n",
       "      <td>smith</td>\n",
       "    </tr>\n",
       "    <tr>\n",
       "      <th>2</th>\n",
       "      <td>203</td>\n",
       "      <td>KAREN JOHNSON</td>\n",
       "      <td>KARENJ@domain.com</td>\n",
       "      <td>KAREN</td>\n",
       "      <td>JOHNSON</td>\n",
       "    </tr>\n",
       "    <tr>\n",
       "      <th>3</th>\n",
       "      <td>204</td>\n",
       "      <td>james o'neal</td>\n",
       "      <td>jameso@now.com</td>\n",
       "      <td>james</td>\n",
       "      <td>o'neal</td>\n",
       "    </tr>\n",
       "    <tr>\n",
       "      <th>4</th>\n",
       "      <td>205</td>\n",
       "      <td>lisa kim</td>\n",
       "      <td>lisa_kim@mail.com</td>\n",
       "      <td>lisa</td>\n",
       "      <td>kim</td>\n",
       "    </tr>\n",
       "  </tbody>\n",
       "</table>\n",
       "</div>"
      ],
      "text/plain": [
       "   CustomerID   CustomerName              Email FirstName LastName\n",
       "0         201     Anna Bell    ANNA123@MAIL.COM      Anna     Bell\n",
       "1         202  michael smith   m.smith@work.net   michael    smith\n",
       "2         203  KAREN JOHNSON  KARENJ@domain.com     KAREN  JOHNSON\n",
       "3         204   james o'neal     jameso@now.com     james   o'neal\n",
       "4         205      lisa kim   lisa_kim@mail.com      lisa      kim"
      ]
     },
     "execution_count": 55,
     "metadata": {},
     "output_type": "execute_result"
    }
   ],
   "source": [
    "df['LastName']=df['CustomerName'].str.split().str.get(1)\n",
    "df"
   ]
  },
  {
   "cell_type": "markdown",
   "id": "6077ce3c-9221-4813-8c80-70f17b2b9fe3",
   "metadata": {},
   "source": [
    "# 8.  Extract just the domain (e.g., mail.com, work.net) from each Email address. "
   ]
  },
  {
   "cell_type": "code",
   "execution_count": 64,
   "id": "337347a1-f0f8-4fd7-adc7-de966b6231a8",
   "metadata": {},
   "outputs": [
    {
     "data": {
      "text/html": [
       "<div>\n",
       "<style scoped>\n",
       "    .dataframe tbody tr th:only-of-type {\n",
       "        vertical-align: middle;\n",
       "    }\n",
       "\n",
       "    .dataframe tbody tr th {\n",
       "        vertical-align: top;\n",
       "    }\n",
       "\n",
       "    .dataframe thead th {\n",
       "        text-align: right;\n",
       "    }\n",
       "</style>\n",
       "<table border=\"1\" class=\"dataframe\">\n",
       "  <thead>\n",
       "    <tr style=\"text-align: right;\">\n",
       "      <th></th>\n",
       "      <th>CustomerID</th>\n",
       "      <th>CustomerName</th>\n",
       "      <th>Email</th>\n",
       "      <th>FirstName</th>\n",
       "      <th>LastName</th>\n",
       "      <th>EmailDomain</th>\n",
       "    </tr>\n",
       "  </thead>\n",
       "  <tbody>\n",
       "    <tr>\n",
       "      <th>0</th>\n",
       "      <td>201</td>\n",
       "      <td>Anna Bell</td>\n",
       "      <td>ANNA123@MAIL.COM</td>\n",
       "      <td>Anna</td>\n",
       "      <td>Bell</td>\n",
       "      <td>[ANNA123, MAIL.COM]</td>\n",
       "    </tr>\n",
       "    <tr>\n",
       "      <th>1</th>\n",
       "      <td>202</td>\n",
       "      <td>michael smith</td>\n",
       "      <td>m.smith@work.net</td>\n",
       "      <td>michael</td>\n",
       "      <td>smith</td>\n",
       "      <td>[m.smith, work.net]</td>\n",
       "    </tr>\n",
       "    <tr>\n",
       "      <th>2</th>\n",
       "      <td>203</td>\n",
       "      <td>KAREN JOHNSON</td>\n",
       "      <td>KARENJ@domain.com</td>\n",
       "      <td>KAREN</td>\n",
       "      <td>JOHNSON</td>\n",
       "      <td>[KARENJ, domain.com]</td>\n",
       "    </tr>\n",
       "    <tr>\n",
       "      <th>3</th>\n",
       "      <td>204</td>\n",
       "      <td>james o'neal</td>\n",
       "      <td>jameso@now.com</td>\n",
       "      <td>james</td>\n",
       "      <td>o'neal</td>\n",
       "      <td>[jameso, now.com]</td>\n",
       "    </tr>\n",
       "    <tr>\n",
       "      <th>4</th>\n",
       "      <td>205</td>\n",
       "      <td>lisa kim</td>\n",
       "      <td>lisa_kim@mail.com</td>\n",
       "      <td>lisa</td>\n",
       "      <td>kim</td>\n",
       "      <td>[lisa_kim, mail.com]</td>\n",
       "    </tr>\n",
       "  </tbody>\n",
       "</table>\n",
       "</div>"
      ],
      "text/plain": [
       "   CustomerID   CustomerName              Email FirstName LastName  \\\n",
       "0         201     Anna Bell    ANNA123@MAIL.COM      Anna     Bell   \n",
       "1         202  michael smith   m.smith@work.net   michael    smith   \n",
       "2         203  KAREN JOHNSON  KARENJ@domain.com     KAREN  JOHNSON   \n",
       "3         204   james o'neal     jameso@now.com     james   o'neal   \n",
       "4         205      lisa kim   lisa_kim@mail.com      lisa      kim   \n",
       "\n",
       "            EmailDomain  \n",
       "0   [ANNA123, MAIL.COM]  \n",
       "1   [m.smith, work.net]  \n",
       "2  [KARENJ, domain.com]  \n",
       "3     [jameso, now.com]  \n",
       "4  [lisa_kim, mail.com]  "
      ]
     },
     "execution_count": 64,
     "metadata": {},
     "output_type": "execute_result"
    }
   ],
   "source": [
    "df['EmailDomain'] = df['Email'].str.split('@')\n",
    "df"
   ]
  },
  {
   "cell_type": "code",
   "execution_count": 66,
   "id": "ab917af1-b393-4795-a160-52b36e61ea91",
   "metadata": {},
   "outputs": [
    {
     "data": {
      "text/html": [
       "<div>\n",
       "<style scoped>\n",
       "    .dataframe tbody tr th:only-of-type {\n",
       "        vertical-align: middle;\n",
       "    }\n",
       "\n",
       "    .dataframe tbody tr th {\n",
       "        vertical-align: top;\n",
       "    }\n",
       "\n",
       "    .dataframe thead th {\n",
       "        text-align: right;\n",
       "    }\n",
       "</style>\n",
       "<table border=\"1\" class=\"dataframe\">\n",
       "  <thead>\n",
       "    <tr style=\"text-align: right;\">\n",
       "      <th></th>\n",
       "      <th>CustomerID</th>\n",
       "      <th>CustomerName</th>\n",
       "      <th>Email</th>\n",
       "      <th>FirstName</th>\n",
       "      <th>LastName</th>\n",
       "      <th>EmailDomain</th>\n",
       "    </tr>\n",
       "  </thead>\n",
       "  <tbody>\n",
       "    <tr>\n",
       "      <th>0</th>\n",
       "      <td>201</td>\n",
       "      <td>Anna Bell</td>\n",
       "      <td>ANNA123@MAIL.COM</td>\n",
       "      <td>Anna</td>\n",
       "      <td>Bell</td>\n",
       "      <td>MAIL.COM</td>\n",
       "    </tr>\n",
       "    <tr>\n",
       "      <th>1</th>\n",
       "      <td>202</td>\n",
       "      <td>michael smith</td>\n",
       "      <td>m.smith@work.net</td>\n",
       "      <td>michael</td>\n",
       "      <td>smith</td>\n",
       "      <td>work.net</td>\n",
       "    </tr>\n",
       "    <tr>\n",
       "      <th>2</th>\n",
       "      <td>203</td>\n",
       "      <td>KAREN JOHNSON</td>\n",
       "      <td>KARENJ@domain.com</td>\n",
       "      <td>KAREN</td>\n",
       "      <td>JOHNSON</td>\n",
       "      <td>domain.com</td>\n",
       "    </tr>\n",
       "    <tr>\n",
       "      <th>3</th>\n",
       "      <td>204</td>\n",
       "      <td>james o'neal</td>\n",
       "      <td>jameso@now.com</td>\n",
       "      <td>james</td>\n",
       "      <td>o'neal</td>\n",
       "      <td>now.com</td>\n",
       "    </tr>\n",
       "    <tr>\n",
       "      <th>4</th>\n",
       "      <td>205</td>\n",
       "      <td>lisa kim</td>\n",
       "      <td>lisa_kim@mail.com</td>\n",
       "      <td>lisa</td>\n",
       "      <td>kim</td>\n",
       "      <td>mail.com</td>\n",
       "    </tr>\n",
       "  </tbody>\n",
       "</table>\n",
       "</div>"
      ],
      "text/plain": [
       "   CustomerID   CustomerName              Email FirstName LastName EmailDomain\n",
       "0         201     Anna Bell    ANNA123@MAIL.COM      Anna     Bell    MAIL.COM\n",
       "1         202  michael smith   m.smith@work.net   michael    smith    work.net\n",
       "2         203  KAREN JOHNSON  KARENJ@domain.com     KAREN  JOHNSON  domain.com\n",
       "3         204   james o'neal     jameso@now.com     james   o'neal     now.com\n",
       "4         205      lisa kim   lisa_kim@mail.com      lisa      kim    mail.com"
      ]
     },
     "execution_count": 66,
     "metadata": {},
     "output_type": "execute_result"
    }
   ],
   "source": [
    "df['EmailDomain'] = df['Email'].str.split('@').str[1]\n",
    "df"
   ]
  },
  {
   "cell_type": "markdown",
   "id": "fe0f419f-6dcc-486e-b856-cec1cfc52e85",
   "metadata": {},
   "source": [
    "# 9. Filter all customers whose email contains the word “mail” (case-insensitive). "
   ]
  },
  {
   "cell_type": "code",
   "execution_count": 74,
   "id": "32e78c61-c876-410e-bb23-407b848fdd57",
   "metadata": {},
   "outputs": [
    {
     "data": {
      "text/html": [
       "<div>\n",
       "<style scoped>\n",
       "    .dataframe tbody tr th:only-of-type {\n",
       "        vertical-align: middle;\n",
       "    }\n",
       "\n",
       "    .dataframe tbody tr th {\n",
       "        vertical-align: top;\n",
       "    }\n",
       "\n",
       "    .dataframe thead th {\n",
       "        text-align: right;\n",
       "    }\n",
       "</style>\n",
       "<table border=\"1\" class=\"dataframe\">\n",
       "  <thead>\n",
       "    <tr style=\"text-align: right;\">\n",
       "      <th></th>\n",
       "      <th>CustomerID</th>\n",
       "      <th>CustomerName</th>\n",
       "      <th>Email</th>\n",
       "      <th>FirstName</th>\n",
       "      <th>LastName</th>\n",
       "      <th>EmailDomain</th>\n",
       "    </tr>\n",
       "  </thead>\n",
       "  <tbody>\n",
       "    <tr>\n",
       "      <th>4</th>\n",
       "      <td>205</td>\n",
       "      <td>lisa kim</td>\n",
       "      <td>lisa_kim@mail.com</td>\n",
       "      <td>lisa</td>\n",
       "      <td>kim</td>\n",
       "      <td>mail.com</td>\n",
       "    </tr>\n",
       "  </tbody>\n",
       "</table>\n",
       "</div>"
      ],
      "text/plain": [
       "   CustomerID CustomerName              Email FirstName LastName EmailDomain\n",
       "4         205    lisa kim   lisa_kim@mail.com      lisa      kim    mail.com"
      ]
     },
     "execution_count": 74,
     "metadata": {},
     "output_type": "execute_result"
    }
   ],
   "source": [
    "df[df['Email'].str.contains('mail')]"
   ]
  },
  {
   "cell_type": "code",
   "execution_count": 75,
   "id": "59e1a181-1511-4a74-b908-2884b12692b0",
   "metadata": {},
   "outputs": [
    {
     "data": {
      "text/html": [
       "<div>\n",
       "<style scoped>\n",
       "    .dataframe tbody tr th:only-of-type {\n",
       "        vertical-align: middle;\n",
       "    }\n",
       "\n",
       "    .dataframe tbody tr th {\n",
       "        vertical-align: top;\n",
       "    }\n",
       "\n",
       "    .dataframe thead th {\n",
       "        text-align: right;\n",
       "    }\n",
       "</style>\n",
       "<table border=\"1\" class=\"dataframe\">\n",
       "  <thead>\n",
       "    <tr style=\"text-align: right;\">\n",
       "      <th></th>\n",
       "      <th>CustomerID</th>\n",
       "      <th>CustomerName</th>\n",
       "      <th>Email</th>\n",
       "      <th>FirstName</th>\n",
       "      <th>LastName</th>\n",
       "      <th>EmailDomain</th>\n",
       "    </tr>\n",
       "  </thead>\n",
       "  <tbody>\n",
       "    <tr>\n",
       "      <th>0</th>\n",
       "      <td>201</td>\n",
       "      <td>Anna Bell</td>\n",
       "      <td>ANNA123@MAIL.COM</td>\n",
       "      <td>Anna</td>\n",
       "      <td>Bell</td>\n",
       "      <td>MAIL.COM</td>\n",
       "    </tr>\n",
       "    <tr>\n",
       "      <th>4</th>\n",
       "      <td>205</td>\n",
       "      <td>lisa kim</td>\n",
       "      <td>lisa_kim@mail.com</td>\n",
       "      <td>lisa</td>\n",
       "      <td>kim</td>\n",
       "      <td>mail.com</td>\n",
       "    </tr>\n",
       "  </tbody>\n",
       "</table>\n",
       "</div>"
      ],
      "text/plain": [
       "   CustomerID CustomerName              Email FirstName LastName EmailDomain\n",
       "0         201   Anna Bell    ANNA123@MAIL.COM      Anna     Bell    MAIL.COM\n",
       "4         205    lisa kim   lisa_kim@mail.com      lisa      kim    mail.com"
      ]
     },
     "execution_count": 75,
     "metadata": {},
     "output_type": "execute_result"
    }
   ],
   "source": [
    "df[df['Email'].str.contains('mail',case=False)]"
   ]
  },
  {
   "cell_type": "markdown",
   "id": "bd1f39d6-8420-48a4-b37a-dfb2fa74b696",
   "metadata": {},
   "source": [
    "# 10.  Identify emails that contain any digits using a regex pattern. "
   ]
  },
  {
   "cell_type": "code",
   "execution_count": 77,
   "id": "838e5ff9-51da-45ba-b935-337cf818c709",
   "metadata": {},
   "outputs": [
    {
     "data": {
      "text/html": [
       "<div>\n",
       "<style scoped>\n",
       "    .dataframe tbody tr th:only-of-type {\n",
       "        vertical-align: middle;\n",
       "    }\n",
       "\n",
       "    .dataframe tbody tr th {\n",
       "        vertical-align: top;\n",
       "    }\n",
       "\n",
       "    .dataframe thead th {\n",
       "        text-align: right;\n",
       "    }\n",
       "</style>\n",
       "<table border=\"1\" class=\"dataframe\">\n",
       "  <thead>\n",
       "    <tr style=\"text-align: right;\">\n",
       "      <th></th>\n",
       "      <th>CustomerID</th>\n",
       "      <th>CustomerName</th>\n",
       "      <th>Email</th>\n",
       "      <th>FirstName</th>\n",
       "      <th>LastName</th>\n",
       "      <th>EmailDomain</th>\n",
       "    </tr>\n",
       "  </thead>\n",
       "  <tbody>\n",
       "    <tr>\n",
       "      <th>0</th>\n",
       "      <td>201</td>\n",
       "      <td>Anna Bell</td>\n",
       "      <td>ANNA123@MAIL.COM</td>\n",
       "      <td>Anna</td>\n",
       "      <td>Bell</td>\n",
       "      <td>MAIL.COM</td>\n",
       "    </tr>\n",
       "  </tbody>\n",
       "</table>\n",
       "</div>"
      ],
      "text/plain": [
       "   CustomerID CustomerName             Email FirstName LastName EmailDomain\n",
       "0         201   Anna Bell   ANNA123@MAIL.COM      Anna     Bell    MAIL.COM"
      ]
     },
     "execution_count": 77,
     "metadata": {},
     "output_type": "execute_result"
    }
   ],
   "source": [
    "df[df['Email'].str.contains(r'\\d', regex=True)]"
   ]
  },
  {
   "cell_type": "markdown",
   "id": "984de4b5-c754-4dc8-971f-d4b84bbbfa7f",
   "metadata": {},
   "source": [
    "# 11. Check if any customer names contain special characters like ', ., or _ before cleaning. "
   ]
  },
  {
   "cell_type": "code",
   "execution_count": 85,
   "id": "7cc07bf6-55dd-443a-8d24-5dc790bfaeaf",
   "metadata": {},
   "outputs": [
    {
     "data": {
      "text/html": [
       "<div>\n",
       "<style scoped>\n",
       "    .dataframe tbody tr th:only-of-type {\n",
       "        vertical-align: middle;\n",
       "    }\n",
       "\n",
       "    .dataframe tbody tr th {\n",
       "        vertical-align: top;\n",
       "    }\n",
       "\n",
       "    .dataframe thead th {\n",
       "        text-align: right;\n",
       "    }\n",
       "</style>\n",
       "<table border=\"1\" class=\"dataframe\">\n",
       "  <thead>\n",
       "    <tr style=\"text-align: right;\">\n",
       "      <th></th>\n",
       "      <th>CustomerID</th>\n",
       "      <th>CustomerName</th>\n",
       "      <th>Email</th>\n",
       "      <th>FirstName</th>\n",
       "      <th>LastName</th>\n",
       "      <th>EmailDomain</th>\n",
       "    </tr>\n",
       "  </thead>\n",
       "  <tbody>\n",
       "    <tr>\n",
       "      <th>3</th>\n",
       "      <td>204</td>\n",
       "      <td>james o'neal</td>\n",
       "      <td>jameso@now.com</td>\n",
       "      <td>james</td>\n",
       "      <td>o'neal</td>\n",
       "      <td>now.com</td>\n",
       "    </tr>\n",
       "  </tbody>\n",
       "</table>\n",
       "</div>"
      ],
      "text/plain": [
       "   CustomerID  CustomerName           Email FirstName LastName EmailDomain\n",
       "3         204  james o'neal  jameso@now.com     james   o'neal     now.com"
      ]
     },
     "execution_count": 85,
     "metadata": {},
     "output_type": "execute_result"
    }
   ],
   "source": [
    "df[df['CustomerName'].str.contains(r\"[\\'._]\", regex=True)]"
   ]
  },
  {
   "cell_type": "markdown",
   "id": "e79e0ab6-c0cb-4415-b7fb-94fc1d35e82e",
   "metadata": {},
   "source": [
    "# 12.  Create a column NameLength that stores the length of the cleaned CustomerName. \n"
   ]
  },
  {
   "cell_type": "code",
   "execution_count": 87,
   "id": "069b1df1-8975-4f11-8982-7e0feca92c0e",
   "metadata": {},
   "outputs": [
    {
     "data": {
      "text/html": [
       "<div>\n",
       "<style scoped>\n",
       "    .dataframe tbody tr th:only-of-type {\n",
       "        vertical-align: middle;\n",
       "    }\n",
       "\n",
       "    .dataframe tbody tr th {\n",
       "        vertical-align: top;\n",
       "    }\n",
       "\n",
       "    .dataframe thead th {\n",
       "        text-align: right;\n",
       "    }\n",
       "</style>\n",
       "<table border=\"1\" class=\"dataframe\">\n",
       "  <thead>\n",
       "    <tr style=\"text-align: right;\">\n",
       "      <th></th>\n",
       "      <th>CustomerID</th>\n",
       "      <th>CustomerName</th>\n",
       "      <th>Email</th>\n",
       "      <th>FirstName</th>\n",
       "      <th>LastName</th>\n",
       "      <th>EmailDomain</th>\n",
       "      <th>NameLength</th>\n",
       "    </tr>\n",
       "  </thead>\n",
       "  <tbody>\n",
       "    <tr>\n",
       "      <th>0</th>\n",
       "      <td>201</td>\n",
       "      <td>Anna Bell</td>\n",
       "      <td>ANNA123@MAIL.COM</td>\n",
       "      <td>Anna</td>\n",
       "      <td>Bell</td>\n",
       "      <td>MAIL.COM</td>\n",
       "      <td>11</td>\n",
       "    </tr>\n",
       "    <tr>\n",
       "      <th>1</th>\n",
       "      <td>202</td>\n",
       "      <td>michael smith</td>\n",
       "      <td>m.smith@work.net</td>\n",
       "      <td>michael</td>\n",
       "      <td>smith</td>\n",
       "      <td>work.net</td>\n",
       "      <td>13</td>\n",
       "    </tr>\n",
       "    <tr>\n",
       "      <th>2</th>\n",
       "      <td>203</td>\n",
       "      <td>KAREN JOHNSON</td>\n",
       "      <td>KARENJ@domain.com</td>\n",
       "      <td>KAREN</td>\n",
       "      <td>JOHNSON</td>\n",
       "      <td>domain.com</td>\n",
       "      <td>13</td>\n",
       "    </tr>\n",
       "    <tr>\n",
       "      <th>3</th>\n",
       "      <td>204</td>\n",
       "      <td>james o'neal</td>\n",
       "      <td>jameso@now.com</td>\n",
       "      <td>james</td>\n",
       "      <td>o'neal</td>\n",
       "      <td>now.com</td>\n",
       "      <td>12</td>\n",
       "    </tr>\n",
       "    <tr>\n",
       "      <th>4</th>\n",
       "      <td>205</td>\n",
       "      <td>lisa kim</td>\n",
       "      <td>lisa_kim@mail.com</td>\n",
       "      <td>lisa</td>\n",
       "      <td>kim</td>\n",
       "      <td>mail.com</td>\n",
       "      <td>11</td>\n",
       "    </tr>\n",
       "  </tbody>\n",
       "</table>\n",
       "</div>"
      ],
      "text/plain": [
       "   CustomerID   CustomerName              Email FirstName LastName  \\\n",
       "0         201     Anna Bell    ANNA123@MAIL.COM      Anna     Bell   \n",
       "1         202  michael smith   m.smith@work.net   michael    smith   \n",
       "2         203  KAREN JOHNSON  KARENJ@domain.com     KAREN  JOHNSON   \n",
       "3         204   james o'neal     jameso@now.com     james   o'neal   \n",
       "4         205      lisa kim   lisa_kim@mail.com      lisa      kim   \n",
       "\n",
       "  EmailDomain  NameLength  \n",
       "0    MAIL.COM          11  \n",
       "1    work.net          13  \n",
       "2  domain.com          13  \n",
       "3     now.com          12  \n",
       "4    mail.com          11  "
      ]
     },
     "execution_count": 87,
     "metadata": {},
     "output_type": "execute_result"
    }
   ],
   "source": [
    "df['NameLength']=df['CustomerName'].str.len()\n",
    "df"
   ]
  },
  {
   "cell_type": "markdown",
   "id": "cd66e0c7-43d5-45ca-82b5-c2756c4ae646",
   "metadata": {},
   "source": [
    "# 13.  Count how many customers have names longer than 10 characters. "
   ]
  },
  {
   "cell_type": "code",
   "execution_count": 101,
   "id": "3b1d1430-d232-46f8-b738-b8962e2b809a",
   "metadata": {},
   "outputs": [
    {
     "data": {
      "text/plain": [
       "np.int64(5)"
      ]
     },
     "execution_count": 101,
     "metadata": {},
     "output_type": "execute_result"
    }
   ],
   "source": [
    "df['CustomerName'].str.len().gt(10).sum()\n"
   ]
  },
  {
   "cell_type": "markdown",
   "id": "0652b9cf-65fd-4118-8db5-df18e6e9ce6b",
   "metadata": {},
   "source": [
    "# 14.  How many unique domains are in the Email column? "
   ]
  },
  {
   "cell_type": "code",
   "execution_count": 104,
   "id": "f977ffbb-7eb2-4630-a53a-f45c14474d56",
   "metadata": {},
   "outputs": [
    {
     "data": {
      "text/plain": [
       "5"
      ]
     },
     "execution_count": 104,
     "metadata": {},
     "output_type": "execute_result"
    }
   ],
   "source": [
    "df['Email'].str.split('@').str[1].nunique()"
   ]
  },
  {
   "cell_type": "code",
   "execution_count": null,
   "id": "8d1776f8-dd14-4247-8800-3cc653c33d8a",
   "metadata": {},
   "outputs": [],
   "source": []
  }
 ],
 "metadata": {
  "kernelspec": {
   "display_name": "Python 3 (ipykernel)",
   "language": "python",
   "name": "python3"
  },
  "language_info": {
   "codemirror_mode": {
    "name": "ipython",
    "version": 3
   },
   "file_extension": ".py",
   "mimetype": "text/x-python",
   "name": "python",
   "nbconvert_exporter": "python",
   "pygments_lexer": "ipython3",
   "version": "3.12.10"
  }
 },
 "nbformat": 4,
 "nbformat_minor": 5
}
