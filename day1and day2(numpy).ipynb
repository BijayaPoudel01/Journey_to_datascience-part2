{
 "cells": [
  {
   "cell_type": "markdown",
   "id": "57b3e12f-39ee-4959-98f3-b9e208b06c0a",
   "metadata": {},
   "source": [
    "# Numpy(numerical python)\n",
    "**Numpy is a python library used for numerical and scientific computing.**"
   ]
  },
  {
   "cell_type": "code",
   "execution_count": 1,
   "id": "3914cebc-5ac6-468a-a14a-486e77cd8ce4",
   "metadata": {},
   "outputs": [
    {
     "name": "stdout",
     "output_type": "stream",
     "text": [
      "Requirement already satisfied: numpy in c:\\users\\hp\\appdata\\local\\programs\\python\\python312\\lib\\site-packages (2.2.5)\n"
     ]
    },
    {
     "name": "stderr",
     "output_type": "stream",
     "text": [
      "\n",
      "[notice] A new release of pip is available: 25.0.1 -> 25.1\n",
      "[notice] To update, run: python.exe -m pip install --upgrade pip\n"
     ]
    }
   ],
   "source": [
    "!pip install numpy"
   ]
  },
  {
   "cell_type": "code",
   "execution_count": 2,
   "id": "c1c4a0b9-422d-4fda-aeb9-4a5bd069fc0f",
   "metadata": {},
   "outputs": [
    {
     "name": "stdout",
     "output_type": "stream",
     "text": [
      "[10, 20, 30, 40, 50]\n",
      "<class 'list'>\n"
     ]
    }
   ],
   "source": [
    "import numpy as np\n",
    "lst=[10,20,30,40,50]\n",
    "print(lst)\n",
    "print(type(lst))"
   ]
  },
  {
   "cell_type": "code",
   "execution_count": null,
   "id": "9319b121-52a1-4aff-9fa4-d25384e60be2",
   "metadata": {},
   "outputs": [],
   "source": []
  },
  {
   "cell_type": "markdown",
   "id": "f9bd29ca-4fdd-4346-bb14-44e54e5a0ea3",
   "metadata": {},
   "source": [
    "## **convert list into array( different attributes in numpy array (shape , size , dimension )**\n",
    "#### 1 dimensional array"
   ]
  },
  {
   "cell_type": "code",
   "execution_count": 3,
   "id": "b29aa9e0-f189-4202-879a-8ebb32b5e8ad",
   "metadata": {},
   "outputs": [
    {
     "name": "stdout",
     "output_type": "stream",
     "text": [
      "[10 20 30 40 50]\n",
      "<class 'numpy.ndarray'>\n"
     ]
    }
   ],
   "source": [
    "arr=np.array(lst)\n",
    "print(arr)\n",
    "print(type(arr))"
   ]
  },
  {
   "cell_type": "code",
   "execution_count": 4,
   "id": "86763fc1-fd01-4e14-ac12-7a9cf2cf494b",
   "metadata": {},
   "outputs": [
    {
     "data": {
      "text/plain": [
       "array([10, 20, 30, 40, 50])"
      ]
     },
     "execution_count": 4,
     "metadata": {},
     "output_type": "execute_result"
    }
   ],
   "source": [
    "arr"
   ]
  },
  {
   "cell_type": "code",
   "execution_count": 5,
   "id": "46d31a8b-d46b-4569-a12c-c0b7a833772a",
   "metadata": {},
   "outputs": [
    {
     "data": {
      "text/plain": [
       "1"
      ]
     },
     "execution_count": 5,
     "metadata": {},
     "output_type": "execute_result"
    }
   ],
   "source": [
    "arr.ndim   #array.ndim gives dimension of array"
   ]
  },
  {
   "cell_type": "code",
   "execution_count": 6,
   "id": "5e17df5a-7e2d-4e49-92c7-3121e70974d4",
   "metadata": {},
   "outputs": [
    {
     "data": {
      "text/plain": [
       "5"
      ]
     },
     "execution_count": 6,
     "metadata": {},
     "output_type": "execute_result"
    }
   ],
   "source": [
    "arr.size #gives total no of elements present in array."
   ]
  },
  {
   "cell_type": "code",
   "execution_count": 7,
   "id": "55c4fbe5-13a2-4694-a95d-dc1404f91dca",
   "metadata": {},
   "outputs": [
    {
     "data": {
      "text/plain": [
       "(5,)"
      ]
     },
     "execution_count": 7,
     "metadata": {},
     "output_type": "execute_result"
    }
   ],
   "source": [
    "arr.shape #array shape of 5 in a 1 direction."
   ]
  },
  {
   "cell_type": "markdown",
   "id": "a460e129-edc9-496d-b1ae-949d4a59c892",
   "metadata": {},
   "source": [
    " #### 2 dimensional array"
   ]
  },
  {
   "cell_type": "code",
   "execution_count": 8,
   "id": "188bee20-5ab0-492e-a6a1-0c8a70ca26b7",
   "metadata": {},
   "outputs": [
    {
     "data": {
      "text/plain": [
       "[2, 4, 5, 6]"
      ]
     },
     "execution_count": 8,
     "metadata": {},
     "output_type": "execute_result"
    }
   ],
   "source": [
    "lst2=[[2,4,5,6],[2,7,3,4],[50,6,8,7]]\n",
    "lst2[0]\n"
   ]
  },
  {
   "cell_type": "code",
   "execution_count": 9,
   "id": "35c0d041-8c26-4252-b21d-704f12264d33",
   "metadata": {},
   "outputs": [
    {
     "data": {
      "text/plain": [
       "array([[ 2,  4,  5,  6],\n",
       "       [ 2,  7,  3,  4],\n",
       "       [50,  6,  8,  7]])"
      ]
     },
     "execution_count": 9,
     "metadata": {},
     "output_type": "execute_result"
    }
   ],
   "source": [
    "arr2d=np.array(lst2)\n",
    "arr2d"
   ]
  },
  {
   "cell_type": "code",
   "execution_count": 11,
   "id": "050eb9a7-c5d5-4e11-a9ad-89f44c621f37",
   "metadata": {},
   "outputs": [
    {
     "data": {
      "text/plain": [
       "2"
      ]
     },
     "execution_count": 11,
     "metadata": {},
     "output_type": "execute_result"
    }
   ],
   "source": [
    "arr2d.ndim  #note:list is heterogeneous and array is homogeneous."
   ]
  },
  {
   "cell_type": "code",
   "execution_count": 12,
   "id": "4c23ebe0-abf1-489e-b082-c692df71e803",
   "metadata": {},
   "outputs": [
    {
     "data": {
      "text/plain": [
       "(3, 4)"
      ]
     },
     "execution_count": 12,
     "metadata": {},
     "output_type": "execute_result"
    }
   ],
   "source": [
    "arr2d.shape"
   ]
  },
  {
   "cell_type": "code",
   "execution_count": 13,
   "id": "c91b81d1-8f99-4b54-b01b-e2a06e442b46",
   "metadata": {},
   "outputs": [
    {
     "data": {
      "text/plain": [
       "12"
      ]
     },
     "execution_count": 13,
     "metadata": {},
     "output_type": "execute_result"
    }
   ],
   "source": [
    "arr2d.size"
   ]
  },
  {
   "cell_type": "markdown",
   "id": "7accaf61-edaa-494f-8cad-a9bc201ebc67",
   "metadata": {},
   "source": [
    "#### 3 dimensional array"
   ]
  },
  {
   "cell_type": "code",
   "execution_count": 19,
   "id": "7e16bda6-ea2e-4b3b-8485-6756415b9ee2",
   "metadata": {},
   "outputs": [
    {
     "data": {
      "text/plain": [
       "[[1, 2, 3], [4, 5, 6], [5, 6, 7]]"
      ]
     },
     "execution_count": 19,
     "metadata": {},
     "output_type": "execute_result"
    }
   ],
   "source": [
    "lst1=[[1,2,3],[4,5,6],[5,6,7]]\n",
    "lst2=[[8,9,10],[1,2,4],[4,8,9]]\n",
    "lst3=[lst1,lst2]\n",
    "lst3\n",
    "lst3[0]"
   ]
  },
  {
   "cell_type": "code",
   "execution_count": 21,
   "id": "da427d29-dbdd-470d-8dcc-544b727dc2af",
   "metadata": {},
   "outputs": [
    {
     "data": {
      "text/plain": [
       "array([[[ 1,  2,  3],\n",
       "        [ 4,  5,  6],\n",
       "        [ 5,  6,  7]],\n",
       "\n",
       "       [[ 8,  9, 10],\n",
       "        [ 1,  2,  4],\n",
       "        [ 4,  8,  9]]])"
      ]
     },
     "execution_count": 21,
     "metadata": {},
     "output_type": "execute_result"
    }
   ],
   "source": [
    "arr3d=np.array(lst3)\n",
    "arr3d"
   ]
  },
  {
   "cell_type": "code",
   "execution_count": 22,
   "id": "2cf7ee73-56a5-4bb7-a9df-50a702b701ff",
   "metadata": {},
   "outputs": [
    {
     "data": {
      "text/plain": [
       "3"
      ]
     },
     "execution_count": 22,
     "metadata": {},
     "output_type": "execute_result"
    }
   ],
   "source": [
    "arr3d.ndim"
   ]
  },
  {
   "cell_type": "code",
   "execution_count": 23,
   "id": "3f581348-b632-45d0-adf1-ad8ef70fcbcf",
   "metadata": {},
   "outputs": [
    {
     "data": {
      "text/plain": [
       "(2, 3, 3)"
      ]
     },
     "execution_count": 23,
     "metadata": {},
     "output_type": "execute_result"
    }
   ],
   "source": [
    "arr3d.shape  #here in output 2 is two dimesional type, and 3 ,3 is rows and columns)"
   ]
  },
  {
   "cell_type": "code",
   "execution_count": 24,
   "id": "e17c9545-3977-474d-9b80-bbf6e227e9df",
   "metadata": {},
   "outputs": [
    {
     "data": {
      "text/plain": [
       "18"
      ]
     },
     "execution_count": 24,
     "metadata": {},
     "output_type": "execute_result"
    }
   ],
   "source": [
    "arr3d.size"
   ]
  },
  {
   "cell_type": "code",
   "execution_count": null,
   "id": "6c22240e-5a25-430e-b3e8-c4e872d5c259",
   "metadata": {},
   "outputs": [],
   "source": []
  },
  {
   "cell_type": "markdown",
   "id": "151206b8-fd89-45b0-922b-dd868793151a",
   "metadata": {},
   "source": [
    "## **data types**\n",
    "#### float into integer"
   ]
  },
  {
   "cell_type": "code",
   "execution_count": 25,
   "id": "86f9574e-e756-48d9-981f-65be69349dc3",
   "metadata": {},
   "outputs": [
    {
     "data": {
      "text/plain": [
       "array([10.3  , 10.33 , 30.888,  9.7  ])"
      ]
     },
     "execution_count": 25,
     "metadata": {},
     "output_type": "execute_result"
    }
   ],
   "source": [
    "data=[10.3,10.33,30.888,9.7]\n",
    "np.array(data)"
   ]
  },
  {
   "cell_type": "code",
   "execution_count": 26,
   "id": "e82a59e7-7655-4058-85ea-cfc76ac79dce",
   "metadata": {},
   "outputs": [
    {
     "data": {
      "text/plain": [
       "array([10, 10, 30,  9])"
      ]
     },
     "execution_count": 26,
     "metadata": {},
     "output_type": "execute_result"
    }
   ],
   "source": [
    "np.array(data,dtype=int) #by default its always in floating point value.and we convert into int like this."
   ]
  },
  {
   "cell_type": "markdown",
   "id": "5d54177c-20c3-4a6e-a1a5-b1ac25f56e94",
   "metadata": {},
   "source": [
    "## integer into float"
   ]
  },
  {
   "cell_type": "code",
   "execution_count": 27,
   "id": "19336472-81c2-4b90-ad14-72487dfcb0ec",
   "metadata": {},
   "outputs": [
    {
     "data": {
      "text/plain": [
       "array([1., 2., 3., 4., 5.])"
      ]
     },
     "execution_count": 27,
     "metadata": {},
     "output_type": "execute_result"
    }
   ],
   "source": [
    "\n",
    "hi=[1,2,3,4,5]\n",
    "np.array(hi,dtype=float)"
   ]
  },
  {
   "cell_type": "markdown",
   "id": "364ad239-7d4f-4b22-9197-a45e318a600e",
   "metadata": {},
   "source": [
    "## boolean(true or false):everything except 0 is true.eg:-100,-1,2 etc."
   ]
  },
  {
   "cell_type": "code",
   "execution_count": 28,
   "id": "eaaa4c88-4abf-4871-b267-e71b619f69e4",
   "metadata": {},
   "outputs": [
    {
     "data": {
      "text/plain": [
       "array([ True, False,  True,  True])"
      ]
     },
     "execution_count": 28,
     "metadata": {},
     "output_type": "execute_result"
    }
   ],
   "source": [
    "lst=[10,0,-29,70]\n",
    "np.array(lst,dtype=bool)"
   ]
  },
  {
   "cell_type": "code",
   "execution_count": null,
   "id": "380d32ed-002f-44a5-8344-79592188e063",
   "metadata": {},
   "outputs": [],
   "source": []
  }
 ],
 "metadata": {
  "kernelspec": {
   "display_name": "Python 3 (ipykernel)",
   "language": "python",
   "name": "python3"
  },
  "language_info": {
   "codemirror_mode": {
    "name": "ipython",
    "version": 3
   },
   "file_extension": ".py",
   "mimetype": "text/x-python",
   "name": "python",
   "nbconvert_exporter": "python",
   "pygments_lexer": "ipython3",
   "version": "3.12.10"
  }
 },
 "nbformat": 4,
 "nbformat_minor": 5
}
