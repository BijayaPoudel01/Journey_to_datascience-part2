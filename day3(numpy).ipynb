{
 "cells": [
  {
   "cell_type": "code",
   "execution_count": 1,
   "id": "0e45f5e3-1b6b-4b6c-b4ae-a583845920ce",
   "metadata": {},
   "outputs": [],
   "source": [
    "import numpy as np"
   ]
  },
  {
   "cell_type": "markdown",
   "id": "d09b4c43-fe12-4b93-aade-e59d5a6e24b3",
   "metadata": {},
   "source": [
    "## random number generation for 1d, 2d, 3d, special function(zeros,ones,identity)\n",
    "### 0 to 1 range"
   ]
  },
  {
   "cell_type": "code",
   "execution_count": 40,
   "id": "94799be8-5296-4df6-b897-2b4c5c53de34",
   "metadata": {},
   "outputs": [
    {
     "data": {
      "text/plain": [
       "array([0.80650702, 0.30847803, 0.20106705, 0.53347035, 0.88028022])"
      ]
     },
     "execution_count": 40,
     "metadata": {},
     "output_type": "execute_result"
    }
   ],
   "source": [
    "arr=np.random.random(5)\n",
    "arr   #by default output is given in float #range in o and 1"
   ]
  },
  {
   "cell_type": "code",
   "execution_count": 3,
   "id": "a9d47ccb-d597-49f0-b984-ab11b7011232",
   "metadata": {},
   "outputs": [
    {
     "data": {
      "text/plain": [
       "array([[0.60256974, 0.19081157, 0.71481939],\n",
       "       [0.98452449, 0.77822087, 0.39777894]])"
      ]
     },
     "execution_count": 3,
     "metadata": {},
     "output_type": "execute_result"
    }
   ],
   "source": [
    "np.random.random((2,3))\n"
   ]
  },
  {
   "cell_type": "code",
   "execution_count": 41,
   "id": "3047d914-a2eb-49c5-9f70-90c188b153ff",
   "metadata": {},
   "outputs": [
    {
     "data": {
      "text/plain": [
       "array([[[0.00184451, 0.76322755, 0.93179539, 0.65940019],\n",
       "        [0.45204262, 0.23501631, 0.46232877, 0.94217659],\n",
       "        [0.45515114, 0.01742376, 0.96040868, 0.8692236 ]],\n",
       "\n",
       "       [[0.13784819, 0.93107929, 0.74831206, 0.48351903],\n",
       "        [0.75612418, 0.12778197, 0.37634444, 0.09066443],\n",
       "        [0.3700837 , 0.10359275, 0.22924737, 0.33506656]],\n",
       "\n",
       "       [[0.02001835, 0.7692637 , 0.23691915, 0.24260008],\n",
       "        [0.1474485 , 0.18582437, 0.76986162, 0.41352936],\n",
       "        [0.75446675, 0.16667483, 0.28639743, 0.69462693]]])"
      ]
     },
     "execution_count": 41,
     "metadata": {},
     "output_type": "execute_result"
    }
   ],
   "source": [
    "np.random.random((3,3,4))"
   ]
  },
  {
   "cell_type": "code",
   "execution_count": 46,
   "id": "acab5930-3e18-4edc-93b4-83631ef39032",
   "metadata": {},
   "outputs": [
    {
     "data": {
      "text/plain": [
       "array([[[ 8.98789389, 10.21144588,  3.62138817, 15.15142035],\n",
       "        [14.55607486, 26.31045142, 34.14475472, 11.35449527],\n",
       "        [ 8.066058  , 24.75639037, 25.43722253, 14.40712612]],\n",
       "\n",
       "       [[26.54465725, 12.63665074, 33.30580693, 27.35330714],\n",
       "        [19.00961919, 33.85296854, 20.34888899, 32.32930344],\n",
       "        [15.32675603, 27.22423914,  9.85735346, 10.44686239]]])"
      ]
     },
     "execution_count": 46,
     "metadata": {},
     "output_type": "execute_result"
    }
   ],
   "source": [
    "np.random.random((2,3,4))*40"
   ]
  },
  {
   "cell_type": "markdown",
   "id": "9398258a-05f6-4848-bb15-648c861c0e87",
   "metadata": {},
   "source": [
    "### now if we want to give range ourselves."
   ]
  },
  {
   "cell_type": "markdown",
   "id": "3e873700-1328-4b87-95a1-5bc9e4a7ef78",
   "metadata": {},
   "source": [
    "#### 50 to 80"
   ]
  },
  {
   "cell_type": "code",
   "execution_count": 49,
   "id": "377022bf-a90d-4c0e-8a93-59ef3752116e",
   "metadata": {},
   "outputs": [
    {
     "data": {
      "text/plain": [
       "array([750, 391,  55,  66, 133], dtype=int32)"
      ]
     },
     "execution_count": 49,
     "metadata": {},
     "output_type": "execute_result"
    }
   ],
   "source": [
    "np.random.randint(5,800,5) #50 and 80 is range and 10 is 10 random values gives. this is for 1 dimension"
   ]
  },
  {
   "cell_type": "code",
   "execution_count": 7,
   "id": "ff74070e-0f56-4a95-bdc0-5da6f022ac45",
   "metadata": {},
   "outputs": [
    {
     "data": {
      "text/plain": [
       "array([[77, 57, 58],\n",
       "       [72, 55, 74],\n",
       "       [76, 58, 51],\n",
       "       [65, 62, 62]], dtype=int32)"
      ]
     },
     "execution_count": 7,
     "metadata": {},
     "output_type": "execute_result"
    }
   ],
   "source": [
    "np.random.randint(50,80, size=(4,3))  #this is two dimension."
   ]
  },
  {
   "cell_type": "code",
   "execution_count": 50,
   "id": "b546c12c-5f7a-4d4e-bd2a-8562fa079ca6",
   "metadata": {},
   "outputs": [
    {
     "data": {
      "text/plain": [
       "array([[[91, 99, 97],\n",
       "        [92, 98, 97],\n",
       "        [92, 94, 90]],\n",
       "\n",
       "       [[97, 91, 95],\n",
       "        [90, 92, 92],\n",
       "        [92, 93, 94]]], dtype=int32)"
      ]
     },
     "execution_count": 50,
     "metadata": {},
     "output_type": "execute_result"
    }
   ],
   "source": [
    "np.random.randint(90,100, size=(2,3,3)) #this is three dimension."
   ]
  },
  {
   "cell_type": "markdown",
   "id": "ce4a4bca-a2bf-4e37-9cf3-f5b5bf068637",
   "metadata": {},
   "source": [
    "\n",
    "## special function in numpy(zeros, ones, identity)\n",
    "#### zeros"
   ]
  },
  {
   "cell_type": "code",
   "execution_count": 9,
   "id": "b5fcb323-d514-4cf4-96d8-6494831f590d",
   "metadata": {},
   "outputs": [
    {
     "data": {
      "text/plain": [
       "array([0, 0, 0, 0, 0, 0, 0, 0, 0, 0])"
      ]
     },
     "execution_count": 9,
     "metadata": {},
     "output_type": "execute_result"
    }
   ],
   "source": [
    "np.zeros(10,dtype=int) #gives 10 zeros number"
   ]
  },
  {
   "cell_type": "code",
   "execution_count": 10,
   "id": "871c5861-edda-421d-bae4-7dd076d45c7a",
   "metadata": {},
   "outputs": [
    {
     "data": {
      "text/plain": [
       "array([0., 0., 0., 0., 0., 0., 0., 0., 0., 0., 0., 0., 0., 0., 0.])"
      ]
     },
     "execution_count": 10,
     "metadata": {},
     "output_type": "execute_result"
    }
   ],
   "source": [
    "np.zeros(15)"
   ]
  },
  {
   "cell_type": "code",
   "execution_count": 51,
   "id": "33f77302-3c41-4dbe-822f-d7c8ea79cf2c",
   "metadata": {},
   "outputs": [
    {
     "data": {
      "text/plain": [
       "array([[False, False, False],\n",
       "       [False, False, False],\n",
       "       [False, False, False],\n",
       "       [False, False, False]])"
      ]
     },
     "execution_count": 51,
     "metadata": {},
     "output_type": "execute_result"
    }
   ],
   "source": [
    "np.zeros((4,3),dtype=bool)"
   ]
  },
  {
   "cell_type": "code",
   "execution_count": 12,
   "id": "b24a7496-f6b2-4d2e-bccd-9173f7293048",
   "metadata": {},
   "outputs": [
    {
     "data": {
      "text/plain": [
       "array([[[0, 0, 0],\n",
       "        [0, 0, 0],\n",
       "        [0, 0, 0]],\n",
       "\n",
       "       [[0, 0, 0],\n",
       "        [0, 0, 0],\n",
       "        [0, 0, 0]],\n",
       "\n",
       "       [[0, 0, 0],\n",
       "        [0, 0, 0],\n",
       "        [0, 0, 0]]])"
      ]
     },
     "execution_count": 12,
     "metadata": {},
     "output_type": "execute_result"
    }
   ],
   "source": [
    "np.zeros((3,3,3),dtype=int)"
   ]
  },
  {
   "cell_type": "code",
   "execution_count": 13,
   "id": "52d467be-43db-4616-b160-5b8f0eadbb2b",
   "metadata": {},
   "outputs": [
    {
     "data": {
      "text/plain": [
       "array([[False, False],\n",
       "       [False, False]])"
      ]
     },
     "execution_count": 13,
     "metadata": {},
     "output_type": "execute_result"
    }
   ],
   "source": [
    "np.zeros((2,2),dtype=bool)"
   ]
  },
  {
   "cell_type": "markdown",
   "id": "ed2f56e9-426f-4bf5-ad85-52d5f9328c07",
   "metadata": {},
   "source": [
    "  #### ones"
   ]
  },
  {
   "cell_type": "code",
   "execution_count": 14,
   "id": "2aaee343-cf14-475e-9e14-f2dffec3e63e",
   "metadata": {},
   "outputs": [
    {
     "data": {
      "text/plain": [
       "array([[ True,  True],\n",
       "       [ True,  True]])"
      ]
     },
     "execution_count": 14,
     "metadata": {},
     "output_type": "execute_result"
    }
   ],
   "source": [
    "np.ones((2,2),dtype=bool)"
   ]
  },
  {
   "cell_type": "markdown",
   "id": "a2f0ad4d-30bd-418d-a3c8-a13920606f30",
   "metadata": {},
   "source": [
    " #### identity"
   ]
  },
  {
   "cell_type": "code",
   "execution_count": 15,
   "id": "4581ae90-9ce0-4c09-ad92-a114076b6fa3",
   "metadata": {},
   "outputs": [
    {
     "data": {
      "text/plain": [
       "array([[ True, False],\n",
       "       [False,  True]])"
      ]
     },
     "execution_count": 15,
     "metadata": {},
     "output_type": "execute_result"
    }
   ],
   "source": [
    "np.identity(2,dtype=bool)"
   ]
  },
  {
   "cell_type": "code",
   "execution_count": 52,
   "id": "d20993f7-621d-4e4e-97d2-ecb86f5b079c",
   "metadata": {},
   "outputs": [
    {
     "data": {
      "text/plain": [
       "array([[1, 0, 0, 0, 0],\n",
       "       [0, 1, 0, 0, 0],\n",
       "       [0, 0, 1, 0, 0],\n",
       "       [0, 0, 0, 1, 0],\n",
       "       [0, 0, 0, 0, 1]])"
      ]
     },
     "execution_count": 52,
     "metadata": {},
     "output_type": "execute_result"
    }
   ],
   "source": [
    "np.identity((5),dtype=int)"
   ]
  },
  {
   "cell_type": "markdown",
   "id": "d414364b-6aba-4e69-9b1e-4e8fcbc50173",
   "metadata": {},
   "source": [
    "#### different arithmetic operators"
   ]
  },
  {
   "cell_type": "code",
   "execution_count": 55,
   "id": "02bf2a9d-a1a5-4447-bc34-ef155d1fedd9",
   "metadata": {},
   "outputs": [
    {
     "data": {
      "text/plain": [
       "array([[58, 52],\n",
       "       [42, 56]], dtype=int32)"
      ]
     },
     "execution_count": 55,
     "metadata": {},
     "output_type": "execute_result"
    }
   ],
   "source": [
    "arr1=np.random.randint(40,60,size=(2,2))\n",
    "arr2=np.random.randint(40,60,size=(2,2))\n",
    "arr1 "
   ]
  },
  {
   "cell_type": "code",
   "execution_count": 56,
   "id": "75bf39b2-aeb7-42ca-aef5-4726b4282efb",
   "metadata": {},
   "outputs": [
    {
     "data": {
      "text/plain": [
       "array([[42, 48],\n",
       "       [53, 53]], dtype=int32)"
      ]
     },
     "execution_count": 56,
     "metadata": {},
     "output_type": "execute_result"
    }
   ],
   "source": [
    "arr2"
   ]
  },
  {
   "cell_type": "code",
   "execution_count": 57,
   "id": "4bba53bb-3e6d-489d-a7e5-0382de7b2461",
   "metadata": {},
   "outputs": [
    {
     "data": {
      "text/plain": [
       "array([[100, 100],\n",
       "       [ 95, 109]], dtype=int32)"
      ]
     },
     "execution_count": 57,
     "metadata": {},
     "output_type": "execute_result"
    }
   ],
   "source": [
    "arr1+arr2 #addition"
   ]
  },
  {
   "cell_type": "code",
   "execution_count": 20,
   "id": "db91d952-3efd-4450-a499-268665f00a8d",
   "metadata": {},
   "outputs": [
    {
     "data": {
      "text/plain": [
       "array([[ 4, -6],\n",
       "       [ 2,  0]], dtype=int32)"
      ]
     },
     "execution_count": 20,
     "metadata": {},
     "output_type": "execute_result"
    }
   ],
   "source": [
    "arr1-arr2"
   ]
  },
  {
   "cell_type": "code",
   "execution_count": 21,
   "id": "37468e7c-2ece-4559-9b83-14468bab6898",
   "metadata": {},
   "outputs": [
    {
     "data": {
      "text/plain": [
       "array([[2021, 2592],\n",
       "       [1763, 2809]], dtype=int32)"
      ]
     },
     "execution_count": 21,
     "metadata": {},
     "output_type": "execute_result"
    }
   ],
   "source": [
    "arr1*arr2"
   ]
  },
  {
   "cell_type": "markdown",
   "id": "4339ee02-969c-477e-8f7d-4dd271a74d53",
   "metadata": {},
   "source": [
    "## real examples practise\n",
    "### convert degree celcius into feranite."
   ]
  },
  {
   "cell_type": "code",
   "execution_count": 22,
   "id": "186a1880-9bd3-42b7-bf7a-51b9d7966aeb",
   "metadata": {},
   "outputs": [
    {
     "data": {
      "text/plain": [
       "array([50., 68., 32., 32., 32., 32.])"
      ]
     },
     "execution_count": 22,
     "metadata": {},
     "output_type": "execute_result"
    }
   ],
   "source": [
    "temp_in_degree=np.array([10,20,0,0,0,0])\n",
    "#degree to F formula:0°C × 9/5) + 32 = 32°F\n",
    "temp_in_f=temp_in_degree*(9/5)+32\n",
    "temp_in_f"
   ]
  },
  {
   "cell_type": "markdown",
   "id": "7de9ca8c-db75-4c03-a41d-96464b20f92e",
   "metadata": {},
   "source": [
    "#### increase the salaey of every employee by 10%"
   ]
  },
  {
   "cell_type": "code",
   "execution_count": 23,
   "id": "323379a8-6055-4fcc-97ef-0740439a517a",
   "metadata": {},
   "outputs": [
    {
     "data": {
      "text/plain": [
       "array([10000, 20000, 30000])"
      ]
     },
     "execution_count": 23,
     "metadata": {},
     "output_type": "execute_result"
    }
   ],
   "source": [
    "salary=np.array([10000,20000,30000])\n",
    "salary"
   ]
  },
  {
   "cell_type": "code",
   "execution_count": 24,
   "id": "358c57e4-f7c3-42c7-9938-aa16e2594fae",
   "metadata": {},
   "outputs": [
    {
     "data": {
      "text/plain": [
       "array([11000., 22000., 33000.])"
      ]
     },
     "execution_count": 24,
     "metadata": {},
     "output_type": "execute_result"
    }
   ],
   "source": [
    "salary_after_increase=salary*1.1\n",
    "salary_after_increase"
   ]
  },
  {
   "cell_type": "markdown",
   "id": "a6d839bd-892d-485c-8e2b-d13e82bfea1f",
   "metadata": {},
   "source": [
    "#### discount the price of every item by20%"
   ]
  },
  {
   "cell_type": "code",
   "execution_count": 25,
   "id": "d9b12f12-a59d-4e4e-a18c-7fcd8f7906a0",
   "metadata": {},
   "outputs": [
    {
     "data": {
      "text/plain": [
       "array([ 8000., 16000., 24000.])"
      ]
     },
     "execution_count": 25,
     "metadata": {},
     "output_type": "execute_result"
    }
   ],
   "source": [
    "sales_data=np.array([10000,20000,30000])\n",
    "sales_after_discount=sales_data*0.8\n",
    "sales_after_discount"
   ]
  },
  {
   "cell_type": "markdown",
   "id": "fd6fb080-239f-4d42-81c9-73874053bb90",
   "metadata": {},
   "source": [
    "### Different array Operations"
   ]
  },
  {
   "cell_type": "markdown",
   "id": "5a66b4da-fc4b-4b17-bdba-449b3ab306f7",
   "metadata": {},
   "source": [
    "#### scalar operations"
   ]
  },
  {
   "cell_type": "code",
   "execution_count": 26,
   "id": "ab34ea46-d19a-4018-9c29-d56121d16ae0",
   "metadata": {},
   "outputs": [
    {
     "data": {
      "text/plain": [
       "array(55)"
      ]
     },
     "execution_count": 26,
     "metadata": {},
     "output_type": "execute_result"
    }
   ],
   "source": [
    "#adding constant value\n",
    "arr=np.array(55)\n",
    "arr"
   ]
  },
  {
   "cell_type": "code",
   "execution_count": 27,
   "id": "0770a641-712d-4b61-ae02-2b764d809b12",
   "metadata": {},
   "outputs": [
    {
     "data": {
      "text/plain": [
       "np.int64(65)"
      ]
     },
     "execution_count": 27,
     "metadata": {},
     "output_type": "execute_result"
    }
   ],
   "source": [
    "arr+10"
   ]
  },
  {
   "cell_type": "code",
   "execution_count": 28,
   "id": "69ee45ff-a3c0-4d81-85b0-c447ca73e36f",
   "metadata": {},
   "outputs": [
    {
     "data": {
      "text/plain": [
       "np.int64(35)"
      ]
     },
     "execution_count": 28,
     "metadata": {},
     "output_type": "execute_result"
    }
   ],
   "source": [
    "arr-20"
   ]
  },
  {
   "cell_type": "markdown",
   "id": "5a836e24-2513-42ed-9a2a-40be3271392d",
   "metadata": {},
   "source": [
    "#### vector operations"
   ]
  },
  {
   "cell_type": "code",
   "execution_count": 29,
   "id": "6d8471ed-84af-47c8-9dde-565e88893837",
   "metadata": {},
   "outputs": [
    {
     "data": {
      "text/plain": [
       "array([22, 80])"
      ]
     },
     "execution_count": 29,
     "metadata": {},
     "output_type": "execute_result"
    }
   ],
   "source": [
    "arr1=np.array([22,80]) \n",
    "arr1"
   ]
  },
  {
   "cell_type": "code",
   "execution_count": 30,
   "id": "95a0c129-d8a5-4365-acb6-63a27f0c779c",
   "metadata": {},
   "outputs": [
    {
     "data": {
      "text/plain": [
       "array([23, 83])"
      ]
     },
     "execution_count": 30,
     "metadata": {},
     "output_type": "execute_result"
    }
   ],
   "source": [
    "arr2=np.array([1,3])\n",
    "arr3=arr1+arr2\n",
    "arr3"
   ]
  },
  {
   "cell_type": "markdown",
   "id": "2d3a3190-0981-4f75-b174-fe152d737bb7",
   "metadata": {},
   "source": [
    "### Indexing and slicing\n"
   ]
  },
  {
   "cell_type": "code",
   "execution_count": 58,
   "id": "cc158e04-8aee-49bf-9991-f69735532311",
   "metadata": {},
   "outputs": [
    {
     "data": {
      "text/plain": [
       "array([86, 69, 78, 72, 73, 83, 73,  6, 49, 64], dtype=int32)"
      ]
     },
     "execution_count": 58,
     "metadata": {},
     "output_type": "execute_result"
    }
   ],
   "source": [
    "arr1=np.random.randint(1,100,10)\n",
    "arr1"
   ]
  },
  {
   "cell_type": "code",
   "execution_count": 59,
   "id": "852b1ae3-0980-4d33-a818-62acd78c1d1c",
   "metadata": {},
   "outputs": [
    {
     "data": {
      "text/plain": [
       "np.int32(64)"
      ]
     },
     "execution_count": 59,
     "metadata": {},
     "output_type": "execute_result"
    }
   ],
   "source": [
    "arr1[-1] #indexing"
   ]
  },
  {
   "cell_type": "code",
   "execution_count": 33,
   "id": "527d4400-6b03-46d1-9262-66ba8733f3e6",
   "metadata": {},
   "outputs": [
    {
     "data": {
      "text/plain": [
       "array([23, 88, 63, 51, 37], dtype=int32)"
      ]
     },
     "execution_count": 33,
     "metadata": {},
     "output_type": "execute_result"
    }
   ],
   "source": [
    "arr1[0:10:2]  #slicing"
   ]
  },
  {
   "cell_type": "code",
   "execution_count": 34,
   "id": "f7415f91-24e4-4a00-84ea-f1e2be3ecfd6",
   "metadata": {},
   "outputs": [
    {
     "data": {
      "text/plain": [
       "array([92, 37, 31], dtype=int32)"
      ]
     },
     "execution_count": 34,
     "metadata": {},
     "output_type": "execute_result"
    }
   ],
   "source": [
    "arr1[-3::]"
   ]
  },
  {
   "cell_type": "code",
   "execution_count": 60,
   "id": "268833a7-6b11-4ba4-b0e9-54a1b8e9ca9d",
   "metadata": {},
   "outputs": [
    {
     "data": {
      "text/plain": [
       "array([64, 49,  6], dtype=int32)"
      ]
     },
     "execution_count": 60,
     "metadata": {},
     "output_type": "execute_result"
    }
   ],
   "source": [
    "arr1[-1:6:-1]"
   ]
  },
  {
   "cell_type": "code",
   "execution_count": null,
   "id": "def5d38b-9064-44c4-a15f-6990fd82dcb1",
   "metadata": {},
   "outputs": [],
   "source": []
  }
 ],
 "metadata": {
  "kernelspec": {
   "display_name": "Python 3 (ipykernel)",
   "language": "python",
   "name": "python3"
  },
  "language_info": {
   "codemirror_mode": {
    "name": "ipython",
    "version": 3
   },
   "file_extension": ".py",
   "mimetype": "text/x-python",
   "name": "python",
   "nbconvert_exporter": "python",
   "pygments_lexer": "ipython3",
   "version": "3.12.10"
  }
 },
 "nbformat": 4,
 "nbformat_minor": 5
}
